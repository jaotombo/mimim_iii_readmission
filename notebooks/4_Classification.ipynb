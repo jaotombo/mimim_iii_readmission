{
 "cells": [
  {
   "cell_type": "markdown",
   "id": "39c464e0",
   "metadata": {
    "id": "39c464e0"
   },
   "source": [
    "# Classification"
   ]
  },
  {
   "cell_type": "code",
   "execution_count": 144,
   "id": "dadefae3",
   "metadata": {
    "colab": {
     "base_uri": "https://localhost:8080/"
    },
    "id": "dadefae3",
    "outputId": "e9d79146-ee91-4e19-f7c9-27b4d2a9727d"
   },
   "outputs": [],
   "source": [
    "# Import libraries\n",
    "import numpy as np\n",
    "import pandas as pd\n",
    "import os\n",
    "import random\n",
    "import dill\n",
    "import pickle\n",
    "from tabulate import tabulate\n",
    "\n",
    "import sys\n",
    "\n",
    "import warnings\n",
    "warnings.filterwarnings(\"ignore\")\n",
    "\n",
    "from sklearn.metrics import roc_auc_score\n",
    "from sklearn.model_selection import RandomizedSearchCV, GridSearchCV\n",
    "from sklearn.ensemble import RandomForestClassifier\n",
    "from sklearn.tree import DecisionTreeClassifier\n",
    "from sklearn.linear_model import LogisticRegression\n",
    "from sklearn.ensemble import BaggingClassifier\n",
    "from sklearn.ensemble import GradientBoostingClassifier\n",
    "import lightgbm as lgb\n",
    "from sklearn.metrics import precision_recall_curve\n",
    "from sklearn import metrics\n",
    "from hmeasure import h_score\n",
    "try:\n",
    "  from catboost import CatBoostClassifier\n",
    "except:\n",
    "  !pip install catboost\n",
    "  from catboost import CatBoostClassifier\n",
    "\n",
    "import time\n",
    "from datetime import timedelta"
   ]
  },
  {
   "cell_type": "code",
   "execution_count": 145,
   "id": "2205b1e7",
   "metadata": {
    "colab": {
     "base_uri": "https://localhost:8080/"
    },
    "id": "2205b1e7",
    "outputId": "e4543a9c-c463-4fc2-b393-e42fd55b2a1a"
   },
   "outputs": [
    {
     "name": "stdout",
     "output_type": "stream",
     "text": [
      "C:\\Users\\luca9\\Documents\\MIMIC-III Text Mining\\mimim_iii_readmission\n"
     ]
    }
   ],
   "source": [
    "try:\n",
    "  from google.colab import drive\n",
    "  IN_COLAB=True\n",
    "except:\n",
    "  IN_COLAB=False\n",
    "\n",
    "if IN_COLAB:\n",
    "  print(\"We're running Colab\")\n",
    "\n",
    "if IN_COLAB:  \n",
    "  # Mount the Google Drive at mount\n",
    "  mount='/content/gdrive'\n",
    "  print(\"Colab: mounting Google drive on \", mount)\n",
    "  # connect your colab with the drive\n",
    "  drive.mount(mount)\n",
    "\n",
    " # Switch to the directory on the Google Drive that you want to use\n",
    "  import os\n",
    "  path_to_repo = mount + \"/My Drive/MIMIC-III Text Mining/mimim_iii_readmission\"\n",
    "\n",
    "else:\n",
    "   path_to_repo = os.path.dirname(os.getcwd())\n",
    "\n",
    "  \n",
    "print(path_to_repo)"
   ]
  },
  {
   "cell_type": "code",
   "execution_count": 146,
   "id": "729f43fa",
   "metadata": {
    "colab": {
     "base_uri": "https://localhost:8080/"
    },
    "id": "729f43fa",
    "outputId": "40533f0b-c81c-469c-8954-24ac30711aea"
   },
   "outputs": [
    {
     "name": "stdout",
     "output_type": "stream",
     "text": [
      "C:\\Users\\luca9\\Documents\\MIMIC-III Text Mining\\mimim_iii_readmission\\data\\\n"
     ]
    }
   ],
   "source": [
    "path_to_data = os.path.join(path_to_repo, \"data\",\"\")\n",
    "print(path_to_data)"
   ]
  },
  {
   "cell_type": "code",
   "execution_count": 147,
   "id": "a17b264d",
   "metadata": {
    "colab": {
     "base_uri": "https://localhost:8080/"
    },
    "id": "a17b264d",
    "outputId": "12557a08-55b2-419f-e6f1-af8347719c31"
   },
   "outputs": [
    {
     "name": "stdout",
     "output_type": "stream",
     "text": [
      "C:\\Users\\luca9\\Documents\\MIMIC-III Text Mining\\mimim_iii_readmission\\data\\processed\\\n"
     ]
    }
   ],
   "source": [
    "path_to_processed = os.path.join(path_to_data,\"processed\",\"\")\n",
    "os.makedirs(path_to_processed, exist_ok=True) # we create the directory if it does not exist\n",
    "print(path_to_processed)"
   ]
  },
  {
   "cell_type": "code",
   "execution_count": 148,
   "id": "2d03c45a",
   "metadata": {
    "colab": {
     "base_uri": "https://localhost:8080/"
    },
    "id": "2d03c45a",
    "outputId": "566c6f43-ea46-4432-cc97-17031353915e"
   },
   "outputs": [
    {
     "name": "stdout",
     "output_type": "stream",
     "text": [
      "C:\\Users\\luca9\\Documents\\MIMIC-III Text Mining\\mimim_iii_readmission\\data\\models\\\n"
     ]
    }
   ],
   "source": [
    "path_to_models = os.path.join(path_to_data,\"models\",\"\")\n",
    "os.makedirs(path_to_models, exist_ok=True) # we create the directory if it does not exist\n",
    "print(path_to_models)"
   ]
  },
  {
   "cell_type": "code",
   "execution_count": 149,
   "id": "52eba6db",
   "metadata": {
    "id": "52eba6db"
   },
   "outputs": [],
   "source": [
    "# PARAMETERS\n",
    "\n",
    "session_seed = 10 # set seed for our session\n",
    "include_val = False # set to True if we want to also create a validation set\n",
    "tune_models = False # set to True if we want to perform parameter tuning\n",
    "\n",
    "seed_tag = f'_{session_seed}'\n",
    "\n",
    "if tune_models:\n",
    "  tune_tag = '_tuned'\n",
    "else:\n",
    "  tune_tag = ''\n",
    "\n",
    "random.seed(session_seed)"
   ]
  },
  {
   "cell_type": "markdown",
   "id": "6cbb49c6",
   "metadata": {
    "id": "6cbb49c6"
   },
   "source": [
    "## Train the Models"
   ]
  },
  {
   "cell_type": "code",
   "execution_count": 150,
   "id": "5677bd47",
   "metadata": {
    "id": "5677bd47"
   },
   "outputs": [],
   "source": [
    "def load_datasets(method, include_val = True, target = False):\n",
    "    \"\"\"\n",
    "    Function to load train, test and validation set based on the chosen method\n",
    "    method: string for the processing method we want to load\n",
    "    include_diag: if we want to load the dataframes with the diagnosis text, default True\n",
    "    include_test: if we want to load also the test set, default True\n",
    "    target: if we are importing our target variables\n",
    "    \"\"\"\n",
    "    global path_to_processed\n",
    "    if target == True: \n",
    "        target = 'y_'\n",
    "    else: \n",
    "        target = ''\n",
    "    # load it back\n",
    "    train = pd.read_feather(f'{path_to_processed}{target}train_{method}{seed_tag}')\n",
    "    test = pd.read_feather(f'{path_to_processed}{target}test_{method}{seed_tag}')\n",
    "    if include_val == True:\n",
    "        val = pd.read_feather(f'{path_to_processed}{target}val_{method}{seed_tag}')\n",
    "    else: val = []\n",
    "    return train, test, val"
   ]
  },
  {
   "cell_type": "code",
   "execution_count": 151,
   "id": "94c3a0cd",
   "metadata": {
    "id": "94c3a0cd"
   },
   "outputs": [],
   "source": [
    "y_train, y_test, y_val = load_datasets(method = '', include_val = include_val, target = True)"
   ]
  },
  {
   "cell_type": "code",
   "execution_count": 152,
   "id": "9dd0a6f7",
   "metadata": {
    "id": "9dd0a6f7"
   },
   "outputs": [],
   "source": [
    "# initialize a dictionary for the results of all the models\n",
    "final_train = {}\n",
    "final_val = {}\n",
    "final_test = {}"
   ]
  },
  {
   "cell_type": "code",
   "execution_count": 153,
   "id": "be35822f",
   "metadata": {
    "id": "be35822f"
   },
   "outputs": [],
   "source": [
    "model_dict = {\n",
    "    'log_reg': LogisticRegression(solver = \"saga\", penalty = 'l1', random_state = session_seed, n_jobs = -1) # default penalty is l2, we do lasso\n",
    "    , 'dec_tree': DecisionTreeClassifier(random_state = session_seed)\n",
    "    #, 'bag_tree': BaggingClassifier(base_estimator = DecisionTreeClassifier(), n_estimators = 10, random_state = session_seed, n_jobs = -1)\n",
    "    , 'rand_for': RandomForestClassifier(random_state = session_seed, n_jobs = -1)\n",
    "    , 'gboost': GradientBoostingClassifier(random_state = session_seed)\n",
    "    , 'lightgbm': lgb.LGBMClassifier(random_state = 42, n_jobs = -1, deterministic = True)\n",
    "    , 'catboost': CatBoostClassifier(random_seed = 42)\n",
    "}"
   ]
  },
  {
   "cell_type": "code",
   "execution_count": 154,
   "id": "beuUkt18xXbf",
   "metadata": {
    "id": "beuUkt18xXbf"
   },
   "outputs": [],
   "source": [
    "# PARAMETERS FOR LOGISTIC REGRESSION -------\n",
    "param_en = {'C': np.logspace(-3, 4, 10), 'l1_ratio':np.linspace(0,1,11) }\n",
    "\n",
    "# PARAMETERS FOR DECISION TREE -------------\n",
    "# Number of features to consider at every split\n",
    "max_features = ['auto', 'sqrt']\n",
    "# Maximum number of levels in tree\n",
    "max_depth = [int(x) for x in np.linspace(10, 110, num = 11)]\n",
    "max_depth.append(None)\n",
    "# Minimum number of samples required to split a node\n",
    "min_samples_split = [2, 5, 10]\n",
    "# Minimum number of samples required at each leaf node\n",
    "min_samples_leaf = [1, 2, 4]\n",
    "\n",
    "param_dec = {'max_features': max_features,\n",
    "               'max_depth': max_depth,\n",
    "               'min_samples_split': min_samples_split,\n",
    "               'min_samples_leaf': min_samples_leaf}\n",
    "\n",
    "# PARAMETERS FOR RANDOM FOREST -------\n",
    "# Number of trees in random forest\n",
    "n_estimators = [int(x) for x in np.linspace(start = 100, stop = 500, num = 5)]\n",
    "\n",
    "# Maximum number of samples per tree\n",
    "max_sampl = list(np.arange(0.01,1,0.2))\n",
    "max_sampl.append(None)\n",
    "# Create the random grid\n",
    "param_rf = {'n_estimators': n_estimators,\n",
    "               'max_features': max_features,\n",
    "               'max_depth': max_depth,\n",
    "               'min_samples_split': min_samples_split,\n",
    "               'min_samples_leaf': min_samples_leaf,\n",
    "               'max_samples': max_sampl}\n",
    "\n",
    "# PARAMETERS FOR GRADIENT BOOSTING --------\n",
    "\n",
    "learn_rate = list(np.linspace(0, 1, num = 10))\n",
    "\n",
    "param_gb = {'n_estimators': n_estimators,\n",
    "            'learning_rate': learn_rate,\n",
    "               'max_features': max_features,\n",
    "               'max_depth': max_depth,\n",
    "               'min_samples_split': min_samples_split,\n",
    "               'min_samples_leaf': min_samples_leaf,\n",
    "               'subsamples': list(np.linspace(0, 1, num = 10))}\n",
    "\n",
    "# PARAMETERS FOR LIGHTGBM -----------\n",
    "param_lgb = {'max_depth': max_depth,\n",
    "             'min_data_in_leaf': min_samples_leaf,\n",
    "             'num_iterations': n_estimators,\n",
    "             'learning_rate': learn_rate,\n",
    "             'colsample_bytree': list(np.linspace(0, 1, num = 10)),\n",
    "             'subsample': list(np.linspace(0, 1, num = 10)),\n",
    "             'reg_alpha': [0, 1e-1, 1, 2, 5, 7, 10, 50, 100],\n",
    "             'reg_lambda': [0, 1e-1, 1, 5, 10, 20, 50, 100]}\n",
    "\n",
    "# PARAMETERS FOR CATBOOSTING ------\n",
    "\n",
    "param_cat = {'n_estimators': n_estimators,\n",
    "            'learning_rate': learn_rate,\n",
    "               'rsm': list(np.linspace(0, 1, num = 10)),\n",
    "               'depth': [int(x) for x in np.linspace(10, 110, num = 11)]\n",
    "            , 'l2_leaf_reg': [1, 2, 3, 4, 5, 7, 9, 15, 20]}"
   ]
  },
  {
   "cell_type": "code",
   "execution_count": 155,
   "id": "EzVYyT1S1DuA",
   "metadata": {
    "id": "EzVYyT1S1DuA"
   },
   "outputs": [],
   "source": [
    "param_dictionary = {\n",
    "    'log_reg': param_en\n",
    "    , 'dec_tree': param_dec\n",
    "    #, 'bag_tree': BaggingClassifier(base_estimator = DecisionTreeClassifier(), n_estimators = 10, random_state = session_seed, n_jobs = -1)\n",
    "    , 'rand_for': param_rf\n",
    "    , 'gboost': param_gb\n",
    "    , 'lightgbm': param_lgb\n",
    "    , 'catboost': param_cat\n",
    "}"
   ]
  },
  {
   "cell_type": "code",
   "execution_count": 156,
   "id": "f0a83e3e",
   "metadata": {
    "id": "f0a83e3e"
   },
   "outputs": [],
   "source": [
    "method_list = ['frequency', 'onehot','tf_idf', 'svd', 'lda']"
   ]
  },
  {
   "cell_type": "code",
   "execution_count": 157,
   "id": "53596b2a",
   "metadata": {},
   "outputs": [],
   "source": [
    "def get_main_scores(estimator, df, y):\n",
    "    \"\"\"\n",
    "    Function to get the main scores\n",
    "    \"\"\"\n",
    "    results = {}\n",
    "    probas = estimator.predict_proba(df)[:,1]\n",
    "    results['ROC'] = roc_auc_score(y, probas)\n",
    "    precision, recall, _ = metrics.precision_recall_curve(y, probas)\n",
    "    results['PrRc'] = metrics.auc(recall, precision)\n",
    "    results['HScore'] = h_score(y.to_numpy(), estimator.predict(df))\n",
    "    return results"
   ]
  },
  {
   "cell_type": "code",
   "execution_count": 158,
   "id": "a6553d5b",
   "metadata": {
    "colab": {
     "base_uri": "https://localhost:8080/",
     "height": 1000
    },
    "id": "a6553d5b",
    "outputId": "fbcf04f2-3b7f-41ce-e3fd-138d6c4fb5e6",
    "scrolled": true
   },
   "outputs": [
    {
     "name": "stdout",
     "output_type": "stream",
     "text": [
      "log_reg\n",
      "frequency\n",
      "Model already trained\n",
      "0:00:00\n",
      "ROC Training Set: 0.8371474567365131\n",
      "ROC Test Set: 0.6202382836343906\n",
      "onehot\n",
      "Model already trained\n",
      "0:00:00\n",
      "ROC Training Set: 0.9956003253143796\n",
      "ROC Test Set: 0.6238056636078798\n",
      "tf_idf\n",
      "Model already trained\n",
      "0:00:00\n",
      "ROC Training Set: 0.7514657849604172\n",
      "ROC Test Set: 0.7021246949710185\n",
      "svd\n",
      "Model already trained\n",
      "0:00:00\n",
      "ROC Training Set: 0.6260359511465914\n",
      "ROC Test Set: 0.6083181039919867\n",
      "lda\n",
      "Model already trained\n",
      "0:00:00\n",
      "ROC Training Set: 0.6928253090483725\n",
      "ROC Test Set: 0.6852068614392154\n",
      "dec_tree\n",
      "frequency\n",
      "Model already trained\n",
      "0:00:00\n",
      "ROC Training Set: 1.0\n",
      "ROC Test Set: 0.5517807602321103\n",
      "onehot\n",
      "Model already trained\n",
      "0:00:00\n",
      "ROC Training Set: 1.0\n",
      "ROC Test Set: 0.5364791362252856\n",
      "tf_idf\n",
      "Model already trained\n",
      "0:00:00\n",
      "ROC Training Set: 1.0\n",
      "ROC Test Set: 0.5464123885712809\n",
      "svd\n",
      "Model already trained\n",
      "0:00:00\n",
      "ROC Training Set: 1.0\n",
      "ROC Test Set: 0.5133684473269333\n",
      "lda\n",
      "Model already trained\n",
      "0:00:00\n",
      "ROC Training Set: 1.0\n",
      "ROC Test Set: 0.5358918011623974\n",
      "rand_for\n",
      "frequency\n",
      "Model already trained\n",
      "0:00:00.031000\n",
      "ROC Training Set: 1.0\n",
      "ROC Test Set: 0.6631321983725329\n",
      "onehot\n",
      "Model already trained\n",
      "0:00:00.015000\n",
      "ROC Training Set: 1.0\n",
      "ROC Test Set: 0.6797517505860662\n",
      "tf_idf\n",
      "Model already trained\n",
      "0:00:00.047000\n",
      "ROC Training Set: 1.0\n",
      "ROC Test Set: 0.6302647344742613\n",
      "svd\n",
      "Model already trained\n",
      "0:00:00.016000\n",
      "ROC Training Set: 1.0\n",
      "ROC Test Set: 0.6411761096272659\n",
      "lda\n",
      "Model already trained\n",
      "0:00:00.015000\n",
      "ROC Training Set: 1.0\n",
      "ROC Test Set: 0.6588847462209626\n",
      "gboost\n",
      "frequency\n",
      "Model already trained\n",
      "0:00:00\n",
      "ROC Training Set: 0.7750124188781704\n",
      "ROC Test Set: 0.6857051504163711\n",
      "onehot\n",
      "Model already trained\n",
      "0:00:00.016000\n",
      "ROC Training Set: 0.8544954004763294\n",
      "ROC Test Set: 0.6846509001267407\n",
      "tf_idf\n",
      "Model already trained\n",
      "0:00:00\n",
      "ROC Training Set: 0.8272962561930852\n",
      "ROC Test Set: 0.6746724326698554\n",
      "svd\n",
      "Model already trained\n",
      "0:00:00\n",
      "ROC Training Set: 0.7908870563042745\n",
      "ROC Test Set: 0.6729591029322001\n",
      "lda\n",
      "Model already trained\n",
      "0:00:00.016000\n",
      "ROC Training Set: 0.7775006035813976\n",
      "ROC Test Set: 0.6745637779901146\n",
      "lightgbm\n",
      "frequency\n",
      "Model already trained\n",
      "0:00:00\n",
      "ROC Training Set: 0.9958362249238513\n",
      "ROC Test Set: 0.6835555871343633\n",
      "onehot\n",
      "Model already trained\n",
      "0:00:00\n",
      "ROC Training Set: 0.9971667840209107\n",
      "ROC Test Set: 0.6562073657261154\n",
      "tf_idf\n",
      "Model already trained\n",
      "0:00:00.015000\n",
      "ROC Training Set: 0.9996513089085503\n",
      "ROC Test Set: 0.6595712777005994\n",
      "svd\n",
      "Model already trained\n",
      "0:00:00\n",
      "ROC Training Set: 0.9962547695033735\n",
      "ROC Test Set: 0.6267377251354954\n",
      "lda\n",
      "Model already trained\n",
      "0:00:00\n",
      "ROC Training Set: 0.9780957299404212\n",
      "ROC Test Set: 0.6603316297694446\n",
      "catboost\n",
      "frequency\n",
      "Model already trained\n",
      "0:00:00\n",
      "ROC Training Set: 0.9120613170690743\n",
      "ROC Test Set: 0.6980737901382152\n",
      "onehot\n",
      "Model already trained\n",
      "0:00:00.016000\n",
      "ROC Training Set: 0.986388569479524\n",
      "ROC Test Set: 0.6904887245970664\n",
      "tf_idf\n",
      "Model already trained\n",
      "0:00:00.016000\n",
      "ROC Training Set: 0.9806267517764946\n",
      "ROC Test Set: 0.7002897919505107\n",
      "svd\n",
      "Model already trained\n",
      "0:00:00\n",
      "ROC Training Set: 0.9944602783500123\n",
      "ROC Test Set: 0.6548324572521116\n",
      "lda\n",
      "Model already trained\n",
      "0:00:00\n",
      "ROC Training Set: 0.9621205916728763\n",
      "ROC Test Set: 0.6868378350820353\n"
     ]
    }
   ],
   "source": [
    "for model_name, model in model_dict.items(): \n",
    "    print(model_name)\n",
    "    train_res = {}\n",
    "    val_res = {}\n",
    "    test_res = {}\n",
    "    for method in method_list:\n",
    "        print(method)\n",
    "        train, test, val = load_datasets(method, include_val = include_val) # we load the dataset we want to use\n",
    "        start_time = time.monotonic()\n",
    "        try:\n",
    "            with open(f'{path_to_models}_{model_name}_{method}{tune_tag}{seed_tag}', 'rb') as file:\n",
    "                estimator = dill.load(file)\n",
    "            print('Model already trained')\n",
    "        except:\n",
    "            if tune_models:\n",
    "              # if we want to perform parameter tuning we use randomsearchCV\n",
    "               gridsearch = RandomizedSearchCV(model, param_dictionary[model_name], cv=5, n_jobs=-1, \n",
    "                          scoring=['accuracy','roc_auc'], refit = 'roc_auc')\n",
    "               gridsearch.fit(train, y_train) # we fit our model\n",
    "               estimator = gridsearch.best_estimator_\n",
    "            else:\n",
    "               model.fit(train, y_train) # we fit our model\n",
    "               estimator = model\n",
    "            print('Model successfully trained')\n",
    "            with open(f'{path_to_models}_{model_name}_{method}{tune_tag}{seed_tag}', 'wb') as file: # and save the fitted model\n",
    "                dill.dump(estimator, file)\n",
    "            print('Model saved')\n",
    "        end_time = time.monotonic()\n",
    "        print(timedelta(seconds=end_time - start_time))\n",
    "        results_train = get_main_scores(estimator, train, y_train.target)\n",
    "        results_test = get_main_scores(estimator, test, y_test.target)\n",
    "        train_res[method] = results_train\n",
    "        test_res[method] = results_test\n",
    "        print('ROC Training Set: {}'.format(results_train['ROC']))\n",
    "        print('ROC Test Set: {}'.format(results_test['ROC']))\n",
    "        if include_val == True:\n",
    "            results_val = get_main_scores(estimator, val, y_val.target)\n",
    "            val_res[method] = results_val\n",
    "            print('ROC Validation Set: {}'.format(results_val['ROC']))\n",
    "    # finally we add the result lists to our dictionary\n",
    "    final_train[model_name] = train_res\n",
    "    final_val[model_name] = val_res\n",
    "    final_test[model_name] = test_res"
   ]
  },
  {
   "cell_type": "code",
   "execution_count": 159,
   "id": "5a745e32",
   "metadata": {},
   "outputs": [],
   "source": [
    "try:\n",
    "    # Then we save all our results\n",
    "    with open(f'{path_to_models}train_results{tune_tag}.pkl', 'rb') as file:\n",
    "        results_train = pickle.load(file)\n",
    "    with open(f'{path_to_models}test_results{tune_tag}.pkl', 'rb') as file:\n",
    "        results_test = pickle.load(file)\n",
    "    if include_val == True:\n",
    "        with open(f'{path_to_models}val_results{tune_tag}.pkl', 'rb') as file:\n",
    "            results_val = pickle.load(file)\n",
    "except:\n",
    "    results_train = {}\n",
    "    results_val = {}\n",
    "    results_test = {}"
   ]
  },
  {
   "cell_type": "code",
   "execution_count": 160,
   "id": "08b03694",
   "metadata": {},
   "outputs": [],
   "source": [
    "results_train[session_seed] = final_train\n",
    "results_val[session_seed] = final_val\n",
    "results_test[session_seed] = final_test"
   ]
  },
  {
   "cell_type": "code",
   "execution_count": 161,
   "id": "17dc9f57",
   "metadata": {
    "id": "17dc9f57"
   },
   "outputs": [],
   "source": [
    "# Then we save all our results\n",
    "with open(f'{path_to_models}train_results{tune_tag}.pkl', 'wb') as file:\n",
    "    pickle.dump(results_train, file)\n",
    "with open(f'{path_to_models}test_results{tune_tag}.pkl', 'wb') as file:\n",
    "    pickle.dump(results_test, file)\n",
    "if include_val == True:\n",
    "    with open(f'{path_to_models}val_results{tune_tag}.pkl', 'wb') as file:\n",
    "        pickle.dump(results_val, file)"
   ]
  },
  {
   "cell_type": "markdown",
   "id": "36537b18",
   "metadata": {
    "id": "36537b18"
   },
   "source": [
    "## Display Results"
   ]
  },
  {
   "cell_type": "code",
   "execution_count": 166,
   "id": "079b320b",
   "metadata": {},
   "outputs": [],
   "source": [
    "def average_score(dict_res, model, method, score):\n",
    "    \"\"\"\n",
    "    Function to return the average score for a certain combination of model, method and score\n",
    "    \"\"\"\n",
    "    score_avg = 0\n",
    "    for key in dict_res.keys():\n",
    "        score_avg += dict_res[key][model][method][score]\n",
    "    score_avg = score_avg / len(dict_res.keys())\n",
    "    return score_avg"
   ]
  },
  {
   "cell_type": "code",
   "execution_count": 180,
   "id": "95f00fbf",
   "metadata": {},
   "outputs": [
    {
     "name": "stdout",
     "output_type": "stream",
     "text": [
      "-----------------------------------------------------------------\n",
      "\n",
      "ROC\n",
      "\n",
      "\n",
      " Train Results \n",
      "\n",
      "            frequency    onehot    tf_idf       svd       lda\n",
      "--------  -----------  --------  --------  --------  --------\n",
      "log_reg      0.845747  0.995599  0.749759  0.628829  0.692477\n",
      "dec_tree     1         1         1         1         1\n",
      "rand_for     1         1         1         1         1\n",
      "gboost       0.771362  0.854002  0.836283  0.793691  0.777784\n",
      "lightgbm     0.995582  0.996128  0.999639  0.996557  0.979271\n",
      "catboost     0.913173  0.987107  0.978186  0.994491  0.961889\n",
      "-----------------------------------------------------------------\n",
      "\n",
      " Test Results \n",
      "\n",
      "            frequency    onehot    tf_idf       svd       lda\n",
      "--------  -----------  --------  --------  --------  --------\n",
      "log_reg      0.623613  0.605154  0.6981    0.601681  0.672712\n",
      "dec_tree     0.547977  0.531834  0.538137  0.519704  0.53476\n",
      "rand_for     0.666673  0.666363  0.631988  0.628142  0.652268\n",
      "gboost       0.682979  0.682127  0.676553  0.663467  0.670303\n",
      "lightgbm     0.674392  0.667493  0.671073  0.634852  0.662475\n",
      "catboost     0.69425   0.684148  0.691847  0.645114  0.677431\n",
      "-----------------------------------------------------------------\n",
      "\n",
      "PrRc\n",
      "\n",
      "\n",
      " Train Results \n",
      "\n",
      "            frequency    onehot    tf_idf       svd       lda\n",
      "--------  -----------  --------  --------  --------  --------\n",
      "log_reg      0.393649  0.963671  0.208947  0.127241  0.131979\n",
      "dec_tree     1         1         1         1         1\n",
      "rand_for     1         1         1         1         1\n",
      "gboost       0.428947  0.478208  0.521451  0.37344   0.366039\n",
      "lightgbm     0.952332  0.950074  0.990582  0.970888  0.864356\n",
      "catboost     0.649747  0.891406  0.802156  0.955166  0.802733\n",
      "-----------------------------------------------------------------\n",
      "\n",
      " Test Results \n",
      "\n",
      "            frequency     onehot    tf_idf        svd       lda\n",
      "--------  -----------  ---------  --------  ---------  --------\n",
      "log_reg      0.138586  0.0951107  0.171698  0.12402    0.135833\n",
      "dec_tree     0.16305   0.134876   0.145473  0.115491   0.139527\n",
      "rand_for     0.14361   0.139777   0.135647  0.0948929  0.127447\n",
      "gboost       0.147406  0.135381   0.147447  0.109398   0.134888\n",
      "lightgbm     0.16598   0.159024   0.162308  0.123597   0.129531\n",
      "catboost     0.16793   0.176165   0.176685  0.143101   0.150527\n",
      "-----------------------------------------------------------------\n",
      "\n",
      "HScore\n",
      "\n",
      "\n",
      " Train Results \n",
      "\n",
      "            frequency     onehot     tf_idf         svd         lda\n",
      "--------  -----------  ---------  ---------  ----------  ----------\n",
      "log_reg     0.0751787  0.633063   0.0219156  0.00561706  0.00336794\n",
      "dec_tree    1          1          1          1           1\n",
      "rand_for    0.997677   0.997677   0.997843   0.99834     0.997677\n",
      "gboost      0.0489043  0.0493497  0.0605142  0.0382455   0.0414755\n",
      "lightgbm    0.370485   0.318436   0.522976   0.31097     0.161209\n",
      "catboost    0.0865502  0.181486   0.0729245  0.341948    0.128443\n",
      "-----------------------------------------------------------------\n",
      "\n",
      " Test Results \n",
      "\n",
      "            frequency      onehot     tf_idf         svd         lda\n",
      "--------  -----------  ----------  ---------  ----------  ----------\n",
      "log_reg     0.0297725  0.0258181   0.0201696  0.00517852  0.00265955\n",
      "dec_tree    0.0356092  0.0155576   0.0232339  0.00586035  0.0187047\n",
      "rand_for    0.0150557  0.00823868  0.0150588  0.00541319  0.0121598\n",
      "gboost      0.0276068  0.0101035   0.0281643  0.00623236  0.0141975\n",
      "lightgbm    0.0338482  0.0253164   0.0296233  0.0146647   0.0171893\n",
      "catboost    0.0268851  0.0216542   0.0264343  0.0128761   0.0201579\n"
     ]
    }
   ],
   "source": [
    "for score in ['ROC', 'PrRc', 'HScore']:\n",
    "    final_train = []\n",
    "    final_test = []\n",
    "    if include_val: final_val = []\n",
    "    for model in model_dict.keys():\n",
    "        train_res = [model]\n",
    "        test_res = [model]\n",
    "        if include_val: val_res = [model]\n",
    "        for method in method_list:\n",
    "            train_res.append(average_score(results_train, model, method, score))\n",
    "            test_res.append(average_score(results_test, model, method, score))\n",
    "            if include_val: val_res.append(average_score(results_val, model, method, score))\n",
    "        final_train.append(train_res)\n",
    "        final_test.append(test_res)\n",
    "        if include_val: final_val.append(val_res)\n",
    "    print(\"-\"*65)\n",
    "    print(f'\\n{score}\\n')\n",
    "    print('\\n Train Results \\n')\n",
    "    print(tabulate(final_train, headers = method_list))\n",
    "    print(\"-\"*65)\n",
    "    print('\\n Test Results \\n')\n",
    "    print(tabulate(final_test, headers = method_list))\n",
    "    if include_val: \n",
    "        print('\\n Val Results \\n')\n",
    "        print(tabulate(final_val, headers = method_list))\n",
    "        print(\"-\"*65)"
   ]
  }
 ],
 "metadata": {
  "colab": {
   "collapsed_sections": [],
   "machine_shape": "hm",
   "name": "4. Classification.ipynb",
   "provenance": []
  },
  "kernelspec": {
   "display_name": "Python 3 (ipykernel)",
   "language": "python",
   "name": "python3"
  },
  "language_info": {
   "codemirror_mode": {
    "name": "ipython",
    "version": 3
   },
   "file_extension": ".py",
   "mimetype": "text/x-python",
   "name": "python",
   "nbconvert_exporter": "python",
   "pygments_lexer": "ipython3",
   "version": "3.8.8"
  }
 },
 "nbformat": 4,
 "nbformat_minor": 5
}
