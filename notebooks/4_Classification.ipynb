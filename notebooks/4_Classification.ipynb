{
 "cells": [
  {
   "cell_type": "markdown",
   "id": "39c464e0",
   "metadata": {
    "id": "39c464e0"
   },
   "source": [
    "# Classification"
   ]
  },
  {
   "cell_type": "code",
   "execution_count": 21,
   "id": "dadefae3",
   "metadata": {
    "colab": {
     "base_uri": "https://localhost:8080/"
    },
    "id": "dadefae3",
    "outputId": "e9d79146-ee91-4e19-f7c9-27b4d2a9727d"
   },
   "outputs": [],
   "source": [
    "# Import libraries\n",
    "import numpy as np\n",
    "import pandas as pd\n",
    "import os\n",
    "import random\n",
    "import dill\n",
    "import pickle\n",
    "from tabulate import tabulate\n",
    "\n",
    "import sys\n",
    "\n",
    "import warnings\n",
    "warnings.filterwarnings(\"ignore\")\n",
    "\n",
    "from sklearn.metrics import roc_auc_score\n",
    "from sklearn.model_selection import RandomizedSearchCV, GridSearchCV\n",
    "from sklearn.ensemble import RandomForestClassifier\n",
    "from sklearn.tree import DecisionTreeClassifier\n",
    "from sklearn.linear_model import LogisticRegression\n",
    "from sklearn.ensemble import BaggingClassifier\n",
    "from sklearn.ensemble import GradientBoostingClassifier\n",
    "import lightgbm as lgb\n",
    "from sklearn.metrics import precision_recall_curve\n",
    "from sklearn import metrics\n",
    "from hmeasure import h_score\n",
    "try:\n",
    "  from catboost import CatBoostClassifier\n",
    "except:\n",
    "  !pip install catboost\n",
    "  from catboost import CatBoostClassifier\n",
    "\n",
    "import time\n",
    "from datetime import timedelta"
   ]
  },
  {
   "cell_type": "code",
   "execution_count": 22,
   "id": "2205b1e7",
   "metadata": {
    "colab": {
     "base_uri": "https://localhost:8080/"
    },
    "id": "2205b1e7",
    "outputId": "e4543a9c-c463-4fc2-b393-e42fd55b2a1a"
   },
   "outputs": [
    {
     "name": "stdout",
     "output_type": "stream",
     "text": [
      "C:\\Users\\luca9\\Documents\\MIMIC-III Text Mining\\mimim_iii_readmission\n"
     ]
    }
   ],
   "source": [
    "try:\n",
    "  from google.colab import drive\n",
    "  IN_COLAB=True\n",
    "except:\n",
    "  IN_COLAB=False\n",
    "\n",
    "if IN_COLAB:\n",
    "  print(\"We're running Colab\")\n",
    "\n",
    "if IN_COLAB:  \n",
    "  # Mount the Google Drive at mount\n",
    "  mount='/content/gdrive'\n",
    "  print(\"Colab: mounting Google drive on \", mount)\n",
    "  # connect your colab with the drive\n",
    "  drive.mount(mount)\n",
    "\n",
    " # Switch to the directory on the Google Drive that you want to use\n",
    "  import os\n",
    "  path_to_repo = mount + \"/My Drive/MIMIC-III Text Mining/mimim_iii_readmission\"\n",
    "\n",
    "else:\n",
    "   path_to_repo = os.path.dirname(os.getcwd())\n",
    "\n",
    "  \n",
    "print(path_to_repo)"
   ]
  },
  {
   "cell_type": "code",
   "execution_count": 23,
   "id": "729f43fa",
   "metadata": {
    "colab": {
     "base_uri": "https://localhost:8080/"
    },
    "id": "729f43fa",
    "outputId": "40533f0b-c81c-469c-8954-24ac30711aea"
   },
   "outputs": [
    {
     "name": "stdout",
     "output_type": "stream",
     "text": [
      "C:\\Users\\luca9\\Documents\\MIMIC-III Text Mining\\mimim_iii_readmission\\data\\\n"
     ]
    }
   ],
   "source": [
    "path_to_data = os.path.join(path_to_repo, \"data\",\"\")\n",
    "print(path_to_data)"
   ]
  },
  {
   "cell_type": "code",
   "execution_count": 24,
   "id": "a17b264d",
   "metadata": {
    "colab": {
     "base_uri": "https://localhost:8080/"
    },
    "id": "a17b264d",
    "outputId": "12557a08-55b2-419f-e6f1-af8347719c31"
   },
   "outputs": [
    {
     "name": "stdout",
     "output_type": "stream",
     "text": [
      "C:\\Users\\luca9\\Documents\\MIMIC-III Text Mining\\mimim_iii_readmission\\data\\processed\\\n"
     ]
    }
   ],
   "source": [
    "path_to_processed = os.path.join(path_to_data,\"processed\",\"\")\n",
    "os.makedirs(path_to_processed, exist_ok=True) # we create the directory if it does not exist\n",
    "print(path_to_processed)"
   ]
  },
  {
   "cell_type": "code",
   "execution_count": 25,
   "id": "2d03c45a",
   "metadata": {
    "colab": {
     "base_uri": "https://localhost:8080/"
    },
    "id": "2d03c45a",
    "outputId": "566c6f43-ea46-4432-cc97-17031353915e"
   },
   "outputs": [
    {
     "name": "stdout",
     "output_type": "stream",
     "text": [
      "C:\\Users\\luca9\\Documents\\MIMIC-III Text Mining\\mimim_iii_readmission\\data\\models\\\n"
     ]
    }
   ],
   "source": [
    "path_to_models = os.path.join(path_to_data,\"models\",\"\")\n",
    "os.makedirs(path_to_models, exist_ok=True) # we create the directory if it does not exist\n",
    "print(path_to_models)"
   ]
  },
  {
   "cell_type": "code",
   "execution_count": 26,
   "id": "52eba6db",
   "metadata": {
    "id": "52eba6db"
   },
   "outputs": [],
   "source": [
    "# PARAMETERS\n",
    "\n",
    "session_seed = 42 # set seed for our session\n",
    "include_val = False # set to True if we want to also create a validation set\n",
    "tune_models = False # set to True if we want to perform parameter tuning\n",
    "\n",
    "lemmatize = True # set to false if we want to do stemming\n",
    "lemma_tag = str(np.where(lemmatize, \"_lemma\",\"\"))\n",
    "spacy = True\n",
    "if spacy: lemma_tag = str(np.where(lemmatize, \"_lemma_spacy\",\"\"))\n",
    "\n",
    "seed_tag = f'_{session_seed}'\n",
    "\n",
    "if tune_models:\n",
    "  tune_tag = '_tuned'\n",
    "else:\n",
    "  tune_tag = ''\n",
    "\n",
    "random.seed(session_seed)"
   ]
  },
  {
   "cell_type": "markdown",
   "id": "6cbb49c6",
   "metadata": {
    "id": "6cbb49c6"
   },
   "source": [
    "## Train the Models"
   ]
  },
  {
   "cell_type": "code",
   "execution_count": 27,
   "id": "5677bd47",
   "metadata": {
    "id": "5677bd47"
   },
   "outputs": [],
   "source": [
    "def load_datasets(method, include_val = True, target = False):\n",
    "    \"\"\"\n",
    "    Function to load train, test and validation set based on the chosen method\n",
    "    method: string for the processing method we want to load\n",
    "    include_diag: if we want to load the dataframes with the diagnosis text, default True\n",
    "    include_test: if we want to load also the test set, default True\n",
    "    target: if we are importing our target variables\n",
    "    \"\"\"\n",
    "    global path_to_processed\n",
    "    if target == True: \n",
    "        target = 'y_'\n",
    "    else: \n",
    "        target = ''\n",
    "    # load it back\n",
    "    train = pd.read_feather(f'{path_to_processed}{target}train_{method}{seed_tag}{lemma_tag}')\n",
    "    test = pd.read_feather(f'{path_to_processed}{target}test_{method}{seed_tag}{lemma_tag}')\n",
    "    if include_val == True:\n",
    "        val = pd.read_feather(f'{path_to_processed}{target}val_{method}{seed_tag}{lemma_tag}')\n",
    "    else: val = []\n",
    "    return train, test, val"
   ]
  },
  {
   "cell_type": "code",
   "execution_count": 28,
   "id": "94c3a0cd",
   "metadata": {
    "id": "94c3a0cd"
   },
   "outputs": [],
   "source": [
    "y_train, y_test, y_val = load_datasets(method = '', include_val = include_val, target = True)"
   ]
  },
  {
   "cell_type": "code",
   "execution_count": 29,
   "id": "9dd0a6f7",
   "metadata": {
    "id": "9dd0a6f7"
   },
   "outputs": [],
   "source": [
    "# initialize a dictionary for the results of all the models\n",
    "final_train = {}\n",
    "final_val = {}\n",
    "final_test = {}"
   ]
  },
  {
   "cell_type": "code",
   "execution_count": 30,
   "id": "be35822f",
   "metadata": {
    "id": "be35822f"
   },
   "outputs": [],
   "source": [
    "model_dict = {\n",
    "    'log_reg': LogisticRegression(solver = \"saga\", penalty = 'l1', random_state = session_seed, n_jobs = -1) # default penalty is l2, we do lasso\n",
    "    , 'dec_tree': DecisionTreeClassifier(random_state = session_seed)\n",
    "    #, 'bag_tree': BaggingClassifier(base_estimator = DecisionTreeClassifier(), n_estimators = 10, random_state = session_seed, n_jobs = -1)\n",
    "    , 'rand_for': RandomForestClassifier(random_state = session_seed, n_jobs = -1)\n",
    "    , 'gboost': GradientBoostingClassifier(random_state = session_seed)\n",
    "    , 'lightgbm': lgb.LGBMClassifier(random_state = 42, n_jobs = -1, deterministic = True)\n",
    "    , 'catboost': CatBoostClassifier(random_seed = 42)\n",
    "}"
   ]
  },
  {
   "cell_type": "code",
   "execution_count": 31,
   "id": "beuUkt18xXbf",
   "metadata": {
    "id": "beuUkt18xXbf"
   },
   "outputs": [],
   "source": [
    "# PARAMETERS FOR LOGISTIC REGRESSION -------\n",
    "param_en = {'C': np.logspace(-3, 4, 10), 'l1_ratio':np.linspace(0,1,11) }\n",
    "\n",
    "# PARAMETERS FOR DECISION TREE -------------\n",
    "# Number of features to consider at every split\n",
    "max_features = ['auto', 'sqrt']\n",
    "# Maximum number of levels in tree\n",
    "max_depth = [int(x) for x in np.linspace(10, 110, num = 11)]\n",
    "max_depth.append(None)\n",
    "# Minimum number of samples required to split a node\n",
    "min_samples_split = [2, 5, 10]\n",
    "# Minimum number of samples required at each leaf node\n",
    "min_samples_leaf = [1, 2, 4]\n",
    "\n",
    "param_dec = {'max_features': max_features,\n",
    "               'max_depth': max_depth,\n",
    "               'min_samples_split': min_samples_split,\n",
    "               'min_samples_leaf': min_samples_leaf}\n",
    "\n",
    "# PARAMETERS FOR RANDOM FOREST -------\n",
    "# Number of trees in random forest\n",
    "n_estimators = [int(x) for x in np.linspace(start = 100, stop = 500, num = 5)]\n",
    "\n",
    "# Maximum number of samples per tree\n",
    "max_sampl = list(np.arange(0.01,1,0.2))\n",
    "max_sampl.append(None)\n",
    "# Create the random grid\n",
    "param_rf = {'n_estimators': n_estimators,\n",
    "               'max_features': max_features,\n",
    "               'max_depth': max_depth,\n",
    "               'min_samples_split': min_samples_split,\n",
    "               'min_samples_leaf': min_samples_leaf,\n",
    "               'max_samples': max_sampl}\n",
    "\n",
    "# PARAMETERS FOR GRADIENT BOOSTING --------\n",
    "\n",
    "learn_rate = list(np.linspace(0, 1, num = 10))\n",
    "\n",
    "param_gb = {'n_estimators': n_estimators,\n",
    "            'learning_rate': learn_rate,\n",
    "               'max_features': max_features,\n",
    "               'max_depth': max_depth,\n",
    "               'min_samples_split': min_samples_split,\n",
    "               'min_samples_leaf': min_samples_leaf,\n",
    "               'subsamples': list(np.linspace(0, 1, num = 10))}\n",
    "\n",
    "# PARAMETERS FOR LIGHTGBM -----------\n",
    "param_lgb = {'max_depth': max_depth,\n",
    "             'min_data_in_leaf': min_samples_leaf,\n",
    "             'num_iterations': n_estimators,\n",
    "             'learning_rate': learn_rate,\n",
    "             'colsample_bytree': list(np.linspace(0, 1, num = 10)),\n",
    "             'subsample': list(np.linspace(0, 1, num = 10)),\n",
    "             'reg_alpha': [0, 1e-1, 1, 2, 5, 7, 10, 50, 100],\n",
    "             'reg_lambda': [0, 1e-1, 1, 5, 10, 20, 50, 100]}\n",
    "\n",
    "# PARAMETERS FOR CATBOOSTING ------\n",
    "\n",
    "param_cat = {'n_estimators': n_estimators,\n",
    "            'learning_rate': learn_rate,\n",
    "               'rsm': list(np.linspace(0, 1, num = 10)),\n",
    "               'depth': [int(x) for x in np.linspace(10, 110, num = 11)]\n",
    "            , 'l2_leaf_reg': [1, 2, 3, 4, 5, 7, 9, 15, 20]}"
   ]
  },
  {
   "cell_type": "code",
   "execution_count": 32,
   "id": "EzVYyT1S1DuA",
   "metadata": {
    "id": "EzVYyT1S1DuA"
   },
   "outputs": [],
   "source": [
    "param_dictionary = {\n",
    "    'log_reg': param_en\n",
    "    , 'dec_tree': param_dec\n",
    "    #, 'bag_tree': BaggingClassifier(base_estimator = DecisionTreeClassifier(), n_estimators = 10, random_state = session_seed, n_jobs = -1)\n",
    "    , 'rand_for': param_rf\n",
    "    , 'gboost': param_gb\n",
    "    , 'lightgbm': param_lgb\n",
    "    , 'catboost': param_cat\n",
    "}"
   ]
  },
  {
   "cell_type": "code",
   "execution_count": 33,
   "id": "f0a83e3e",
   "metadata": {
    "id": "f0a83e3e"
   },
   "outputs": [],
   "source": [
    "method_list = ['frequency', 'onehot','tf_idf', 'svd', 'lda']"
   ]
  },
  {
   "cell_type": "code",
   "execution_count": 34,
   "id": "53596b2a",
   "metadata": {},
   "outputs": [],
   "source": [
    "def get_main_scores(estimator, df, y):\n",
    "    \"\"\"\n",
    "    Function to get the main scores\n",
    "    \"\"\"\n",
    "    results = {}\n",
    "    probas = estimator.predict_proba(df)[:,1]\n",
    "    results['ROC'] = roc_auc_score(y, probas)\n",
    "    precision, recall, _ = metrics.precision_recall_curve(y, probas)\n",
    "    results['PrRc'] = metrics.auc(recall, precision)\n",
    "    results['HScore'] = h_score(y.to_numpy(), estimator.predict(df))\n",
    "    return results"
   ]
  },
  {
   "cell_type": "code",
   "execution_count": 35,
   "id": "a6553d5b",
   "metadata": {
    "colab": {
     "base_uri": "https://localhost:8080/",
     "height": 1000
    },
    "id": "a6553d5b",
    "outputId": "fbcf04f2-3b7f-41ce-e3fd-138d6c4fb5e6",
    "scrolled": true
   },
   "outputs": [
    {
     "name": "stdout",
     "output_type": "stream",
     "text": [
      "log_reg\n",
      "frequency\n",
      "Model already trained\n",
      "0:00:00\n",
      "ROC Training Set: 0.8380578574770984\n",
      "ROC Test Set: 0.6099287769727746\n",
      "onehot\n",
      "Model already trained\n",
      "0:00:00\n",
      "ROC Training Set: 0.9955640441504015\n",
      "ROC Test Set: 0.6186123851570786\n",
      "tf_idf\n",
      "Model already trained\n",
      "0:00:00\n",
      "ROC Training Set: 0.7503731138765741\n",
      "ROC Test Set: 0.7055956467998544\n",
      "svd\n",
      "Model already trained\n",
      "0:00:00\n",
      "ROC Training Set: 0.6791058419244381\n",
      "ROC Test Set: 0.6002739666616992\n",
      "lda\n",
      "Model already trained\n",
      "0:00:00\n",
      "ROC Training Set: 0.7085109184402315\n",
      "ROC Test Set: 0.6888148427367691\n",
      "dec_tree\n",
      "frequency\n",
      "Model already trained\n",
      "0:00:00\n",
      "ROC Training Set: 1.0\n",
      "ROC Test Set: 0.5629678091479396\n",
      "onehot\n",
      "Model already trained\n",
      "0:00:00\n",
      "ROC Training Set: 1.0\n",
      "ROC Test Set: 0.5263541810366902\n",
      "tf_idf\n",
      "Model already trained\n",
      "0:00:00\n",
      "ROC Training Set: 1.0\n",
      "ROC Test Set: 0.5292484095123365\n",
      "svd\n",
      "Model already trained\n",
      "0:00:00\n",
      "ROC Training Set: 1.0\n",
      "ROC Test Set: 0.521144062263976\n",
      "lda\n",
      "Model already trained\n",
      "0:00:00\n",
      "ROC Training Set: 1.0\n",
      "ROC Test Set: 0.5188403985019957\n",
      "rand_for\n",
      "frequency\n",
      "Model already trained\n",
      "0:00:00.015000\n",
      "ROC Training Set: 1.0\n",
      "ROC Test Set: 0.7059912790201424\n",
      "onehot\n",
      "Model already trained\n",
      "0:00:00.015000\n",
      "ROC Training Set: 1.0\n",
      "ROC Test Set: 0.6862597275927982\n",
      "tf_idf\n",
      "Model already trained\n",
      "0:00:00.016000\n",
      "ROC Training Set: 1.0\n",
      "ROC Test Set: 0.6413897279572874\n",
      "svd\n",
      "Model already trained\n",
      "0:00:00.016000\n",
      "ROC Training Set: 1.0\n",
      "ROC Test Set: 0.642322866342748\n",
      "lda\n",
      "Model already trained\n",
      "0:00:00.031000\n",
      "ROC Training Set: 1.0\n",
      "ROC Test Set: 0.6819015445574156\n",
      "gboost\n",
      "frequency\n",
      "Model successfully trained\n",
      "Model saved\n",
      "0:05:18.360000\n",
      "ROC Training Set: 0.7655232951296614\n",
      "ROC Test Set: 0.7342855574169622\n",
      "onehot\n",
      "Model successfully trained\n",
      "Model saved\n",
      "0:05:07.609000\n",
      "ROC Training Set: 0.8519043519011243\n",
      "ROC Test Set: 0.710345309647382\n",
      "tf_idf\n",
      "Model successfully trained\n",
      "Model saved\n",
      "0:09:17.438000\n",
      "ROC Training Set: 0.8361944782200916\n",
      "ROC Test Set: 0.7193982514670689\n",
      "svd\n",
      "Model successfully trained\n",
      "Model saved\n",
      "0:02:56.156000\n",
      "ROC Training Set: 0.8128242647041449\n",
      "ROC Test Set: 0.6757924294217496\n",
      "lda\n",
      "Model successfully trained\n",
      "Model saved\n",
      "0:01:12.750000\n",
      "ROC Training Set: 0.786419617395386\n",
      "ROC Test Set: 0.6968128421988016\n",
      "lightgbm\n",
      "frequency\n",
      "Model already trained\n",
      "0:00:00\n",
      "ROC Training Set: 0.996147611832005\n",
      "ROC Test Set: 0.6949124234053715\n",
      "onehot\n",
      "Model already trained\n",
      "0:00:00.015000\n",
      "ROC Training Set: 0.996194944486361\n",
      "ROC Test Set: 0.6788619817967655\n",
      "tf_idf\n",
      "Model already trained\n",
      "0:00:00\n",
      "ROC Training Set: 0.9996858322083483\n",
      "ROC Test Set: 0.6937077636652291\n",
      "svd\n",
      "Model already trained\n",
      "0:00:00.016000\n",
      "ROC Training Set: 0.9997259172751422\n",
      "ROC Test Set: 0.6449386527834744\n",
      "lda\n",
      "Model already trained\n",
      "0:00:00\n",
      "ROC Training Set: 0.9901867664411163\n",
      "ROC Test Set: 0.6767839322105529\n",
      "catboost\n",
      "frequency\n",
      "Model already trained\n",
      "0:00:00.015000\n",
      "ROC Training Set: 0.912380095652018\n",
      "ROC Test Set: 0.7339210682577464\n",
      "onehot\n",
      "Model already trained\n",
      "0:00:00\n",
      "ROC Training Set: 0.9884622152281641\n",
      "ROC Test Set: 0.7114034816558141\n",
      "tf_idf\n",
      "Model already trained\n",
      "0:00:00\n",
      "ROC Training Set: 0.9800389623391144\n",
      "ROC Test Set: 0.7287245601561676\n",
      "svd\n",
      "Model already trained\n",
      "0:00:00.032000\n",
      "ROC Training Set: 0.9995139937803884\n",
      "ROC Test Set: 0.6318899408835494\n",
      "lda\n",
      "Model already trained\n",
      "0:00:00\n",
      "ROC Training Set: 0.9731855109802824\n",
      "ROC Test Set: 0.7108765872003403\n"
     ]
    }
   ],
   "source": [
    "for model_name, model in model_dict.items(): \n",
    "    print(model_name)\n",
    "    train_res = {}\n",
    "    val_res = {}\n",
    "    test_res = {}\n",
    "    for method in method_list:\n",
    "        print(method)\n",
    "        train, test, val = load_datasets(method, include_val = include_val) # we load the dataset we want to use\n",
    "        start_time = time.monotonic()\n",
    "        try:\n",
    "            with open(f'{path_to_models}_{model_name}_{method}{tune_tag}{seed_tag}{lemma_tag}', 'rb') as file:\n",
    "                estimator = dill.load(file)\n",
    "            print('Model already trained')\n",
    "        except:\n",
    "            if tune_models:\n",
    "              # if we want to perform parameter tuning we use randomsearchCV\n",
    "               gridsearch = RandomizedSearchCV(model, param_dictionary[model_name], cv=5, n_jobs=-1, \n",
    "                          scoring=['accuracy','roc_auc'], refit = 'roc_auc')\n",
    "               gridsearch.fit(train, y_train) # we fit our model\n",
    "               estimator = gridsearch.best_estimator_\n",
    "            else:\n",
    "               model.fit(train, y_train) # we fit our model\n",
    "               estimator = model\n",
    "            print('Model successfully trained')\n",
    "            with open(f'{path_to_models}_{model_name}_{method}{tune_tag}{seed_tag}{lemma_tag}', 'wb') as file: # and save the fitted model\n",
    "                dill.dump(estimator, file)\n",
    "            print('Model saved')\n",
    "        end_time = time.monotonic()\n",
    "        print(timedelta(seconds=end_time - start_time))\n",
    "        results_train = get_main_scores(estimator, train, y_train.target)\n",
    "        results_test = get_main_scores(estimator, test, y_test.target)\n",
    "        train_res[method] = results_train\n",
    "        test_res[method] = results_test\n",
    "        print('ROC Training Set: {}'.format(results_train['ROC']))\n",
    "        print('ROC Test Set: {}'.format(results_test['ROC']))\n",
    "        if include_val == True:\n",
    "            results_val = get_main_scores(estimator, val, y_val.target)\n",
    "            val_res[method] = results_val\n",
    "            print('ROC Validation Set: {}'.format(results_val['ROC']))\n",
    "    # finally we add the result lists to our dictionary\n",
    "    final_train[model_name] = train_res\n",
    "    final_val[model_name] = val_res\n",
    "    final_test[model_name] = test_res"
   ]
  },
  {
   "cell_type": "code",
   "execution_count": 36,
   "id": "5a745e32",
   "metadata": {},
   "outputs": [],
   "source": [
    "try:\n",
    "    # Then we save all our results\n",
    "    with open(f'{path_to_models}train_results{tune_tag}{lemma_tag}.pkl', 'rb') as file:\n",
    "        results_train = pickle.load(file)\n",
    "    with open(f'{path_to_models}test_results{tune_tag}{lemma_tag}.pkl', 'rb') as file:\n",
    "        results_test = pickle.load(file)\n",
    "    if include_val == True:\n",
    "        with open(f'{path_to_models}val_results{tune_tag}{lemma_tag}.pkl', 'rb') as file:\n",
    "            results_val = pickle.load(file)\n",
    "except:\n",
    "    results_train = {}\n",
    "    results_val = {}\n",
    "    results_test = {}"
   ]
  },
  {
   "cell_type": "code",
   "execution_count": 37,
   "id": "08b03694",
   "metadata": {},
   "outputs": [],
   "source": [
    "results_train[session_seed] = final_train\n",
    "results_val[session_seed] = final_val\n",
    "results_test[session_seed] = final_test"
   ]
  },
  {
   "cell_type": "code",
   "execution_count": 38,
   "id": "17dc9f57",
   "metadata": {
    "id": "17dc9f57"
   },
   "outputs": [],
   "source": [
    "# Then we save all our results\n",
    "with open(f'{path_to_models}train_results{tune_tag}{lemma_tag}.pkl', 'wb') as file:\n",
    "    pickle.dump(results_train, file)\n",
    "with open(f'{path_to_models}test_results{tune_tag}{lemma_tag}.pkl', 'wb') as file:\n",
    "    pickle.dump(results_test, file)\n",
    "if include_val == True:\n",
    "    with open(f'{path_to_models}val_results{tune_tag}{lemma_tag}.pkl', 'wb') as file:\n",
    "        pickle.dump(results_val, file)"
   ]
  },
  {
   "cell_type": "markdown",
   "id": "36537b18",
   "metadata": {
    "id": "36537b18"
   },
   "source": [
    "## Display Results"
   ]
  },
  {
   "cell_type": "code",
   "execution_count": 39,
   "id": "079b320b",
   "metadata": {},
   "outputs": [],
   "source": [
    "def average_score(dict_res, model, method, score):\n",
    "    \"\"\"\n",
    "    Function to return the average score for a certain combination of model, method and score\n",
    "    \"\"\"\n",
    "    score_avg = 0\n",
    "    for key in dict_res.keys():\n",
    "        score_avg += dict_res[key][model][method][score]\n",
    "    score_avg = score_avg / len(dict_res.keys())\n",
    "    return score_avg"
   ]
  },
  {
   "cell_type": "code",
   "execution_count": 40,
   "id": "95f00fbf",
   "metadata": {},
   "outputs": [
    {
     "name": "stdout",
     "output_type": "stream",
     "text": [
      "-----------------------------------------------------------------\n",
      "\n",
      "ROC\n",
      "\n",
      "\n",
      " Train Results \n",
      "\n",
      "            frequency    onehot    tf_idf       svd       lda\n",
      "--------  -----------  --------  --------  --------  --------\n",
      "log_reg      0.838058  0.995564  0.750373  0.679106  0.708511\n",
      "dec_tree     1         1         1         1         1\n",
      "rand_for     1         1         1         1         1\n",
      "gboost       0.765523  0.851904  0.836194  0.812824  0.78642\n",
      "lightgbm     0.996148  0.996195  0.999686  0.999726  0.990187\n",
      "catboost     0.91238   0.988462  0.980039  0.999514  0.973186\n",
      "-----------------------------------------------------------------\n",
      "\n",
      " Test Results \n",
      "\n",
      "            frequency    onehot    tf_idf       svd       lda\n",
      "--------  -----------  --------  --------  --------  --------\n",
      "log_reg      0.609929  0.618612  0.705596  0.600274  0.688815\n",
      "dec_tree     0.562968  0.526354  0.529248  0.521144  0.51884\n",
      "rand_for     0.705991  0.68626   0.64139   0.642323  0.681902\n",
      "gboost       0.734286  0.710345  0.719398  0.675792  0.696813\n",
      "lightgbm     0.694912  0.678862  0.693708  0.644939  0.676784\n",
      "catboost     0.733921  0.711403  0.728725  0.63189   0.710877\n",
      "-----------------------------------------------------------------\n",
      "\n",
      "PrRc\n",
      "\n",
      "\n",
      " Train Results \n",
      "\n",
      "            frequency    onehot    tf_idf       svd       lda\n",
      "--------  -----------  --------  --------  --------  --------\n",
      "log_reg      0.377008  0.963145  0.209794  0.159208  0.168029\n",
      "dec_tree     1         1         1         1         1\n",
      "rand_for     1         1         1         1         1\n",
      "gboost       0.428766  0.479284  0.536346  0.407735  0.420731\n",
      "lightgbm     0.9556    0.952121  0.990359  0.995781  0.924147\n",
      "catboost     0.65385   0.898101  0.821065  0.993015  0.85341\n",
      "-----------------------------------------------------------------\n",
      "\n",
      " Test Results \n",
      "\n",
      "            frequency    onehot    tf_idf        svd       lda\n",
      "--------  -----------  --------  --------  ---------  --------\n",
      "log_reg      0.155759  0.105099  0.199613  0.138423   0.20497\n",
      "dec_tree     0.188492  0.125198  0.129911  0.117186   0.111188\n",
      "rand_for     0.180058  0.167271  0.15818   0.0929431  0.15611\n",
      "gboost       0.192213  0.179026  0.188741  0.124659   0.178296\n",
      "lightgbm     0.210441  0.196306  0.189863  0.128104   0.183006\n",
      "catboost     0.226481  0.223198  0.224216  0.143532   0.199562\n",
      "-----------------------------------------------------------------\n",
      "\n",
      "HScore\n",
      "\n",
      "\n",
      " Train Results \n",
      "\n",
      "            frequency     onehot     tf_idf        svd        lda\n",
      "--------  -----------  ---------  ---------  ---------  ---------\n",
      "log_reg     0.0627272  0.625423   0.0193765  0.0172707  0.0161726\n",
      "dec_tree    1          1          1          1          1\n",
      "rand_for    0.997511   0.99917    0.99917    0.997511   0.99917\n",
      "gboost      0.0421028  0.0371118  0.0572231  0.0445652  0.0438905\n",
      "lightgbm    0.354891   0.289292   0.526693   0.454952   0.210838\n",
      "catboost    0.0837451  0.179507   0.0667211  0.424881   0.144193\n",
      "-----------------------------------------------------------------\n",
      "\n",
      " Test Results \n",
      "\n",
      "            frequency      onehot     tf_idf         svd         lda\n",
      "--------  -----------  ----------  ---------  ----------  ----------\n",
      "log_reg     0.0486085  0.0390449   0.0294833  0.0114747   0.0136488\n",
      "dec_tree    0.0538078  0.0104708   0.0144895  0.00645371  0.00599774\n",
      "rand_for    0.0206795  0.00432802  0.010692   0.00898074  0.0173989\n",
      "gboost      0.0181897  0.0211621   0.04456    0.00852471  0.0380325\n",
      "lightgbm    0.0517478  0.0353428   0.0377197  0.0141235   0.04456\n",
      "catboost    0.0294833  0.0315372   0.0434246  0.0110024   0.035968\n"
     ]
    }
   ],
   "source": [
    "for score in ['ROC', 'PrRc', 'HScore']:\n",
    "    final_train = []\n",
    "    final_test = []\n",
    "    if include_val: final_val = []\n",
    "    for model in model_dict.keys():\n",
    "        train_res = [model]\n",
    "        test_res = [model]\n",
    "        if include_val: val_res = [model]\n",
    "        for method in method_list:\n",
    "            train_res.append(average_score(results_train, model, method, score))\n",
    "            test_res.append(average_score(results_test, model, method, score))\n",
    "            if include_val: val_res.append(average_score(results_val, model, method, score))\n",
    "        final_train.append(train_res)\n",
    "        final_test.append(test_res)\n",
    "        if include_val: final_val.append(val_res)\n",
    "    print(\"-\"*65)\n",
    "    print(f'\\n{score}\\n')\n",
    "    print('\\n Train Results \\n')\n",
    "    print(tabulate(final_train, headers = method_list))\n",
    "    print(\"-\"*65)\n",
    "    print('\\n Test Results \\n')\n",
    "    print(tabulate(final_test, headers = method_list))\n",
    "    if include_val: \n",
    "        print('\\n Val Results \\n')\n",
    "        print(tabulate(final_val, headers = method_list))\n",
    "        print(\"-\"*65)"
   ]
  }
 ],
 "metadata": {
  "colab": {
   "collapsed_sections": [],
   "machine_shape": "hm",
   "name": "4. Classification.ipynb",
   "provenance": []
  },
  "kernelspec": {
   "display_name": "Python 3 (ipykernel)",
   "language": "python",
   "name": "python3"
  },
  "language_info": {
   "codemirror_mode": {
    "name": "ipython",
    "version": 3
   },
   "file_extension": ".py",
   "mimetype": "text/x-python",
   "name": "python",
   "nbconvert_exporter": "python",
   "pygments_lexer": "ipython3",
   "version": "3.8.8"
  }
 },
 "nbformat": 4,
 "nbformat_minor": 5
}
