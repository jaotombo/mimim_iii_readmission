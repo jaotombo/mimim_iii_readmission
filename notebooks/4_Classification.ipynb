{
 "cells": [
  {
   "cell_type": "markdown",
   "id": "39c464e0",
   "metadata": {
    "id": "39c464e0"
   },
   "source": [
    "# Classification"
   ]
  },
  {
   "cell_type": "code",
   "execution_count": 1,
   "id": "dadefae3",
   "metadata": {
    "colab": {
     "base_uri": "https://localhost:8080/"
    },
    "id": "dadefae3",
    "outputId": "e9d79146-ee91-4e19-f7c9-27b4d2a9727d"
   },
   "outputs": [],
   "source": [
    "# Import libraries\n",
    "import numpy as np\n",
    "import pandas as pd\n",
    "import os\n",
    "import random\n",
    "import dill\n",
    "import pickle\n",
    "from tabulate import tabulate\n",
    "\n",
    "import sys\n",
    "\n",
    "import warnings\n",
    "warnings.filterwarnings(\"ignore\")\n",
    "\n",
    "from sklearn.metrics import roc_auc_score\n",
    "from sklearn.model_selection import RandomizedSearchCV, GridSearchCV\n",
    "from sklearn.ensemble import RandomForestClassifier\n",
    "from sklearn.tree import DecisionTreeClassifier\n",
    "from sklearn.linear_model import LogisticRegression\n",
    "from sklearn.ensemble import BaggingClassifier\n",
    "from sklearn.ensemble import GradientBoostingClassifier\n",
    "import lightgbm as lgb\n",
    "try:\n",
    "  from catboost import CatBoostClassifier\n",
    "except:\n",
    "  !pip install catboost\n",
    "  from catboost import CatBoostClassifier\n",
    "\n",
    "import time\n",
    "from datetime import timedelta"
   ]
  },
  {
   "cell_type": "code",
   "execution_count": 2,
   "id": "2205b1e7",
   "metadata": {
    "colab": {
     "base_uri": "https://localhost:8080/"
    },
    "id": "2205b1e7",
    "outputId": "e4543a9c-c463-4fc2-b393-e42fd55b2a1a"
   },
   "outputs": [
    {
     "name": "stdout",
     "output_type": "stream",
     "text": [
      "C:\\Users\\luca9\\Documents\\MIMIC-III Text Mining\\mimim_iii_readmission\n"
     ]
    }
   ],
   "source": [
    "try:\n",
    "  from google.colab import drive\n",
    "  IN_COLAB=True\n",
    "except:\n",
    "  IN_COLAB=False\n",
    "\n",
    "if IN_COLAB:\n",
    "  print(\"We're running Colab\")\n",
    "\n",
    "if IN_COLAB:  \n",
    "  # Mount the Google Drive at mount\n",
    "  mount='/content/gdrive'\n",
    "  print(\"Colab: mounting Google drive on \", mount)\n",
    "  # connect your colab with the drive\n",
    "  drive.mount(mount)\n",
    "\n",
    " # Switch to the directory on the Google Drive that you want to use\n",
    "  import os\n",
    "  path_to_repo = mount + \"/My Drive/MIMIC-III Text Mining/mimim_iii_readmission\"\n",
    "\n",
    "else:\n",
    "   path_to_repo = os.path.dirname(os.getcwd())\n",
    "\n",
    "  \n",
    "print(path_to_repo)"
   ]
  },
  {
   "cell_type": "code",
   "execution_count": 3,
   "id": "729f43fa",
   "metadata": {
    "colab": {
     "base_uri": "https://localhost:8080/"
    },
    "id": "729f43fa",
    "outputId": "40533f0b-c81c-469c-8954-24ac30711aea"
   },
   "outputs": [
    {
     "name": "stdout",
     "output_type": "stream",
     "text": [
      "C:\\Users\\luca9\\Documents\\MIMIC-III Text Mining\\mimim_iii_readmission\\data\\\n"
     ]
    }
   ],
   "source": [
    "path_to_data = os.path.join(path_to_repo, \"data\",\"\")\n",
    "print(path_to_data)"
   ]
  },
  {
   "cell_type": "code",
   "execution_count": 4,
   "id": "a17b264d",
   "metadata": {
    "colab": {
     "base_uri": "https://localhost:8080/"
    },
    "id": "a17b264d",
    "outputId": "12557a08-55b2-419f-e6f1-af8347719c31"
   },
   "outputs": [
    {
     "name": "stdout",
     "output_type": "stream",
     "text": [
      "C:\\Users\\luca9\\Documents\\MIMIC-III Text Mining\\mimim_iii_readmission\\data\\processed\\\n"
     ]
    }
   ],
   "source": [
    "path_to_processed = os.path.join(path_to_data,\"processed\",\"\")\n",
    "os.makedirs(path_to_processed, exist_ok=True) # we create the directory if it does not exist\n",
    "print(path_to_processed)"
   ]
  },
  {
   "cell_type": "code",
   "execution_count": 5,
   "id": "2d03c45a",
   "metadata": {
    "colab": {
     "base_uri": "https://localhost:8080/"
    },
    "id": "2d03c45a",
    "outputId": "566c6f43-ea46-4432-cc97-17031353915e"
   },
   "outputs": [
    {
     "name": "stdout",
     "output_type": "stream",
     "text": [
      "C:\\Users\\luca9\\Documents\\MIMIC-III Text Mining\\mimim_iii_readmission\\data\\models\\\n"
     ]
    }
   ],
   "source": [
    "path_to_models = os.path.join(path_to_data,\"models\",\"\")\n",
    "os.makedirs(path_to_models, exist_ok=True) # we create the directory if it does not exist\n",
    "print(path_to_models)"
   ]
  },
  {
   "cell_type": "code",
   "execution_count": 6,
   "id": "52eba6db",
   "metadata": {
    "id": "52eba6db"
   },
   "outputs": [],
   "source": [
    "# PARAMETERS\n",
    "\n",
    "session_seed = 42 # set seed for our session\n",
    "include_val = False # set to True if we want to also create a validation set\n",
    "tune_models = True # set to True if we want to perform parameter tuning\n",
    "\n",
    "\n",
    "if tune_models:\n",
    "  tune_tag = '_tuned'\n",
    "else:\n",
    "  tune_tag = ''\n",
    "\n",
    "random.seed(session_seed)"
   ]
  },
  {
   "cell_type": "markdown",
   "id": "6cbb49c6",
   "metadata": {
    "id": "6cbb49c6"
   },
   "source": [
    "## Train the Models"
   ]
  },
  {
   "cell_type": "code",
   "execution_count": 7,
   "id": "5677bd47",
   "metadata": {
    "id": "5677bd47"
   },
   "outputs": [],
   "source": [
    "def load_datasets(method, include_val = True, target = False):\n",
    "    \"\"\"\n",
    "    Function to load train, test and validation set based on the chosen method\n",
    "    method: string for the processing method we want to load\n",
    "    include_diag: if we want to load the dataframes with the diagnosis text, default True\n",
    "    include_test: if we want to load also the test set, default True\n",
    "    target: if we are importing our target variables\n",
    "    \"\"\"\n",
    "    global path_to_processed\n",
    "    if target == True: \n",
    "        target = 'y_'\n",
    "    else: \n",
    "        target = ''\n",
    "    # load it back\n",
    "    train = pd.read_feather(f'{path_to_processed}{target}train_{method}')\n",
    "    test = pd.read_feather(f'{path_to_processed}{target}test_{method}')\n",
    "    if include_val == True:\n",
    "        val = pd.read_feather(f'{path_to_processed}{target}val_{method}')\n",
    "    else: val = []\n",
    "    return train, test, val"
   ]
  },
  {
   "cell_type": "code",
   "execution_count": 8,
   "id": "94c3a0cd",
   "metadata": {
    "id": "94c3a0cd"
   },
   "outputs": [],
   "source": [
    "y_train, y_test, y_val = load_datasets(method = '', include_val = include_val, target = True)"
   ]
  },
  {
   "cell_type": "code",
   "execution_count": 9,
   "id": "9dd0a6f7",
   "metadata": {
    "id": "9dd0a6f7"
   },
   "outputs": [],
   "source": [
    "# initialize a dictionary for the results of all the models\n",
    "train_roc = {}\n",
    "val_roc = {}\n",
    "test_roc = {}"
   ]
  },
  {
   "cell_type": "code",
   "execution_count": 10,
   "id": "be35822f",
   "metadata": {
    "id": "be35822f"
   },
   "outputs": [],
   "source": [
    "model_dict = {\n",
    "    'log_reg': LogisticRegression(solver = \"saga\", penalty = 'elasticnet', random_state = session_seed, n_jobs = -1) # default penalty is l2, we do lasso\n",
    "    #, 'dec_tree': DecisionTreeClassifier(random_state = session_seed)\n",
    "    #, 'bag_tree': BaggingClassifier(base_estimator = DecisionTreeClassifier(), n_estimators = 10, random_state = session_seed, n_jobs = -1)\n",
    "    , 'rand_for': RandomForestClassifier(random_state = session_seed, n_jobs = -1)\n",
    "    #, 'gboost': GradientBoostingClassifier(random_state = session_seed)\n",
    "    , 'lightgbm': lgb.LGBMClassifier(random_state = 42, n_jobs = -1, deterministic = True)\n",
    "    #, 'catboost': CatBoostClassifier(random_seed = 42)\n",
    "}"
   ]
  },
  {
   "cell_type": "code",
   "execution_count": 27,
   "id": "beuUkt18xXbf",
   "metadata": {
    "id": "beuUkt18xXbf"
   },
   "outputs": [],
   "source": [
    "# PARAMETERS FOR LOGISTIC REGRESSION -------\n",
    "param_en = {'C': np.logspace(-3, 4, 10), 'l1_ratio':np.linspace(0,1,11) }\n",
    "\n",
    "# PARAMETERS FOR RANDOM FOREST -------\n",
    "# Number of trees in random forest\n",
    "n_estimators = [int(x) for x in np.linspace(start = 100, stop = 500, num = 5)]\n",
    "# Number of features to consider at every split\n",
    "max_features = ['auto', 'sqrt']\n",
    "# Maximum number of levels in tree\n",
    "max_depth = [int(x) for x in np.linspace(10, 110, num = 11)]\n",
    "max_depth.append(None)\n",
    "# Minimum number of samples required to split a node\n",
    "min_samples_split = [2, 5, 10]\n",
    "# Minimum number of samples required at each leaf node\n",
    "min_samples_leaf = [1, 2, 4]\n",
    "# Maximum number of samples per tree\n",
    "max_sampl = list(np.arange(0.01,1,0.2))\n",
    "max_sampl.append(None)\n",
    "# Create the random grid\n",
    "param_rf = {'n_estimators': n_estimators,\n",
    "               'max_features': max_features,\n",
    "               'max_depth': max_depth,\n",
    "               'min_samples_split': min_samples_split,\n",
    "               'min_samples_leaf': min_samples_leaf,\n",
    "               'max_samples': max_sampl}\n",
    "\n",
    "# PARAMETERS FOR LIGHTGBM -----------\n",
    "param_lgb = {'max_depth': max_depth,\n",
    "             'min_data_in_leaf': min_samples_leaf,\n",
    "             'num_iterations': n_estimators,\n",
    "             'learning_rate': list(np.linspace(0, 1, num = 10)),\n",
    "             'colsample_bytree': list(np.linspace(0, 1, num = 10)),\n",
    "             'subsample': list(np.linspace(0, 1, num = 10)),\n",
    "             'reg_alpha': [0, 1e-1, 1, 2, 5, 7, 10, 50, 100],\n",
    "             'reg_lambda': [0, 1e-1, 1, 5, 10, 20, 50, 100]}"
   ]
  },
  {
   "cell_type": "code",
   "execution_count": 29,
   "id": "EzVYyT1S1DuA",
   "metadata": {
    "id": "EzVYyT1S1DuA"
   },
   "outputs": [],
   "source": [
    "param_dictionary = {\n",
    "    'log_reg': param_en\n",
    "    #, 'dec_tree': DecisionTreeClassifier(random_state = session_seed)\n",
    "    #, 'bag_tree': BaggingClassifier(base_estimator = DecisionTreeClassifier(), n_estimators = 10, random_state = session_seed, n_jobs = -1)\n",
    "    , 'rand_for': param_rf\n",
    "    #, 'gboost': GradientBoostingClassifier(random_state = session_seed)\n",
    "    , 'lightgbm': param_lgb\n",
    "    #, 'catboost': CatBoostClassifier(random_seed = 42)\n",
    "}"
   ]
  },
  {
   "cell_type": "code",
   "execution_count": 30,
   "id": "f0a83e3e",
   "metadata": {
    "id": "f0a83e3e"
   },
   "outputs": [],
   "source": [
    "method_list = ['frequency', 'onehot','tf_idf', 'svd', 'lda']"
   ]
  },
  {
   "cell_type": "code",
   "execution_count": 31,
   "id": "a6553d5b",
   "metadata": {
    "colab": {
     "base_uri": "https://localhost:8080/",
     "height": 1000
    },
    "id": "a6553d5b",
    "outputId": "fbcf04f2-3b7f-41ce-e3fd-138d6c4fb5e6",
    "scrolled": false
   },
   "outputs": [
    {
     "name": "stdout",
     "output_type": "stream",
     "text": [
      "log_reg\n",
      "frequency\n",
      "Model already trained\n",
      "0:00:00.015000\n",
      "ROC Training Set: 0.8065971893423174\n",
      "ROC Test Set: 0.6117438407099326\n",
      "onehot\n",
      "Model already trained\n",
      "0:00:00\n",
      "ROC Training Set: 0.9979198703261057\n",
      "ROC Test Set: 0.6076135787437305\n",
      "tf_idf\n",
      "Model already trained\n",
      "0:00:00\n",
      "ROC Training Set: 0.7866722311232908\n",
      "ROC Test Set: 0.7134400071605972\n",
      "svd\n",
      "Model already trained\n",
      "0:00:00\n",
      "ROC Training Set: 0.6268982267530675\n",
      "ROC Test Set: 0.5930676930189254\n",
      "lda\n",
      "Model already trained\n",
      "0:00:00\n",
      "ROC Training Set: 0.6904609240913326\n",
      "ROC Test Set: 0.6800855580628924\n",
      "rand_for\n",
      "frequency\n",
      "Model already trained\n",
      "0:00:00.110000\n",
      "ROC Training Set: 0.9834809468559619\n",
      "ROC Test Set: 0.7271595636649523\n",
      "onehot\n",
      "Model already trained\n",
      "0:00:00.125000\n",
      "ROC Training Set: 0.9979467858202722\n",
      "ROC Test Set: 0.7173834107603659\n",
      "tf_idf\n",
      "Model already trained\n",
      "0:00:00.109000\n",
      "ROC Training Set: 0.9996056620747604\n",
      "ROC Test Set: 0.6677644403453512\n",
      "svd\n",
      "Model already trained\n",
      "0:00:00.047000\n",
      "ROC Training Set: 0.873592793702074\n",
      "ROC Test Set: 0.6883912971061869\n",
      "lda\n",
      "Model already trained\n",
      "0:00:00.235000\n",
      "ROC Training Set: 0.9999652749780829\n",
      "ROC Test Set: 0.695487531933172\n",
      "lightgbm\n",
      "frequency\n",
      "[LightGBM] [Warning] min_data_in_leaf is set=1, min_child_samples=20 will be ignored. Current value: min_data_in_leaf=1\n",
      "Model successfully trained\n",
      "Model saved\n",
      "0:16:49.828000\n",
      "ROC Training Set: 0.9807803487614061\n",
      "ROC Test Set: 0.6897108401382844\n",
      "onehot\n",
      "[LightGBM] [Warning] min_data_in_leaf is set=1, min_child_samples=20 will be ignored. Current value: min_data_in_leaf=1\n",
      "Model successfully trained\n",
      "Model saved\n",
      "0:21:37.953000\n",
      "ROC Training Set: 0.9066720224849849\n",
      "ROC Test Set: 0.7020993191434781\n",
      "tf_idf\n",
      "[LightGBM] [Warning] min_data_in_leaf is set=2, min_child_samples=20 will be ignored. Current value: min_data_in_leaf=2\n",
      "Model successfully trained\n",
      "Model saved\n",
      "1:00:36.844000\n",
      "ROC Training Set: 1.0\n",
      "ROC Test Set: 0.6818766301085578\n",
      "svd\n",
      "[LightGBM] [Warning] min_data_in_leaf is set=2, min_child_samples=20 will be ignored. Current value: min_data_in_leaf=2\n",
      "Model successfully trained\n",
      "Model saved\n",
      "0:00:23.078000\n",
      "ROC Training Set: 0.7678143973226056\n",
      "ROC Test Set: 0.6979323775720132\n",
      "lda\n",
      "[LightGBM] [Warning] min_data_in_leaf is set=4, min_child_samples=20 will be ignored. Current value: min_data_in_leaf=4\n",
      "Model successfully trained\n",
      "Model saved\n",
      "0:00:28.407000\n",
      "ROC Training Set: 0.8731331266277175\n",
      "ROC Test Set: 0.6839486817718972\n"
     ]
    }
   ],
   "source": [
    "for model_name, model in model_dict.items(): \n",
    "    print(model_name)\n",
    "    # initialize lists with the results\n",
    "    results_train = []\n",
    "    results_val = []\n",
    "    results_test = []\n",
    "    for method in method_list:\n",
    "        print(method)\n",
    "        train, test, val = load_datasets(method, include_val = include_val) # we load the dataset we want to use\n",
    "        start_time = time.monotonic()\n",
    "        try:\n",
    "            with open(f'{path_to_models}_{model_name}_{method}{tune_tag}', 'rb') as file:\n",
    "                estimator = dill.load(file)\n",
    "            print('Model already trained')\n",
    "        except:\n",
    "            if tune_models:\n",
    "              # if we want to perform parameter tuning we use randomsearchCV\n",
    "               gridsearch = RandomizedSearchCV(model, param_dictionary[model_name], cv=5, n_jobs=-1, \n",
    "                          scoring=['accuracy','roc_auc'], refit = 'roc_auc')\n",
    "               gridsearch.fit(train, y_train) # we fit our model\n",
    "               estimator = gridsearch.best_estimator_\n",
    "            else:\n",
    "               model.fit(train, y_train) # we fit our model\n",
    "               estimator = model\n",
    "            print('Model successfully trained')\n",
    "            with open(f'{path_to_models}_{model_name}_{method}{tune_tag}', 'wb') as file: # and save the fitted model\n",
    "                dill.dump(estimator, file)\n",
    "            print('Model saved')\n",
    "        end_time = time.monotonic()\n",
    "        print(timedelta(seconds=end_time - start_time))\n",
    "        roc_train = roc_auc_score(y_train.target, estimator.predict_proba(train)[:, 1])\n",
    "        roc_test = roc_auc_score(y_test.target, estimator.predict_proba(test)[:, 1])\n",
    "        results_train.append(roc_train) # append the ROC score\n",
    "        results_test.append(roc_test)\n",
    "        print('ROC Training Set: {}'.format(roc_train))\n",
    "        print('ROC Test Set: {}'.format(roc_test))\n",
    "        if include_val == True:\n",
    "            roc_val = roc_auc_score(y_val.target, estimator.predict_proba(val)[:, 1])\n",
    "            results_val.append(roc_val)\n",
    "            print('ROC Validation Set: {}'.format(roc_val))\n",
    "    # finally we add the result lists to our dictionary\n",
    "    train_roc[model_name] = results_train\n",
    "    val_roc[model_name] = results_val\n",
    "    test_roc[model_name] = results_test"
   ]
  },
  {
   "cell_type": "code",
   "execution_count": 32,
   "id": "17dc9f57",
   "metadata": {
    "id": "17dc9f57"
   },
   "outputs": [],
   "source": [
    "# Then we save all our results\n",
    "with open(f'{path_to_models}train_results.pkl', 'wb') as file:\n",
    "    pickle.dump(train_roc, file)\n",
    "with open(f'{path_to_models}val_results.pkl', 'wb') as file:\n",
    "    pickle.dump(val_roc, file)\n",
    "if include_val == True:\n",
    "    with open(f'{path_to_models}test_results.pkl', 'wb') as file:\n",
    "        pickle.dump(test_roc, file)"
   ]
  },
  {
   "cell_type": "markdown",
   "id": "36537b18",
   "metadata": {
    "id": "36537b18"
   },
   "source": [
    "## Display Results"
   ]
  },
  {
   "cell_type": "code",
   "execution_count": 33,
   "id": "c07f51f2",
   "metadata": {
    "id": "c07f51f2"
   },
   "outputs": [],
   "source": [
    "def get_final_res_list(dict):\n",
    "    \"\"\"\n",
    "    Function to transform our results to a list of list usable by the tabulate function\n",
    "    \"\"\"\n",
    "    results = []\n",
    "    for key, values in dict.items():\n",
    "        new_res = [[key], values]\n",
    "        flat_list = [item for sublist in new_res for item in sublist]\n",
    "        results.append(flat_list)\n",
    "    return results"
   ]
  },
  {
   "cell_type": "code",
   "execution_count": 34,
   "id": "a3f35b3a",
   "metadata": {
    "id": "a3f35b3a"
   },
   "outputs": [
    {
     "name": "stdout",
     "output_type": "stream",
     "text": [
      "            frequency    onehot    tf_idf       svd       lda\n",
      "--------  -----------  --------  --------  --------  --------\n",
      "log_reg      0.806597  0.99792   0.786672  0.626898  0.690461\n",
      "rand_for     0.983481  0.997947  0.999606  0.873593  0.999965\n",
      "lightgbm     0.98078   0.906672  1         0.767814  0.873133\n"
     ]
    }
   ],
   "source": [
    "train_results = get_final_res_list(train_roc)\n",
    "print(tabulate(train_results, headers = method_list))"
   ]
  },
  {
   "cell_type": "code",
   "execution_count": 35,
   "id": "3ec66887",
   "metadata": {
    "id": "3ec66887"
   },
   "outputs": [],
   "source": [
    "if include_val:\n",
    "    val_results = get_final_res_list(val_roc)\n",
    "    print(tabulate(val_results, headers = method_list))"
   ]
  },
  {
   "cell_type": "code",
   "execution_count": 36,
   "id": "0413986b",
   "metadata": {
    "id": "0413986b"
   },
   "outputs": [
    {
     "name": "stdout",
     "output_type": "stream",
     "text": [
      "            frequency    onehot    tf_idf       svd       lda\n",
      "--------  -----------  --------  --------  --------  --------\n",
      "log_reg      0.611744  0.607614  0.71344   0.593068  0.680086\n",
      "rand_for     0.72716   0.717383  0.667764  0.688391  0.695488\n",
      "lightgbm     0.689711  0.702099  0.681877  0.697932  0.683949\n"
     ]
    }
   ],
   "source": [
    "test_results = get_final_res_list(test_roc)\n",
    "print(tabulate(test_results, headers = method_list))"
   ]
  }
 ],
 "metadata": {
  "colab": {
   "collapsed_sections": [],
   "machine_shape": "hm",
   "name": "4. Classification.ipynb",
   "provenance": []
  },
  "kernelspec": {
   "display_name": "Python 3 (ipykernel)",
   "language": "python",
   "name": "python3"
  },
  "language_info": {
   "codemirror_mode": {
    "name": "ipython",
    "version": 3
   },
   "file_extension": ".py",
   "mimetype": "text/x-python",
   "name": "python",
   "nbconvert_exporter": "python",
   "pygments_lexer": "ipython3",
   "version": "3.8.8"
  }
 },
 "nbformat": 4,
 "nbformat_minor": 5
}
