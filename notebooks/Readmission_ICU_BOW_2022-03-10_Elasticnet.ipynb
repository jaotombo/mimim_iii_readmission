{
 "cells": [
  {
   "cell_type": "markdown",
   "metadata": {},
   "source": [
    "\"\"\"\n",
    "Created on Tue Jul 20 19:42:06 2021\n",
    "@author: Franck\n",
    "\"\"\""
   ]
  },
  {
   "cell_type": "code",
   "execution_count": 1,
   "metadata": {},
   "outputs": [],
   "source": [
    "import pandas as pd\n",
    "import os\n",
    "import numpy as np\n",
    "from sklearn.linear_model import LogisticRegression\n",
    "from sklearn.model_selection import RandomizedSearchCV, GridSearchCV\n",
    "from sklearn.model_selection import train_test_split\n",
    "from sklearn.feature_extraction.text import TfidfVectorizer\n",
    "from sklearn.metrics import accuracy_score, roc_auc_score, classification_report\n",
    "from sklearn.inspection import permutation_importance\n",
    "\n",
    "from sklearn import metrics\n",
    "from sklearn.metrics import plot_precision_recall_curve, plot_roc_curve\n",
    "from sklearn.metrics import precision_recall_curve, roc_curve\n",
    "\n",
    "import matplotlib.pyplot as plt"
   ]
  },
  {
   "cell_type": "code",
   "execution_count": 2,
   "metadata": {},
   "outputs": [
    {
     "data": {
      "text/plain": [
       "'F:\\\\Dropbox\\\\Travaux_JAOTOMBO\\\\These_Sante_Publique\\\\Mimic3\\\\Codes\\\\../Data'"
      ]
     },
     "execution_count": 2,
     "metadata": {},
     "output_type": "execute_result"
    }
   ],
   "source": [
    "DATA_PATH = os.path.join(os.getcwd(),\"../Data\")\n",
    "DATA_PATH"
   ]
  },
  {
   "cell_type": "code",
   "execution_count": 3,
   "metadata": {},
   "outputs": [],
   "source": [
    "df_raw = pd.read_feather(os.path.join(DATA_PATH,\"30_READM_UNPLANNED_DISCHARGE_ICU\"))"
   ]
  },
  {
   "cell_type": "code",
   "execution_count": 4,
   "metadata": {
    "jupyter": {
     "source_hidden": true
    },
    "scrolled": true,
    "tags": []
   },
   "outputs": [
    {
     "name": "stdout",
     "output_type": "stream",
     "text": [
      "<class 'pandas.core.frame.DataFrame'>\n",
      "RangeIndex: 33316 entries, 0 to 33315\n",
      "Data columns (total 16 columns):\n",
      " #   Column           Non-Null Count  Dtype         \n",
      "---  ------           --------------  -----         \n",
      " 0   index            33316 non-null  int64         \n",
      " 1   subject_id       33316 non-null  int64         \n",
      " 2   hadm_id          33316 non-null  int64         \n",
      " 3   admittime        33316 non-null  datetime64[ns]\n",
      " 4   dischtime        33316 non-null  datetime64[ns]\n",
      " 5   first_careunit   33316 non-null  object        \n",
      " 6   last_careunit    33316 non-null  object        \n",
      " 7   age              33316 non-null  float64       \n",
      " 8   gender           33316 non-null  object        \n",
      " 9   marital_status   31754 non-null  object        \n",
      " 10  insurance        33316 non-null  object        \n",
      " 11  diagnosis        33315 non-null  object        \n",
      " 12  admission_type   33316 non-null  object        \n",
      " 13  next_readmit_dt  33316 non-null  float64       \n",
      " 14  target           33316 non-null  int32         \n",
      " 15  text_final       33316 non-null  object        \n",
      "dtypes: datetime64[ns](2), float64(2), int32(1), int64(3), object(8)\n",
      "memory usage: 3.9+ MB\n"
     ]
    }
   ],
   "source": [
    "df_raw.info()"
   ]
  },
  {
   "cell_type": "code",
   "execution_count": 5,
   "metadata": {},
   "outputs": [],
   "source": [
    "df = df_raw.copy()"
   ]
  },
  {
   "cell_type": "code",
   "execution_count": 6,
   "metadata": {},
   "outputs": [
    {
     "name": "stdout",
     "output_type": "stream",
     "text": [
      "<class 'pandas.core.frame.DataFrame'>\n",
      "RangeIndex: 33316 entries, 0 to 33315\n",
      "Data columns (total 16 columns):\n",
      " #   Column           Non-Null Count  Dtype         \n",
      "---  ------           --------------  -----         \n",
      " 0   index            33316 non-null  int64         \n",
      " 1   subject_id       33316 non-null  int64         \n",
      " 2   hadm_id          33316 non-null  int64         \n",
      " 3   admittime        33316 non-null  datetime64[ns]\n",
      " 4   dischtime        33316 non-null  datetime64[ns]\n",
      " 5   first_careunit   33316 non-null  object        \n",
      " 6   last_careunit    33316 non-null  object        \n",
      " 7   age              33316 non-null  float64       \n",
      " 8   gender           33316 non-null  object        \n",
      " 9   marital_status   31754 non-null  object        \n",
      " 10  insurance        33316 non-null  object        \n",
      " 11  diagnosis        33315 non-null  object        \n",
      " 12  admission_type   33316 non-null  object        \n",
      " 13  next_readmit_dt  33316 non-null  float64       \n",
      " 14  target           33316 non-null  int32         \n",
      " 15  text_final       33316 non-null  object        \n",
      "dtypes: datetime64[ns](2), float64(2), int32(1), int64(3), object(8)\n",
      "memory usage: 3.9+ MB\n"
     ]
    }
   ],
   "source": [
    "df.info()"
   ]
  },
  {
   "cell_type": "markdown",
   "metadata": {},
   "source": [
    "=============================================================================<br>\n",
    " Unstructured dataset<br>\n",
    "=============================================================================<br>"
   ]
  },
  {
   "cell_type": "code",
   "execution_count": 11,
   "metadata": {},
   "outputs": [],
   "source": [
    "X = df[\"text_final\"]"
   ]
  },
  {
   "cell_type": "code",
   "execution_count": 12,
   "metadata": {},
   "outputs": [],
   "source": [
    "y = df[\"target\"]"
   ]
  },
  {
   "cell_type": "markdown",
   "metadata": {},
   "source": [
    "Outcome category frequency"
   ]
  },
  {
   "cell_type": "code",
   "execution_count": 14,
   "metadata": {},
   "outputs": [
    {
     "name": "stdout",
     "output_type": "stream",
     "text": [
      "0    31974\n",
      "1     1342\n",
      "Name: target, dtype: int64\n",
      "0    0.959719\n",
      "1    0.040281\n",
      "Name: target, dtype: float64\n"
     ]
    }
   ],
   "source": [
    "print(y.value_counts())\n",
    "print(y.value_counts() / len(y))"
   ]
  },
  {
   "cell_type": "code",
   "execution_count": 13,
   "metadata": {},
   "outputs": [],
   "source": [
    "# Start working with a subset of 10% of the full data\n",
    "# _, X, _, y = train_test_split(X, y, test_size=0.1, shuffle=True, stratify = y, random_state=42)"
   ]
  },
  {
   "cell_type": "code",
   "execution_count": 15,
   "metadata": {},
   "outputs": [
    {
     "data": {
      "text/plain": [
       "((33316,), (33316,))"
      ]
     },
     "execution_count": 15,
     "metadata": {},
     "output_type": "execute_result"
    }
   ],
   "source": [
    "X.shape, y.shape"
   ]
  },
  {
   "cell_type": "code",
   "execution_count": 16,
   "metadata": {},
   "outputs": [],
   "source": [
    "MAX_FEATURES = 5000\n",
    "N_GRAM = (1,2)\n",
    "RANDOM_STATE = 42"
   ]
  },
  {
   "cell_type": "markdown",
   "metadata": {},
   "source": [
    "Create data partition between training and test sets"
   ]
  },
  {
   "cell_type": "code",
   "execution_count": 17,
   "metadata": {},
   "outputs": [],
   "source": [
    "X_full_train, X_test, y_full_train, y_test = train_test_split(X, y, test_size=0.1, shuffle=True, stratify = y, random_state=RANDOM_STATE)"
   ]
  },
  {
   "cell_type": "code",
   "execution_count": 18,
   "metadata": {},
   "outputs": [
    {
     "name": "stdout",
     "output_type": "stream",
     "text": [
      "0    28776\n",
      "1     1208\n",
      "Name: target, dtype: int64\n",
      "0    0.959712\n",
      "1    0.040288\n",
      "Name: target, dtype: float64\n"
     ]
    }
   ],
   "source": [
    "print(y_full_train.value_counts())\n",
    "print(y_full_train.value_counts() / len(y_full_train))"
   ]
  },
  {
   "cell_type": "markdown",
   "metadata": {},
   "source": [
    "TF-IDF Document to Terms Transformation"
   ]
  },
  {
   "cell_type": "code",
   "execution_count": 19,
   "metadata": {},
   "outputs": [],
   "source": [
    "def tfidf_features(X_train, X_test):\n",
    "    \"\"\"\n",
    "        X_train, X_test samples        \n",
    "        return TF-IDF vectorized representation of each sample and vocabulary\n",
    "    \"\"\"\n",
    "    tfidf_vectorizer = TfidfVectorizer(ngram_range=N_GRAM, min_df=5, max_df=0.80, max_features=MAX_FEATURES)\n",
    "    \n",
    "    X_train = tfidf_vectorizer.fit_transform(X_train)\n",
    "    X_test = tfidf_vectorizer.transform(X_test)\n",
    "   \n",
    "    return X_train, X_test, tfidf_vectorizer.vocabulary_, tfidf_vectorizer.get_feature_names()"
   ]
  },
  {
   "cell_type": "markdown",
   "metadata": {},
   "source": [
    "Transform the full training and the test sets into TF IDF features"
   ]
  },
  {
   "cell_type": "code",
   "execution_count": 20,
   "metadata": {},
   "outputs": [
    {
     "name": "stderr",
     "output_type": "stream",
     "text": [
      "E:\\Anaconda3\\envs\\text\\lib\\site-packages\\sklearn\\utils\\deprecation.py:87: FutureWarning: Function get_feature_names is deprecated; get_feature_names is deprecated in 1.0 and will be removed in 1.2. Please use get_feature_names_out instead.\n",
      "  warnings.warn(msg, category=FutureWarning)\n"
     ]
    }
   ],
   "source": [
    "X_train_tfidf, X_test_tfidf, tfidf_vocab, tfidf_features_names = tfidf_features(X_full_train, X_test)"
   ]
  },
  {
   "cell_type": "code",
   "execution_count": 21,
   "metadata": {},
   "outputs": [
    {
     "data": {
      "text/plain": [
       "(29984, 5000)"
      ]
     },
     "execution_count": 21,
     "metadata": {},
     "output_type": "execute_result"
    }
   ],
   "source": [
    "X_train_tfidf.shape"
   ]
  },
  {
   "cell_type": "markdown",
   "metadata": {},
   "source": [
    "**Lasso Variable Selection**"
   ]
  },
  {
   "cell_type": "code",
   "execution_count": 22,
   "metadata": {},
   "outputs": [],
   "source": [
    "lasso = LogisticRegression(max_iter=300, solver=\"saga\", penalty=\"l1\", n_jobs=-1, random_state=RANDOM_STATE)"
   ]
  },
  {
   "cell_type": "code",
   "execution_count": 23,
   "metadata": {},
   "outputs": [
    {
     "data": {
      "text/plain": [
       "LogisticRegression(max_iter=300, n_jobs=-1, penalty='l1', random_state=42,\n",
       "                   solver='saga')"
      ]
     },
     "execution_count": 23,
     "metadata": {},
     "output_type": "execute_result"
    }
   ],
   "source": [
    "lasso.fit(X_train_tfidf, y_full_train)"
   ]
  },
  {
   "cell_type": "code",
   "execution_count": 24,
   "metadata": {},
   "outputs": [
    {
     "data": {
      "text/plain": [
       "(1, 5000)"
      ]
     },
     "execution_count": 24,
     "metadata": {},
     "output_type": "execute_result"
    }
   ],
   "source": [
    "lasso.coef_.shape"
   ]
  },
  {
   "cell_type": "code",
   "execution_count": 25,
   "metadata": {},
   "outputs": [],
   "source": [
    "lasso_coef = pd.DataFrame(lasso.coef_, columns = tfidf_features_names, index=[\"coefficients\"])"
   ]
  },
  {
   "cell_type": "code",
   "execution_count": 26,
   "metadata": {},
   "outputs": [
    {
     "data": {
      "text/html": [
       "<div>\n",
       "<style scoped>\n",
       "    .dataframe tbody tr th:only-of-type {\n",
       "        vertical-align: middle;\n",
       "    }\n",
       "\n",
       "    .dataframe tbody tr th {\n",
       "        vertical-align: top;\n",
       "    }\n",
       "\n",
       "    .dataframe thead th {\n",
       "        text-align: right;\n",
       "    }\n",
       "</style>\n",
       "<table border=\"1\" class=\"dataframe\">\n",
       "  <thead>\n",
       "    <tr style=\"text-align: right;\">\n",
       "      <th></th>\n",
       "      <th>aaa</th>\n",
       "      <th>ab</th>\n",
       "      <th>abd</th>\n",
       "      <th>abd pain</th>\n",
       "      <th>abd pelvis</th>\n",
       "      <th>abd soft</th>\n",
       "      <th>abdoman</th>\n",
       "      <th>abdoman pelvis</th>\n",
       "      <th>abdoman soft</th>\n",
       "      <th>abdomen</th>\n",
       "      <th>...</th>\n",
       "      <th>yo</th>\n",
       "      <th>yr</th>\n",
       "      <th>yr ago</th>\n",
       "      <th>zantac</th>\n",
       "      <th>zestril</th>\n",
       "      <th>zocor</th>\n",
       "      <th>zofran</th>\n",
       "      <th>zoloft</th>\n",
       "      <th>zosyn</th>\n",
       "      <th>zyprexa</th>\n",
       "    </tr>\n",
       "  </thead>\n",
       "  <tbody>\n",
       "    <tr>\n",
       "      <th>coefficients</th>\n",
       "      <td>0.0</td>\n",
       "      <td>0.0</td>\n",
       "      <td>0.0</td>\n",
       "      <td>0.0</td>\n",
       "      <td>0.0</td>\n",
       "      <td>0.0</td>\n",
       "      <td>0.0</td>\n",
       "      <td>0.0</td>\n",
       "      <td>0.0</td>\n",
       "      <td>0.0</td>\n",
       "      <td>...</td>\n",
       "      <td>0.0</td>\n",
       "      <td>0.0</td>\n",
       "      <td>0.0</td>\n",
       "      <td>0.0</td>\n",
       "      <td>0.0</td>\n",
       "      <td>0.0</td>\n",
       "      <td>0.0</td>\n",
       "      <td>0.0</td>\n",
       "      <td>0.0</td>\n",
       "      <td>0.0</td>\n",
       "    </tr>\n",
       "  </tbody>\n",
       "</table>\n",
       "<p>1 rows × 5000 columns</p>\n",
       "</div>"
      ],
      "text/plain": [
       "              aaa   ab  abd  abd pain  abd pelvis  abd soft  abdoman  \\\n",
       "coefficients  0.0  0.0  0.0       0.0         0.0       0.0      0.0   \n",
       "\n",
       "              abdoman pelvis  abdoman soft  abdomen  ...   yo   yr  yr ago  \\\n",
       "coefficients             0.0           0.0      0.0  ...  0.0  0.0     0.0   \n",
       "\n",
       "              zantac  zestril  zocor  zofran  zoloft  zosyn  zyprexa  \n",
       "coefficients     0.0      0.0    0.0     0.0     0.0    0.0      0.0  \n",
       "\n",
       "[1 rows x 5000 columns]"
      ]
     },
     "execution_count": 26,
     "metadata": {},
     "output_type": "execute_result"
    }
   ],
   "source": [
    "lasso_coef"
   ]
  },
  {
   "cell_type": "code",
   "execution_count": 27,
   "metadata": {},
   "outputs": [],
   "source": [
    "lasso_imp = (lasso_coef.T.abs()/lasso_coef.T.abs().max()).sort_values(by=\"coefficients\",ascending=False)*100"
   ]
  },
  {
   "cell_type": "code",
   "execution_count": 28,
   "metadata": {},
   "outputs": [
    {
     "data": {
      "text/html": [
       "<div>\n",
       "<style scoped>\n",
       "    .dataframe tbody tr th:only-of-type {\n",
       "        vertical-align: middle;\n",
       "    }\n",
       "\n",
       "    .dataframe tbody tr th {\n",
       "        vertical-align: top;\n",
       "    }\n",
       "\n",
       "    .dataframe thead th {\n",
       "        text-align: right;\n",
       "    }\n",
       "</style>\n",
       "<table border=\"1\" class=\"dataframe\">\n",
       "  <thead>\n",
       "    <tr style=\"text-align: right;\">\n",
       "      <th></th>\n",
       "      <th>coefficients</th>\n",
       "    </tr>\n",
       "  </thead>\n",
       "  <tbody>\n",
       "    <tr>\n",
       "      <th>hospice</th>\n",
       "      <td>100.000000</td>\n",
       "    </tr>\n",
       "    <tr>\n",
       "      <th>moderate</th>\n",
       "      <td>62.450351</td>\n",
       "    </tr>\n",
       "    <tr>\n",
       "      <th>primary care</th>\n",
       "      <td>61.951949</td>\n",
       "    </tr>\n",
       "    <tr>\n",
       "      <th>transfer hospital</th>\n",
       "      <td>57.502251</td>\n",
       "    </tr>\n",
       "    <tr>\n",
       "      <th>tid</th>\n",
       "      <td>44.090543</td>\n",
       "    </tr>\n",
       "    <tr>\n",
       "      <th>...</th>\n",
       "      <td>...</td>\n",
       "    </tr>\n",
       "    <tr>\n",
       "      <th>facility</th>\n",
       "      <td>0.000000</td>\n",
       "    </tr>\n",
       "    <tr>\n",
       "      <th>facial droop</th>\n",
       "      <td>0.000000</td>\n",
       "    </tr>\n",
       "    <tr>\n",
       "      <th>facial</th>\n",
       "      <td>0.000000</td>\n",
       "    </tr>\n",
       "    <tr>\n",
       "      <th>face</th>\n",
       "      <td>0.000000</td>\n",
       "    </tr>\n",
       "    <tr>\n",
       "      <th>zyprexa</th>\n",
       "      <td>0.000000</td>\n",
       "    </tr>\n",
       "  </tbody>\n",
       "</table>\n",
       "<p>5000 rows × 1 columns</p>\n",
       "</div>"
      ],
      "text/plain": [
       "                   coefficients\n",
       "hospice              100.000000\n",
       "moderate              62.450351\n",
       "primary care          61.951949\n",
       "transfer hospital     57.502251\n",
       "tid                   44.090543\n",
       "...                         ...\n",
       "facility               0.000000\n",
       "facial droop           0.000000\n",
       "facial                 0.000000\n",
       "face                   0.000000\n",
       "zyprexa                0.000000\n",
       "\n",
       "[5000 rows x 1 columns]"
      ]
     },
     "execution_count": 28,
     "metadata": {},
     "output_type": "execute_result"
    }
   ],
   "source": [
    "lasso_imp"
   ]
  },
  {
   "cell_type": "code",
   "execution_count": 29,
   "metadata": {},
   "outputs": [],
   "source": [
    "lasso_select = lasso_imp[lasso_imp[\"coefficients\"] != 0]"
   ]
  },
  {
   "cell_type": "code",
   "execution_count": 30,
   "metadata": {},
   "outputs": [
    {
     "data": {
      "text/plain": [
       "188"
      ]
     },
     "execution_count": 30,
     "metadata": {},
     "output_type": "execute_result"
    }
   ],
   "source": [
    "len(lasso_select)"
   ]
  },
  {
   "cell_type": "code",
   "execution_count": 31,
   "metadata": {},
   "outputs": [
    {
     "data": {
      "text/plain": [
       "['hospice',\n",
       " 'moderate',\n",
       " 'primary care',\n",
       " 'transfer hospital',\n",
       " 'tid',\n",
       " 'trach',\n",
       " 'subdural',\n",
       " 'tracheostomy',\n",
       " 'mesenteric',\n",
       " 'bilateral',\n",
       " 'slightly',\n",
       " 'overdose',\n",
       " 'cpap',\n",
       " 'building',\n",
       " 'vision',\n",
       " 'peg',\n",
       " 'tube feed',\n",
       " 'recently',\n",
       " 'heparin',\n",
       " 'disp',\n",
       " 'flush',\n",
       " 'surgery',\n",
       " 'sputum',\n",
       " 'increase',\n",
       " 'control',\n",
       " 'amiodarone',\n",
       " 'clip',\n",
       " 'symptom',\n",
       " 'outside',\n",
       " 'pacer']"
      ]
     },
     "execution_count": 31,
     "metadata": {},
     "output_type": "execute_result"
    }
   ],
   "source": [
    "lasso_var_select = list(lasso_select.index)\n",
    "lasso_var_select[:30]"
   ]
  },
  {
   "cell_type": "markdown",
   "metadata": {},
   "source": [
    "% Tuning of the Classifier"
   ]
  },
  {
   "cell_type": "code",
   "execution_count": 32,
   "metadata": {},
   "outputs": [],
   "source": [
    "REPEAT = 5"
   ]
  },
  {
   "cell_type": "code",
   "execution_count": 33,
   "metadata": {},
   "outputs": [],
   "source": [
    "X_tfidf = pd.DataFrame.sparse.from_spmatrix(X_train_tfidf, columns = tfidf_features_names)\n",
    "X = X_tfidf[lasso_var_select]"
   ]
  },
  {
   "cell_type": "code",
   "execution_count": 34,
   "metadata": {},
   "outputs": [],
   "source": [
    "train = []\n",
    "for i in range(REPEAT):\n",
    "     train.append(train_test_split(X, y_full_train,\n",
    "                                   test_size=0.2,\n",
    "                                   shuffle=True,\n",
    "                                   stratify = y_full_train))"
   ]
  },
  {
   "cell_type": "markdown",
   "metadata": {},
   "source": [
    "### Elasticnet"
   ]
  },
  {
   "cell_type": "markdown",
   "metadata": {},
   "source": [
    "initialize elasticnet"
   ]
  },
  {
   "cell_type": "code",
   "execution_count": 35,
   "metadata": {},
   "outputs": [
    {
     "name": "stdout",
     "output_type": "stream",
     "text": [
      "\n",
      "Répétition : 1\n",
      "Tuned Regularized Logistic Regression Parameters: {'l1_ratio': 0.1, 'C': 10000.0}\n",
      "Tuned Regularized Logistic Regression Accuracy: 0.9596464899116225\n",
      "Tuned Regularized Logistic Regression AUC: 0.7448808438224758\n",
      "\n",
      "Répétition : 2\n",
      "Tuned Regularized Logistic Regression Parameters: {'l1_ratio': 0.8, 'C': 46.41588833612782}\n",
      "Tuned Regularized Logistic Regression Accuracy: 0.95981323995331\n",
      "Tuned Regularized Logistic Regression AUC: 0.7298346389413446\n",
      "\n",
      "Répétition : 3\n",
      "Tuned Regularized Logistic Regression Parameters: {'l1_ratio': 0.0, 'C': 278.2559402207126}\n",
      "Tuned Regularized Logistic Regression Accuracy: 0.959479739869935\n",
      "Tuned Regularized Logistic Regression AUC: 0.710785447077999\n",
      "\n",
      "Répétition : 4\n",
      "Tuned Regularized Logistic Regression Parameters: {'l1_ratio': 0.5, 'C': 1668.100537200059}\n",
      "Tuned Regularized Logistic Regression Accuracy: 0.9593129898282474\n",
      "Tuned Regularized Logistic Regression AUC: 0.7261913822691013\n",
      "\n",
      "Répétition : 5\n",
      "Tuned Regularized Logistic Regression Parameters: {'l1_ratio': 0.7000000000000001, 'C': 46.41588833612782}\n",
      "Tuned Regularized Logistic Regression Accuracy: 0.9593129898282474\n",
      "Tuned Regularized Logistic Regression AUC: 0.7338225474075722\n"
     ]
    }
   ],
   "source": [
    "en_auc = []\n",
    "en_accuracy = []\n",
    "en_impMat = []\n",
    "en_proba = pd.DataFrame({'A' : []})\n",
    "en_class = pd.DataFrame({'A' : []})\n",
    "en_best = []\n",
    "en_params = []\n",
    "\n",
    "for repeat, [X_train, X_val, y_train, y_val] in enumerate(train) :\n",
    "    \n",
    "    print(\"\\nRépétition : {}\".format(repeat+1))\n",
    "      \n",
    "    param_en = {'C': np.logspace(-3, 4, 10), 'l1_ratio':np.linspace(0,1,11) }\n",
    "        \n",
    "    # Instantiate the Logistic Regression Classifier : en\n",
    "    en = LogisticRegression(max_iter=500, penalty ='elasticnet', solver='saga', random_state = RANDOM_STATE)\n",
    "    \n",
    "    grid_en = RandomizedSearchCV(en, param_en, cv=5, n_jobs=-1, \n",
    "                          scoring=['accuracy','roc_auc'], refit = 'roc_auc')\n",
    "       \n",
    "    # Fit the model to the training data\n",
    "    grid_en.fit(X_train, y_train)\n",
    "    \n",
    "    # Select the best model\n",
    "    best_en = grid_en.best_estimator_\n",
    "    en_best.append(best_en)\n",
    "      \n",
    "    # Compute predicted probabilities: y_pred_proba\n",
    "    en_pred_proba = pd.DataFrame(best_en.predict_proba(X_val)[:,1])\n",
    "    en_pred_class = pd.DataFrame(best_en.predict(X_val))\n",
    "    en_proba = pd.concat([en_proba,en_pred_proba], axis=1)\n",
    "    en_class = pd.concat([en_class,en_pred_class], axis=1)\n",
    "\n",
    "    # Print the optimal parameters and best score\n",
    "    print(\"Tuned Regularized Logistic Regression Parameters: {}\".format(grid_en.best_params_))\n",
    "    print(\"Tuned Regularized Logistic Regression Accuracy: {}\".format(accuracy_score(y_val, en_pred_class)))\n",
    "    print(\"Tuned Regularized Logistic Regression AUC: {}\".format(roc_auc_score(y_val, en_pred_proba)))\n",
    "\n",
    "    # Save the parameters\n",
    "    en_params.append(grid_en.best_params_)\n",
    "    \n",
    "    # Compute scores\n",
    "    en_accuracy.append(accuracy_score(y_val, en_pred_class))\n",
    "    en_auc.append(roc_auc_score(y_val, en_pred_proba))\n",
    "    \n",
    "    # Compute permutation scores\n",
    "    en_imp = permutation_importance(best_en, X_val, y_val, scoring='roc_auc')\n",
    "    en_impMat.append(en_imp.importances_mean)"
   ]
  },
  {
   "cell_type": "markdown",
   "metadata": {},
   "source": [
    "%"
   ]
  },
  {
   "cell_type": "code",
   "execution_count": 36,
   "metadata": {},
   "outputs": [],
   "source": [
    "X_tfidf_test = pd.DataFrame.sparse.from_spmatrix(X_test_tfidf, columns = tfidf_features_names)   \n",
    "X_test = X_tfidf_test[lasso_var_select]"
   ]
  },
  {
   "cell_type": "code",
   "execution_count": 37,
   "metadata": {},
   "outputs": [
    {
     "data": {
      "text/html": [
       "<div>\n",
       "<style scoped>\n",
       "    .dataframe tbody tr th:only-of-type {\n",
       "        vertical-align: middle;\n",
       "    }\n",
       "\n",
       "    .dataframe tbody tr th {\n",
       "        vertical-align: top;\n",
       "    }\n",
       "\n",
       "    .dataframe thead th {\n",
       "        text-align: right;\n",
       "    }\n",
       "</style>\n",
       "<table border=\"1\" class=\"dataframe\">\n",
       "  <thead>\n",
       "    <tr style=\"text-align: right;\">\n",
       "      <th></th>\n",
       "      <th>hospice</th>\n",
       "      <th>moderate</th>\n",
       "      <th>primary care</th>\n",
       "      <th>transfer hospital</th>\n",
       "      <th>tid</th>\n",
       "      <th>trach</th>\n",
       "      <th>subdural</th>\n",
       "      <th>tracheostomy</th>\n",
       "      <th>mesenteric</th>\n",
       "      <th>bilateral</th>\n",
       "      <th>...</th>\n",
       "      <th>hepatic</th>\n",
       "      <th>pm blood</th>\n",
       "      <th>develop</th>\n",
       "      <th>qd</th>\n",
       "      <th>octreotide</th>\n",
       "      <th>prn</th>\n",
       "      <th>cr</th>\n",
       "      <th>staphylococcus</th>\n",
       "      <th>tablet mouth</th>\n",
       "      <th>liver</th>\n",
       "    </tr>\n",
       "  </thead>\n",
       "  <tbody>\n",
       "    <tr>\n",
       "      <th>0</th>\n",
       "      <td>0.0</td>\n",
       "      <td>0.022726</td>\n",
       "      <td>0.000000</td>\n",
       "      <td>0.000000</td>\n",
       "      <td>0.000000</td>\n",
       "      <td>0.000000</td>\n",
       "      <td>0.0</td>\n",
       "      <td>0.000000</td>\n",
       "      <td>0.000000</td>\n",
       "      <td>0.000000</td>\n",
       "      <td>...</td>\n",
       "      <td>0.0</td>\n",
       "      <td>0.000000</td>\n",
       "      <td>0.000000</td>\n",
       "      <td>0.000000</td>\n",
       "      <td>0.0</td>\n",
       "      <td>0.000000</td>\n",
       "      <td>0.00000</td>\n",
       "      <td>0.000000</td>\n",
       "      <td>0.000000</td>\n",
       "      <td>0.000000</td>\n",
       "    </tr>\n",
       "    <tr>\n",
       "      <th>1</th>\n",
       "      <td>0.0</td>\n",
       "      <td>0.000000</td>\n",
       "      <td>0.000000</td>\n",
       "      <td>0.000000</td>\n",
       "      <td>0.024872</td>\n",
       "      <td>0.000000</td>\n",
       "      <td>0.0</td>\n",
       "      <td>0.138570</td>\n",
       "      <td>0.000000</td>\n",
       "      <td>0.000000</td>\n",
       "      <td>...</td>\n",
       "      <td>0.0</td>\n",
       "      <td>0.000000</td>\n",
       "      <td>0.000000</td>\n",
       "      <td>0.000000</td>\n",
       "      <td>0.0</td>\n",
       "      <td>0.000000</td>\n",
       "      <td>0.00000</td>\n",
       "      <td>0.000000</td>\n",
       "      <td>0.000000</td>\n",
       "      <td>0.000000</td>\n",
       "    </tr>\n",
       "    <tr>\n",
       "      <th>2</th>\n",
       "      <td>0.0</td>\n",
       "      <td>0.000000</td>\n",
       "      <td>0.000000</td>\n",
       "      <td>0.000000</td>\n",
       "      <td>0.019802</td>\n",
       "      <td>0.000000</td>\n",
       "      <td>0.0</td>\n",
       "      <td>0.000000</td>\n",
       "      <td>0.000000</td>\n",
       "      <td>0.000000</td>\n",
       "      <td>...</td>\n",
       "      <td>0.0</td>\n",
       "      <td>0.102145</td>\n",
       "      <td>0.000000</td>\n",
       "      <td>0.000000</td>\n",
       "      <td>0.0</td>\n",
       "      <td>0.000000</td>\n",
       "      <td>0.00000</td>\n",
       "      <td>0.000000</td>\n",
       "      <td>0.000000</td>\n",
       "      <td>0.000000</td>\n",
       "    </tr>\n",
       "    <tr>\n",
       "      <th>3</th>\n",
       "      <td>0.0</td>\n",
       "      <td>0.012243</td>\n",
       "      <td>0.000000</td>\n",
       "      <td>0.013109</td>\n",
       "      <td>0.000000</td>\n",
       "      <td>0.000000</td>\n",
       "      <td>0.0</td>\n",
       "      <td>0.000000</td>\n",
       "      <td>0.000000</td>\n",
       "      <td>0.023121</td>\n",
       "      <td>...</td>\n",
       "      <td>0.0</td>\n",
       "      <td>0.000000</td>\n",
       "      <td>0.000000</td>\n",
       "      <td>0.000000</td>\n",
       "      <td>0.0</td>\n",
       "      <td>0.011534</td>\n",
       "      <td>0.00000</td>\n",
       "      <td>0.000000</td>\n",
       "      <td>0.000000</td>\n",
       "      <td>0.000000</td>\n",
       "    </tr>\n",
       "    <tr>\n",
       "      <th>4</th>\n",
       "      <td>0.0</td>\n",
       "      <td>0.041313</td>\n",
       "      <td>0.000000</td>\n",
       "      <td>0.014746</td>\n",
       "      <td>0.000000</td>\n",
       "      <td>0.000000</td>\n",
       "      <td>0.0</td>\n",
       "      <td>0.000000</td>\n",
       "      <td>0.000000</td>\n",
       "      <td>0.000000</td>\n",
       "      <td>...</td>\n",
       "      <td>0.0</td>\n",
       "      <td>0.000000</td>\n",
       "      <td>0.039684</td>\n",
       "      <td>0.000000</td>\n",
       "      <td>0.0</td>\n",
       "      <td>0.038922</td>\n",
       "      <td>0.08616</td>\n",
       "      <td>0.000000</td>\n",
       "      <td>0.000000</td>\n",
       "      <td>0.000000</td>\n",
       "    </tr>\n",
       "    <tr>\n",
       "      <th>...</th>\n",
       "      <td>...</td>\n",
       "      <td>...</td>\n",
       "      <td>...</td>\n",
       "      <td>...</td>\n",
       "      <td>...</td>\n",
       "      <td>...</td>\n",
       "      <td>...</td>\n",
       "      <td>...</td>\n",
       "      <td>...</td>\n",
       "      <td>...</td>\n",
       "      <td>...</td>\n",
       "      <td>...</td>\n",
       "      <td>...</td>\n",
       "      <td>...</td>\n",
       "      <td>...</td>\n",
       "      <td>...</td>\n",
       "      <td>...</td>\n",
       "      <td>...</td>\n",
       "      <td>...</td>\n",
       "      <td>...</td>\n",
       "      <td>...</td>\n",
       "    </tr>\n",
       "    <tr>\n",
       "      <th>3327</th>\n",
       "      <td>0.0</td>\n",
       "      <td>0.044074</td>\n",
       "      <td>0.015229</td>\n",
       "      <td>0.000000</td>\n",
       "      <td>0.032470</td>\n",
       "      <td>0.000000</td>\n",
       "      <td>0.0</td>\n",
       "      <td>0.000000</td>\n",
       "      <td>0.000000</td>\n",
       "      <td>0.000000</td>\n",
       "      <td>...</td>\n",
       "      <td>0.0</td>\n",
       "      <td>0.000000</td>\n",
       "      <td>0.000000</td>\n",
       "      <td>0.000000</td>\n",
       "      <td>0.0</td>\n",
       "      <td>0.013841</td>\n",
       "      <td>0.00000</td>\n",
       "      <td>0.032348</td>\n",
       "      <td>0.000000</td>\n",
       "      <td>0.000000</td>\n",
       "    </tr>\n",
       "    <tr>\n",
       "      <th>3328</th>\n",
       "      <td>0.0</td>\n",
       "      <td>0.000000</td>\n",
       "      <td>0.000000</td>\n",
       "      <td>0.000000</td>\n",
       "      <td>0.025988</td>\n",
       "      <td>0.000000</td>\n",
       "      <td>0.0</td>\n",
       "      <td>0.000000</td>\n",
       "      <td>0.000000</td>\n",
       "      <td>0.000000</td>\n",
       "      <td>...</td>\n",
       "      <td>0.0</td>\n",
       "      <td>0.000000</td>\n",
       "      <td>0.000000</td>\n",
       "      <td>0.100105</td>\n",
       "      <td>0.0</td>\n",
       "      <td>0.000000</td>\n",
       "      <td>0.00000</td>\n",
       "      <td>0.000000</td>\n",
       "      <td>0.000000</td>\n",
       "      <td>0.000000</td>\n",
       "    </tr>\n",
       "    <tr>\n",
       "      <th>3329</th>\n",
       "      <td>0.0</td>\n",
       "      <td>0.038430</td>\n",
       "      <td>0.000000</td>\n",
       "      <td>0.000000</td>\n",
       "      <td>0.016987</td>\n",
       "      <td>0.116264</td>\n",
       "      <td>0.0</td>\n",
       "      <td>0.015773</td>\n",
       "      <td>0.016434</td>\n",
       "      <td>0.029031</td>\n",
       "      <td>...</td>\n",
       "      <td>0.0</td>\n",
       "      <td>0.000000</td>\n",
       "      <td>0.022149</td>\n",
       "      <td>0.010906</td>\n",
       "      <td>0.0</td>\n",
       "      <td>0.028965</td>\n",
       "      <td>0.00000</td>\n",
       "      <td>0.000000</td>\n",
       "      <td>0.000000</td>\n",
       "      <td>0.019903</td>\n",
       "    </tr>\n",
       "    <tr>\n",
       "      <th>3330</th>\n",
       "      <td>0.0</td>\n",
       "      <td>0.032428</td>\n",
       "      <td>0.042019</td>\n",
       "      <td>0.000000</td>\n",
       "      <td>0.000000</td>\n",
       "      <td>0.000000</td>\n",
       "      <td>0.0</td>\n",
       "      <td>0.000000</td>\n",
       "      <td>0.000000</td>\n",
       "      <td>0.007655</td>\n",
       "      <td>...</td>\n",
       "      <td>0.0</td>\n",
       "      <td>0.000000</td>\n",
       "      <td>0.000000</td>\n",
       "      <td>0.046012</td>\n",
       "      <td>0.0</td>\n",
       "      <td>0.000000</td>\n",
       "      <td>0.00000</td>\n",
       "      <td>0.000000</td>\n",
       "      <td>0.015398</td>\n",
       "      <td>0.000000</td>\n",
       "    </tr>\n",
       "    <tr>\n",
       "      <th>3331</th>\n",
       "      <td>0.0</td>\n",
       "      <td>0.000000</td>\n",
       "      <td>0.015210</td>\n",
       "      <td>0.047135</td>\n",
       "      <td>0.016214</td>\n",
       "      <td>0.000000</td>\n",
       "      <td>0.0</td>\n",
       "      <td>0.000000</td>\n",
       "      <td>0.000000</td>\n",
       "      <td>0.000000</td>\n",
       "      <td>...</td>\n",
       "      <td>0.0</td>\n",
       "      <td>0.000000</td>\n",
       "      <td>0.028189</td>\n",
       "      <td>0.000000</td>\n",
       "      <td>0.0</td>\n",
       "      <td>0.013824</td>\n",
       "      <td>0.00000</td>\n",
       "      <td>0.000000</td>\n",
       "      <td>0.000000</td>\n",
       "      <td>0.000000</td>\n",
       "    </tr>\n",
       "  </tbody>\n",
       "</table>\n",
       "<p>3332 rows × 188 columns</p>\n",
       "</div>"
      ],
      "text/plain": [
       "      hospice  moderate  primary care  transfer hospital       tid     trach  \\\n",
       "0         0.0  0.022726      0.000000           0.000000  0.000000  0.000000   \n",
       "1         0.0  0.000000      0.000000           0.000000  0.024872  0.000000   \n",
       "2         0.0  0.000000      0.000000           0.000000  0.019802  0.000000   \n",
       "3         0.0  0.012243      0.000000           0.013109  0.000000  0.000000   \n",
       "4         0.0  0.041313      0.000000           0.014746  0.000000  0.000000   \n",
       "...       ...       ...           ...                ...       ...       ...   \n",
       "3327      0.0  0.044074      0.015229           0.000000  0.032470  0.000000   \n",
       "3328      0.0  0.000000      0.000000           0.000000  0.025988  0.000000   \n",
       "3329      0.0  0.038430      0.000000           0.000000  0.016987  0.116264   \n",
       "3330      0.0  0.032428      0.042019           0.000000  0.000000  0.000000   \n",
       "3331      0.0  0.000000      0.015210           0.047135  0.016214  0.000000   \n",
       "\n",
       "      subdural  tracheostomy  mesenteric  bilateral  ...  hepatic  pm blood  \\\n",
       "0          0.0      0.000000    0.000000   0.000000  ...      0.0  0.000000   \n",
       "1          0.0      0.138570    0.000000   0.000000  ...      0.0  0.000000   \n",
       "2          0.0      0.000000    0.000000   0.000000  ...      0.0  0.102145   \n",
       "3          0.0      0.000000    0.000000   0.023121  ...      0.0  0.000000   \n",
       "4          0.0      0.000000    0.000000   0.000000  ...      0.0  0.000000   \n",
       "...        ...           ...         ...        ...  ...      ...       ...   \n",
       "3327       0.0      0.000000    0.000000   0.000000  ...      0.0  0.000000   \n",
       "3328       0.0      0.000000    0.000000   0.000000  ...      0.0  0.000000   \n",
       "3329       0.0      0.015773    0.016434   0.029031  ...      0.0  0.000000   \n",
       "3330       0.0      0.000000    0.000000   0.007655  ...      0.0  0.000000   \n",
       "3331       0.0      0.000000    0.000000   0.000000  ...      0.0  0.000000   \n",
       "\n",
       "       develop        qd  octreotide       prn       cr  staphylococcus  \\\n",
       "0     0.000000  0.000000         0.0  0.000000  0.00000        0.000000   \n",
       "1     0.000000  0.000000         0.0  0.000000  0.00000        0.000000   \n",
       "2     0.000000  0.000000         0.0  0.000000  0.00000        0.000000   \n",
       "3     0.000000  0.000000         0.0  0.011534  0.00000        0.000000   \n",
       "4     0.039684  0.000000         0.0  0.038922  0.08616        0.000000   \n",
       "...        ...       ...         ...       ...      ...             ...   \n",
       "3327  0.000000  0.000000         0.0  0.013841  0.00000        0.032348   \n",
       "3328  0.000000  0.100105         0.0  0.000000  0.00000        0.000000   \n",
       "3329  0.022149  0.010906         0.0  0.028965  0.00000        0.000000   \n",
       "3330  0.000000  0.046012         0.0  0.000000  0.00000        0.000000   \n",
       "3331  0.028189  0.000000         0.0  0.013824  0.00000        0.000000   \n",
       "\n",
       "      tablet mouth     liver  \n",
       "0         0.000000  0.000000  \n",
       "1         0.000000  0.000000  \n",
       "2         0.000000  0.000000  \n",
       "3         0.000000  0.000000  \n",
       "4         0.000000  0.000000  \n",
       "...            ...       ...  \n",
       "3327      0.000000  0.000000  \n",
       "3328      0.000000  0.000000  \n",
       "3329      0.000000  0.019903  \n",
       "3330      0.015398  0.000000  \n",
       "3331      0.000000  0.000000  \n",
       "\n",
       "[3332 rows x 188 columns]"
      ]
     },
     "execution_count": 37,
     "metadata": {},
     "output_type": "execute_result"
    }
   ],
   "source": [
    "X_test"
   ]
  },
  {
   "cell_type": "markdown",
   "metadata": {},
   "source": [
    "-------------------<br>\n",
    "Elasticnet<br>\n",
    "-------------------<br>\n",
    "Compute mean probability prediction :"
   ]
  },
  {
   "cell_type": "code",
   "execution_count": 38,
   "metadata": {},
   "outputs": [
    {
     "name": "stdout",
     "output_type": "stream",
     "text": [
      "'\n",
      "' average Accuracy for the penalized Logistic Regression: 0.960\n"
     ]
    }
   ],
   "source": [
    "en_proba_mean = en_proba.mean(axis=1)\n",
    "en_class_mean = en_class.mean(axis=1)\n",
    "    \n",
    "# Compute and print mean AUC score\n",
    "en_meanAccuracy = np.mean(en_accuracy)\n",
    "print(\"'\\n' average Accuracy for the penalized Logistic Regression: {:.3f}\".format(en_meanAccuracy))"
   ]
  },
  {
   "cell_type": "code",
   "execution_count": 39,
   "metadata": {},
   "outputs": [
    {
     "name": "stdout",
     "output_type": "stream",
     "text": [
      "'\n",
      "' average AUC for the penalized Logistic Regression: 0.729\n"
     ]
    }
   ],
   "source": [
    "en_meanAuc = np.mean(en_auc) \n",
    "print(\"'\\n' average AUC for the penalized Logistic Regression: {:.3f}\".format(en_meanAuc))"
   ]
  },
  {
   "cell_type": "code",
   "execution_count": 40,
   "metadata": {},
   "outputs": [],
   "source": [
    "en_scoreData = pd.DataFrame( {'Accuracy':[en_meanAccuracy], 'ROC AUC':[en_meanAuc]})\n",
    "en_impMean = np.mean(en_impMat, axis=0)\n",
    "en_impData = pd.DataFrame({'Modalities':X_test.columns, 'Importance':en_impMean/en_impMean.max()*100})"
   ]
  },
  {
   "cell_type": "code",
   "execution_count": 41,
   "metadata": {},
   "outputs": [],
   "source": [
    "en_result = en_impData.sort_values(by=['Importance'], ascending=False)[:20]"
   ]
  },
  {
   "cell_type": "code",
   "execution_count": 42,
   "metadata": {},
   "outputs": [
    {
     "name": "stdout",
     "output_type": "stream",
     "text": [
      "\n",
      " average Importance for the Elasticnet Regression \n",
      "            Modalities  Importance\n",
      "0              hospice  100.000000\n",
      "11            overdose   56.132718\n",
      "6             subdural   36.463897\n",
      "2         primary care   35.112351\n",
      "27             symptom   28.910391\n",
      "121            advance   28.462309\n",
      "14              vision   26.741393\n",
      "10            slightly   25.458291\n",
      "30           lorazepam   24.449879\n",
      "39       tablet tablet   23.202141\n",
      "24             control   22.930874\n",
      "56                 sig   22.357539\n",
      "3    transfer hospital   21.752492\n",
      "50            aneurysm   20.885075\n",
      "21             surgery   20.695713\n",
      "43                  po   18.834942\n",
      "133             po prn   18.495002\n",
      "88               stent   18.480173\n",
      "4                  tid   18.474013\n",
      "25          amiodarone   17.883795\n"
     ]
    }
   ],
   "source": [
    "print(\"\\n average Importance for the Elasticnet Regression \\n{}\".format(en_result))"
   ]
  },
  {
   "cell_type": "markdown",
   "metadata": {},
   "source": [
    "% Evaluating Test Sample"
   ]
  },
  {
   "cell_type": "code",
   "execution_count": 43,
   "metadata": {},
   "outputs": [],
   "source": [
    "best_en = en_best[en_auc.index(max(en_auc))]\n",
    "en_test_pred = best_en.predict(X_test)\n",
    "en_test_pred_proba = best_en.predict_proba(X_test)\n",
    "en_test_accuracy = accuracy_score(y_test, en_test_pred)\n",
    "en_test_auc = roc_auc_score(y_test, en_test_pred_proba[:,1])"
   ]
  },
  {
   "cell_type": "code",
   "execution_count": 44,
   "metadata": {},
   "outputs": [],
   "source": [
    "en_best_params = en_params[en_auc.index(max(en_auc))]"
   ]
  },
  {
   "cell_type": "code",
   "execution_count": 45,
   "metadata": {
    "scrolled": true
   },
   "outputs": [
    {
     "name": "stdout",
     "output_type": "stream",
     "text": [
      "'\n",
      "' Performance sur l'échantillon Test - Accuracy : 0.959\n",
      "'\n",
      "' Performance sur l'échantillon Test - ROC : 0.675\n",
      "'\n",
      "' Best Parameters : {'l1_ratio': 0.1, 'C': 10000.0}\n"
     ]
    }
   ],
   "source": [
    "print(\"'\\n' Performance sur l'échantillon Test - Accuracy : {:.3f}\".format(en_test_accuracy))\n",
    "print(\"'\\n' Performance sur l'échantillon Test - ROC : {:.3f}\".format(en_test_auc))\n",
    "print(\"'\\n' Best Parameters :\", en_best_params)"
   ]
  },
  {
   "cell_type": "code",
   "execution_count": 46,
   "metadata": {},
   "outputs": [],
   "source": [
    "from sklearn.metrics import confusion_matrix, classification_report"
   ]
  },
  {
   "cell_type": "code",
   "execution_count": 47,
   "metadata": {},
   "outputs": [
    {
     "data": {
      "text/html": [
       "<div>\n",
       "<style scoped>\n",
       "    .dataframe tbody tr th:only-of-type {\n",
       "        vertical-align: middle;\n",
       "    }\n",
       "\n",
       "    .dataframe tbody tr th {\n",
       "        vertical-align: top;\n",
       "    }\n",
       "\n",
       "    .dataframe thead th {\n",
       "        text-align: right;\n",
       "    }\n",
       "</style>\n",
       "<table border=\"1\" class=\"dataframe\">\n",
       "  <thead>\n",
       "    <tr style=\"text-align: right;\">\n",
       "      <th></th>\n",
       "      <th>No</th>\n",
       "      <th>Yes</th>\n",
       "    </tr>\n",
       "  </thead>\n",
       "  <tbody>\n",
       "    <tr>\n",
       "      <th>No</th>\n",
       "      <td>3196</td>\n",
       "      <td>2</td>\n",
       "    </tr>\n",
       "    <tr>\n",
       "      <th>Yes</th>\n",
       "      <td>134</td>\n",
       "      <td>0</td>\n",
       "    </tr>\n",
       "  </tbody>\n",
       "</table>\n",
       "</div>"
      ],
      "text/plain": [
       "       No  Yes\n",
       "No   3196    2\n",
       "Yes   134    0"
      ]
     },
     "execution_count": 47,
     "metadata": {},
     "output_type": "execute_result"
    }
   ],
   "source": [
    "confusion_df = pd.DataFrame(confusion_matrix(y_test, en_test_pred), index=[\"No\",\"Yes\"], columns=[\"No\",\"Yes\"])\n",
    "confusion_df"
   ]
  },
  {
   "cell_type": "code",
   "execution_count": 48,
   "metadata": {},
   "outputs": [
    {
     "name": "stdout",
     "output_type": "stream",
     "text": [
      "              precision    recall  f1-score   support\n",
      "\n",
      "           0       0.96      1.00      0.98      3198\n",
      "           1       0.00      0.00      0.00       134\n",
      "\n",
      "    accuracy                           0.96      3332\n",
      "   macro avg       0.48      0.50      0.49      3332\n",
      "weighted avg       0.92      0.96      0.94      3332\n",
      "\n"
     ]
    }
   ],
   "source": [
    "print(classification_report(y_test, en_test_pred))"
   ]
  },
  {
   "cell_type": "markdown",
   "metadata": {},
   "source": [
    "### Critics and Observations\n",
    "\n",
    "Case where max_df = 0.9\n",
    "\n",
    "It appears that the cleaning of the text requires more work (too many \"stopwords\" remaining)\n",
    "\n",
    "So far, after removing more stopwords, we have kept max_df = 0.5\n"
   ]
  },
  {
   "cell_type": "code",
   "execution_count": 49,
   "metadata": {},
   "outputs": [],
   "source": [
    "def precision_recall_curve_with_threshold(targets, probas, threshold = 0.5):\n",
    "    \n",
    "    def sort_pair(X, Y):\n",
    "        rangee = [(x, y) for x, y in sorted(zip(X, Y), key = lambda pair: pair[0])]\n",
    "        return [pair[0] for pair in rangee], [pair[1] for pair in rangee]\n",
    "    \n",
    "    # --- main\n",
    "    targets, probas = sort_pair(targets, probas)\n",
    "    precision, recall, thresholds = metrics.precision_recall_curve(targets, probas, pos_label=\"Yes\")\n",
    "    \n",
    "    # calculate precision-recall AUC\n",
    "    auc_val = metrics.auc(recall, precision)\n",
    "    print('Area Under PRC Curve (AUC) : {:.3f}'.format(auc_val))\n",
    "    # plot no skill\n",
    "    if threshold is not None : \n",
    "        index = len([y for y in thresholds if y <= threshold]) # thresholds are sorted\n",
    "\n",
    "        print('Recall with threshold = {}: {:.2f}%'.format(threshold, recall[index]*100))\n",
    "        print('Precision with threshold = {} : {:.2f}%'.format(threshold, precision[index]*100))\n",
    "\n",
    "        plt.plot([0, 1], [precision[index], precision[index]], linestyle='--', color = 'grey')\n",
    "        plt.plot([recall[index], recall[index]], [0, 1], linestyle='--', color = 'grey')\n",
    "        \n",
    "        # plot the precision-recall curve for the model\n",
    "        plt.plot(recall[:index], precision[:index], color = 'navy', marker='.')\n",
    "        plt.plot(recall[index:], precision[index:], color = 'orange', marker='.')\n",
    "        \n",
    "        # show the plot\n",
    "        plt.title('Precision-Recall curve with threshold = {}'.format(threshold))\n",
    "        plt.xlabel('Recall $P(\\, \\widehat{1}\\, | 1)$')\n",
    "        plt.ylabel('Precision $P(\\, 1\\, | \\widehat{1})$                                ', rotation = 'horizontal')\n",
    "    else :\n",
    "        # plot the precision-recall curve for the model\n",
    "        plt.plot(recall, precision, color = 'orange', marker='.')\n",
    "        \n",
    "        # show the plot\n",
    "        plt.title('Precision-Recall curve')\n",
    "        plt.xlabel('Recall $P(\\, \\widehat{1}\\, | 1)$')\n",
    "        plt.ylabel('Precision $P(\\, 1\\, | \\widehat{1})$                                ', rotation = 'horizontal')\n",
    "\n",
    "    plt.show()\n",
    "    return"
   ]
  },
  {
   "cell_type": "code",
   "execution_count": 50,
   "metadata": {},
   "outputs": [],
   "source": [
    "def roc_auc_curve_with_threshold(targets, probas, threshold = 0.5):\n",
    "    \n",
    "    def sort_pair(X, Y):\n",
    "        rangee = [(x, y) for x, y in sorted(zip(X, Y), key = lambda pair: pair[0])]\n",
    "        return [pair[0] for pair in rangee], [pair[1] for pair in rangee]\n",
    "    \n",
    "    # --- main\n",
    "    targets, probas = sort_pair(targets, probas)\n",
    "    fpr, tpr, thresholds = metrics.roc_curve(targets, probas, pos_label=\"Yes\")\n",
    "    \n",
    "    # calculate precision-recall AUC\n",
    "    auc_val = metrics.auc(fpr, tpr)\n",
    "    print('Area Under ROC Curve (AUC) : {:.3f}'.format(auc_val))\n",
    "    # plot no skill\n",
    "    if threshold is not None : \n",
    "        index = len([y for y in thresholds if y <= threshold]) # thresholds are sorted\n",
    "\n",
    "        print('FPR with threshold = {}: {:.2f}%'.format(threshold, fpr[index]*100))\n",
    "        print('TPR with threshold = {} : {:.2f}%'.format(threshold, tpr[index]*100))\n",
    "\n",
    "        plt.plot([0, 1], [tpr[index], tpr[index]], linestyle='--', color = 'grey')\n",
    "        plt.plot([fpr[index], fpr[index]], [0, 1], linestyle='--', color = 'grey')\n",
    "        \n",
    "        # plot the precision-recall curve for the model\n",
    "        plt.plot(fpr[:index], tpr[:index], color = 'navy', marker='.')\n",
    "        plt.plot(fpr[index:], tpr[index:], color = 'orange', marker='.')\n",
    "        \n",
    "        # show the plot\n",
    "        plt.title('ROC AUC curve with threshold = {}'.format(threshold))\n",
    "        plt.xlabel('False Positive Rate $P(\\, \\widehat{1}\\, | 1)$')\n",
    "        plt.ylabel('True Positive Rate $P(\\, 1\\, | \\widehat{1})$                                ', rotation = 'horizontal')\n",
    "    else :\n",
    "        # plot the precision-recall curve for the model\n",
    "        plt.plot(recall, precision, color = 'orange', marker='.')\n",
    "        \n",
    "        # show the plot\n",
    "        plt.title('ROC AUC curve')\n",
    "        plt.xlabel('False Positive Rate $P(\\, \\widehat{1}\\, | 1)$')\n",
    "        plt.ylabel('True Positive Rate $P(\\, 1\\, | \\widehat{1})$                                ', rotation = 'horizontal')\n",
    "\n",
    "    plt.show()\n",
    "    return"
   ]
  },
  {
   "cell_type": "code",
   "execution_count": 51,
   "metadata": {},
   "outputs": [
    {
     "name": "stderr",
     "output_type": "stream",
     "text": [
      "E:\\Anaconda3\\envs\\text\\lib\\site-packages\\sklearn\\utils\\deprecation.py:87: FutureWarning: Function plot_precision_recall_curve is deprecated; Function `plot_precision_recall_curve` is deprecated in 1.0 and will be removed in 1.2. Use one of the class methods: PrecisionRecallDisplay.from_predictions or PrecisionRecallDisplay.from_estimator.\n",
      "  warnings.warn(msg, category=FutureWarning)\n"
     ]
    },
    {
     "data": {
      "image/png": "[encoded data removed]",
      "text/plain": [
       "<Figure size 432x288 with 1 Axes>"
      ]
     },
     "metadata": {
      "needs_background": "light"
     },
     "output_type": "display_data"
    }
   ],
   "source": [
    "prc_auc_curve = plot_precision_recall_curve(best_en, X_test, y_test)\n",
    "prc_auc_curve;"
   ]
  },
  {
   "cell_type": "code",
   "execution_count": 52,
   "metadata": {},
   "outputs": [
    {
     "name": "stderr",
     "output_type": "stream",
     "text": [
      "E:\\Anaconda3\\envs\\text\\lib\\site-packages\\sklearn\\utils\\deprecation.py:87: FutureWarning: Function plot_roc_curve is deprecated; Function :func:`plot_roc_curve` is deprecated in 1.0 and will be removed in 1.2. Use one of the class methods: :meth:`sklearn.metric.RocCurveDisplay.from_predictions` or :meth:`sklearn.metric.RocCurveDisplay.from_estimator`.\n",
      "  warnings.warn(msg, category=FutureWarning)\n"
     ]
    },
    {
     "data": {
      "image/png": "[encoded data removed]",
      "text/plain": [
       "<Figure size 432x288 with 1 Axes>"
      ]
     },
     "metadata": {
      "needs_background": "light"
     },
     "output_type": "display_data"
    }
   ],
   "source": [
    "roc_auc_curve = plot_roc_curve(best_en, X_test, y_test)\n",
    "roc_auc_curve;"
   ]
  },
  {
   "cell_type": "code",
   "execution_count": 56,
   "metadata": {},
   "outputs": [
    {
     "name": "stderr",
     "output_type": "stream",
     "text": [
      "E:\\Anaconda3\\envs\\text\\lib\\site-packages\\sklearn\\metrics\\_ranking.py:751: FutureWarning: elementwise comparison failed; returning scalar instead, but in the future will perform elementwise comparison\n",
      "  y_true = y_true == pos_label\n"
     ]
    },
    {
     "ename": "TypeError",
     "evalue": "'bool' object is not subscriptable",
     "output_type": "error",
     "traceback": [
      "\u001b[1;31m---------------------------------------------------------------------------\u001b[0m",
      "\u001b[1;31mTypeError\u001b[0m                                 Traceback (most recent call last)",
      "\u001b[1;32m~\\AppData\\Local\\Temp/ipykernel_11108/2954178434.py\u001b[0m in \u001b[0;36m<module>\u001b[1;34m\u001b[0m\n\u001b[0;32m      4\u001b[0m \u001b[0myhat\u001b[0m \u001b[1;33m=\u001b[0m \u001b[0myhat\u001b[0m\u001b[1;33m[\u001b[0m\u001b[1;33m:\u001b[0m\u001b[1;33m,\u001b[0m \u001b[1;36m1\u001b[0m\u001b[1;33m]\u001b[0m\u001b[1;33m\u001b[0m\u001b[1;33m\u001b[0m\u001b[0m\n\u001b[0;32m      5\u001b[0m \u001b[1;31m# calculate roc curves\u001b[0m\u001b[1;33m\u001b[0m\u001b[1;33m\u001b[0m\u001b[1;33m\u001b[0m\u001b[0m\n\u001b[1;32m----> 6\u001b[1;33m \u001b[0mprecision\u001b[0m\u001b[1;33m,\u001b[0m \u001b[0mrecall\u001b[0m\u001b[1;33m,\u001b[0m \u001b[0mthresholds\u001b[0m \u001b[1;33m=\u001b[0m \u001b[0mprecision_recall_curve\u001b[0m\u001b[1;33m(\u001b[0m\u001b[0my_test\u001b[0m\u001b[1;33m,\u001b[0m \u001b[0myhat\u001b[0m\u001b[1;33m,\u001b[0m \u001b[0mpos_label\u001b[0m\u001b[1;33m=\u001b[0m\u001b[1;34m\"Yes\"\u001b[0m\u001b[1;33m)\u001b[0m\u001b[1;33m\u001b[0m\u001b[1;33m\u001b[0m\u001b[0m\n\u001b[0m\u001b[0;32m      7\u001b[0m \u001b[1;31m# convert to f score\u001b[0m\u001b[1;33m\u001b[0m\u001b[1;33m\u001b[0m\u001b[1;33m\u001b[0m\u001b[0m\n\u001b[0;32m      8\u001b[0m \u001b[0mfscore\u001b[0m \u001b[1;33m=\u001b[0m \u001b[1;33m(\u001b[0m\u001b[1;36m2\u001b[0m \u001b[1;33m*\u001b[0m \u001b[0mprecision\u001b[0m \u001b[1;33m*\u001b[0m \u001b[0mrecall\u001b[0m\u001b[1;33m)\u001b[0m \u001b[1;33m/\u001b[0m \u001b[1;33m(\u001b[0m\u001b[0mprecision\u001b[0m \u001b[1;33m+\u001b[0m \u001b[0mrecall\u001b[0m\u001b[1;33m)\u001b[0m\u001b[1;33m\u001b[0m\u001b[1;33m\u001b[0m\u001b[0m\n",
      "\u001b[1;32mE:\\Anaconda3\\envs\\text\\lib\\site-packages\\sklearn\\metrics\\_ranking.py\u001b[0m in \u001b[0;36mprecision_recall_curve\u001b[1;34m(y_true, probas_pred, pos_label, sample_weight)\u001b[0m\n\u001b[0;32m    857\u001b[0m     \"\"\"\n\u001b[0;32m    858\u001b[0m     fps, tps, thresholds = _binary_clf_curve(\n\u001b[1;32m--> 859\u001b[1;33m         \u001b[0my_true\u001b[0m\u001b[1;33m,\u001b[0m \u001b[0mprobas_pred\u001b[0m\u001b[1;33m,\u001b[0m \u001b[0mpos_label\u001b[0m\u001b[1;33m=\u001b[0m\u001b[0mpos_label\u001b[0m\u001b[1;33m,\u001b[0m \u001b[0msample_weight\u001b[0m\u001b[1;33m=\u001b[0m\u001b[0msample_weight\u001b[0m\u001b[1;33m\u001b[0m\u001b[1;33m\u001b[0m\u001b[0m\n\u001b[0m\u001b[0;32m    860\u001b[0m     )\n\u001b[0;32m    861\u001b[0m \u001b[1;33m\u001b[0m\u001b[0m\n",
      "\u001b[1;32mE:\\Anaconda3\\envs\\text\\lib\\site-packages\\sklearn\\metrics\\_ranking.py\u001b[0m in \u001b[0;36m_binary_clf_curve\u001b[1;34m(y_true, y_score, pos_label, sample_weight)\u001b[0m\n\u001b[0;32m    754\u001b[0m     \u001b[0mdesc_score_indices\u001b[0m \u001b[1;33m=\u001b[0m \u001b[0mnp\u001b[0m\u001b[1;33m.\u001b[0m\u001b[0margsort\u001b[0m\u001b[1;33m(\u001b[0m\u001b[0my_score\u001b[0m\u001b[1;33m,\u001b[0m \u001b[0mkind\u001b[0m\u001b[1;33m=\u001b[0m\u001b[1;34m\"mergesort\"\u001b[0m\u001b[1;33m)\u001b[0m\u001b[1;33m[\u001b[0m\u001b[1;33m:\u001b[0m\u001b[1;33m:\u001b[0m\u001b[1;33m-\u001b[0m\u001b[1;36m1\u001b[0m\u001b[1;33m]\u001b[0m\u001b[1;33m\u001b[0m\u001b[1;33m\u001b[0m\u001b[0m\n\u001b[0;32m    755\u001b[0m     \u001b[0my_score\u001b[0m \u001b[1;33m=\u001b[0m \u001b[0my_score\u001b[0m\u001b[1;33m[\u001b[0m\u001b[0mdesc_score_indices\u001b[0m\u001b[1;33m]\u001b[0m\u001b[1;33m\u001b[0m\u001b[1;33m\u001b[0m\u001b[0m\n\u001b[1;32m--> 756\u001b[1;33m     \u001b[0my_true\u001b[0m \u001b[1;33m=\u001b[0m \u001b[0my_true\u001b[0m\u001b[1;33m[\u001b[0m\u001b[0mdesc_score_indices\u001b[0m\u001b[1;33m]\u001b[0m\u001b[1;33m\u001b[0m\u001b[1;33m\u001b[0m\u001b[0m\n\u001b[0m\u001b[0;32m    757\u001b[0m     \u001b[1;32mif\u001b[0m \u001b[0msample_weight\u001b[0m \u001b[1;32mis\u001b[0m \u001b[1;32mnot\u001b[0m \u001b[1;32mNone\u001b[0m\u001b[1;33m:\u001b[0m\u001b[1;33m\u001b[0m\u001b[1;33m\u001b[0m\u001b[0m\n\u001b[0;32m    758\u001b[0m         \u001b[0mweight\u001b[0m \u001b[1;33m=\u001b[0m \u001b[0msample_weight\u001b[0m\u001b[1;33m[\u001b[0m\u001b[0mdesc_score_indices\u001b[0m\u001b[1;33m]\u001b[0m\u001b[1;33m\u001b[0m\u001b[1;33m\u001b[0m\u001b[0m\n",
      "\u001b[1;31mTypeError\u001b[0m: 'bool' object is not subscriptable"
     ]
    }
   ],
   "source": [
    "# best prc threshold\n",
    "yhat = best_en.predict_proba(X_test)\n",
    "# keep probabilities for the positive outcome only\n",
    "yhat = yhat[:, 1]\n",
    "# calculate roc curves\n",
    "precision, recall, thresholds = precision_recall_curve(y_test, yhat, pos_label=\"Yes\")\n",
    "# convert to f score\n",
    "fscore = (2 * precision * recall) / (precision + recall)\n",
    "# locate the index of the largest f score\n",
    "ix = np.nanargmax(fscore)\n",
    "print('Best Threshold=%f, F-Score=%.3f' % (thresholds[ix], fscore[ix]))"
   ]
  },
  {
   "cell_type": "code",
   "execution_count": 57,
   "metadata": {},
   "outputs": [
    {
     "ename": "NameError",
     "evalue": "name 'fscore' is not defined",
     "output_type": "error",
     "traceback": [
      "\u001b[1;31m---------------------------------------------------------------------------\u001b[0m",
      "\u001b[1;31mNameError\u001b[0m                                 Traceback (most recent call last)",
      "\u001b[1;32m~\\AppData\\Local\\Temp/ipykernel_11108/996644569.py\u001b[0m in \u001b[0;36m<module>\u001b[1;34m\u001b[0m\n\u001b[1;32m----> 1\u001b[1;33m \u001b[0mfscore\u001b[0m\u001b[1;33m\u001b[0m\u001b[1;33m\u001b[0m\u001b[0m\n\u001b[0m",
      "\u001b[1;31mNameError\u001b[0m: name 'fscore' is not defined"
     ]
    }
   ],
   "source": [
    "fscore"
   ]
  },
  {
   "cell_type": "code",
   "execution_count": 55,
   "metadata": {
    "scrolled": true
   },
   "outputs": [
    {
     "ename": "NameError",
     "evalue": "name 'thresholds' is not defined",
     "output_type": "error",
     "traceback": [
      "\u001b[1;31m---------------------------------------------------------------------------\u001b[0m",
      "\u001b[1;31mNameError\u001b[0m                                 Traceback (most recent call last)",
      "\u001b[1;32m~\\AppData\\Local\\Temp/ipykernel_11108/886927078.py\u001b[0m in \u001b[0;36m<module>\u001b[1;34m\u001b[0m\n\u001b[0;32m      1\u001b[0m \u001b[0mprobas\u001b[0m \u001b[1;33m=\u001b[0m \u001b[0mbest_en\u001b[0m\u001b[1;33m.\u001b[0m\u001b[0mpredict_proba\u001b[0m\u001b[1;33m(\u001b[0m\u001b[0mX_test\u001b[0m\u001b[1;33m)\u001b[0m\u001b[1;33m[\u001b[0m\u001b[1;33m:\u001b[0m\u001b[1;33m,\u001b[0m \u001b[1;36m1\u001b[0m\u001b[1;33m]\u001b[0m\u001b[1;33m\u001b[0m\u001b[1;33m\u001b[0m\u001b[0m\n\u001b[1;32m----> 2\u001b[1;33m \u001b[0mprecision_recall_curve_with_threshold\u001b[0m\u001b[1;33m(\u001b[0m\u001b[0my_test\u001b[0m\u001b[1;33m,\u001b[0m \u001b[0mprobas\u001b[0m\u001b[1;33m,\u001b[0m \u001b[0mthreshold\u001b[0m \u001b[1;33m=\u001b[0m \u001b[0mthresholds\u001b[0m\u001b[1;33m[\u001b[0m\u001b[0mix\u001b[0m\u001b[1;33m]\u001b[0m\u001b[1;33m)\u001b[0m\u001b[1;33m\u001b[0m\u001b[1;33m\u001b[0m\u001b[0m\n\u001b[0m",
      "\u001b[1;31mNameError\u001b[0m: name 'thresholds' is not defined"
     ]
    }
   ],
   "source": [
    "probas = best_en.predict_proba(X_test)[:, 1]\n",
    "precision_recall_curve_with_threshold(y_test, probas, threshold = thresholds[ix])"
   ]
  },
  {
   "cell_type": "code",
   "execution_count": 57,
   "metadata": {},
   "outputs": [
    {
     "name": "stdout",
     "output_type": "stream",
     "text": [
      "Best Threshold=0.118173, G-Mean=0.672\n"
     ]
    }
   ],
   "source": [
    "# best prc threshold\n",
    "yhat = best_en.predict_proba(X_test)\n",
    "# keep probabilities for the positive outcome only\n",
    "yhat = yhat[:, 1]\n",
    "# calculate roc curves\n",
    "fpr, tpr, thresholds = roc_curve(y_test, yhat, pos_label=\"Yes\")\n",
    "# calculate the g-mean for each threshold\n",
    "gmeans = np.sqrt(tpr * (1-fpr))\n",
    "# locate the index of the largest g-mean\n",
    "ix = np.argmax(gmeans)\n",
    "print('Best Threshold=%f, G-Mean=%.3f' % (thresholds[ix], gmeans[ix]))"
   ]
  },
  {
   "cell_type": "code",
   "execution_count": 58,
   "metadata": {
    "scrolled": true
   },
   "outputs": [
    {
     "name": "stdout",
     "output_type": "stream",
     "text": [
      "Area Under ROC Curve (AUC) : 0.712\n",
      "FPR with threshold = 0.11817266645286537: 13.24%\n",
      "TPR with threshold = 0.11817266645286537 : 36.51%\n"
     ]
    },
    {
     "data": {
      "image/png": "[encoded data removed]",
      "text/plain": [
       "<Figure size 432x288 with 1 Axes>"
      ]
     },
     "metadata": {
      "needs_background": "light"
     },
     "output_type": "display_data"
    }
   ],
   "source": [
    "probas = best_en.predict_proba(X_test)[:, 1]\n",
    "roc_auc_curve_with_threshold(y_test, probas, threshold = thresholds[ix])"
   ]
  },
  {
   "cell_type": "code",
   "execution_count": 59,
   "metadata": {},
   "outputs": [],
   "source": [
    "def confusion_threshold(classifier, threshold, X_test, y_test, labels=[\"No\",\"Yes\"]) :\n",
    "    pred = [\"Yes\" if ( proba > threshold ) else \"No\" for proba in classifier.predict_proba(X_test)[:,1]]\n",
    "    confusion_df = pd.DataFrame(confusion_matrix(y_test, pred), index=[\"No\",\"Yes\"], columns=[\"No\",\"Yes\"])\n",
    "    print(classification_report(y_test,pred))\n",
    "    return confusion_df"
   ]
  },
  {
   "cell_type": "code",
   "execution_count": 60,
   "metadata": {},
   "outputs": [
    {
     "name": "stdout",
     "output_type": "stream",
     "text": [
      "              precision    recall  f1-score   support\n",
      "\n",
      "          No       0.87      0.99      0.92      1609\n",
      "         Yes       0.38      0.06      0.10       252\n",
      "\n",
      "    accuracy                           0.86      1861\n",
      "   macro avg       0.62      0.52      0.51      1861\n",
      "weighted avg       0.80      0.86      0.81      1861\n",
      "\n"
     ]
    },
    {
     "data": {
      "text/html": [
       "<div>\n",
       "<style scoped>\n",
       "    .dataframe tbody tr th:only-of-type {\n",
       "        vertical-align: middle;\n",
       "    }\n",
       "\n",
       "    .dataframe tbody tr th {\n",
       "        vertical-align: top;\n",
       "    }\n",
       "\n",
       "    .dataframe thead th {\n",
       "        text-align: right;\n",
       "    }\n",
       "</style>\n",
       "<table border=\"1\" class=\"dataframe\">\n",
       "  <thead>\n",
       "    <tr style=\"text-align: right;\">\n",
       "      <th></th>\n",
       "      <th>No</th>\n",
       "      <th>Yes</th>\n",
       "    </tr>\n",
       "  </thead>\n",
       "  <tbody>\n",
       "    <tr>\n",
       "      <th>No</th>\n",
       "      <td>1586</td>\n",
       "      <td>23</td>\n",
       "    </tr>\n",
       "    <tr>\n",
       "      <th>Yes</th>\n",
       "      <td>238</td>\n",
       "      <td>14</td>\n",
       "    </tr>\n",
       "  </tbody>\n",
       "</table>\n",
       "</div>"
      ],
      "text/plain": [
       "       No  Yes\n",
       "No   1586   23\n",
       "Yes   238   14"
      ]
     },
     "execution_count": 60,
     "metadata": {},
     "output_type": "execute_result"
    }
   ],
   "source": [
    "confusion_threshold(best_en, 0.5, X_test, y_test, labels=[\"No\",\"Yes\"])"
   ]
  },
  {
   "cell_type": "code",
   "execution_count": 61,
   "metadata": {},
   "outputs": [
    {
     "name": "stdout",
     "output_type": "stream",
     "text": [
      "              precision    recall  f1-score   support\n",
      "\n",
      "          No       0.90      0.86      0.88      1609\n",
      "         Yes       0.31      0.41      0.36       252\n",
      "\n",
      "    accuracy                           0.80      1861\n",
      "   macro avg       0.61      0.64      0.62      1861\n",
      "weighted avg       0.82      0.80      0.81      1861\n",
      "\n"
     ]
    },
    {
     "data": {
      "text/html": [
       "<div>\n",
       "<style scoped>\n",
       "    .dataframe tbody tr th:only-of-type {\n",
       "        vertical-align: middle;\n",
       "    }\n",
       "\n",
       "    .dataframe tbody tr th {\n",
       "        vertical-align: top;\n",
       "    }\n",
       "\n",
       "    .dataframe thead th {\n",
       "        text-align: right;\n",
       "    }\n",
       "</style>\n",
       "<table border=\"1\" class=\"dataframe\">\n",
       "  <thead>\n",
       "    <tr style=\"text-align: right;\">\n",
       "      <th></th>\n",
       "      <th>No</th>\n",
       "      <th>Yes</th>\n",
       "    </tr>\n",
       "  </thead>\n",
       "  <tbody>\n",
       "    <tr>\n",
       "      <th>No</th>\n",
       "      <td>1380</td>\n",
       "      <td>229</td>\n",
       "    </tr>\n",
       "    <tr>\n",
       "      <th>Yes</th>\n",
       "      <td>148</td>\n",
       "      <td>104</td>\n",
       "    </tr>\n",
       "  </tbody>\n",
       "</table>\n",
       "</div>"
      ],
      "text/plain": [
       "       No  Yes\n",
       "No   1380  229\n",
       "Yes   148  104"
      ]
     },
     "execution_count": 61,
     "metadata": {},
     "output_type": "execute_result"
    }
   ],
   "source": [
    "confusion_threshold(best_en, 0.21565546996069843, X_test, y_test, labels=[\"No\",\"Yes\"])"
   ]
  },
  {
   "cell_type": "code",
   "execution_count": 62,
   "metadata": {},
   "outputs": [
    {
     "name": "stdout",
     "output_type": "stream",
     "text": [
      "              precision    recall  f1-score   support\n",
      "\n",
      "          No       0.93      0.62      0.75      1609\n",
      "         Yes       0.23      0.72      0.35       252\n",
      "\n",
      "    accuracy                           0.64      1861\n",
      "   macro avg       0.58      0.67      0.55      1861\n",
      "weighted avg       0.84      0.64      0.69      1861\n",
      "\n"
     ]
    },
    {
     "data": {
      "text/html": [
       "<div>\n",
       "<style scoped>\n",
       "    .dataframe tbody tr th:only-of-type {\n",
       "        vertical-align: middle;\n",
       "    }\n",
       "\n",
       "    .dataframe tbody tr th {\n",
       "        vertical-align: top;\n",
       "    }\n",
       "\n",
       "    .dataframe thead th {\n",
       "        text-align: right;\n",
       "    }\n",
       "</style>\n",
       "<table border=\"1\" class=\"dataframe\">\n",
       "  <thead>\n",
       "    <tr style=\"text-align: right;\">\n",
       "      <th></th>\n",
       "      <th>No</th>\n",
       "      <th>Yes</th>\n",
       "    </tr>\n",
       "  </thead>\n",
       "  <tbody>\n",
       "    <tr>\n",
       "      <th>No</th>\n",
       "      <td>1005</td>\n",
       "      <td>604</td>\n",
       "    </tr>\n",
       "    <tr>\n",
       "      <th>Yes</th>\n",
       "      <td>71</td>\n",
       "      <td>181</td>\n",
       "    </tr>\n",
       "  </tbody>\n",
       "</table>\n",
       "</div>"
      ],
      "text/plain": [
       "       No  Yes\n",
       "No   1005  604\n",
       "Yes    71  181"
      ]
     },
     "execution_count": 62,
     "metadata": {},
     "output_type": "execute_result"
    }
   ],
   "source": [
    "confusion_threshold(best_en, 0.11817266645286537, X_test, y_test, labels=[\"No\",\"Yes\"])"
   ]
  },
  {
   "cell_type": "code",
   "execution_count": 64,
   "metadata": {},
   "outputs": [],
   "source": [
    "from sklearn.calibration import CalibratedClassifierCV\n",
    "\n",
    "calibrated_classifier = CalibratedClassifierCV(\n",
    "    base_estimator = best_en,\n",
    "    method = 'sigmoid', # 'sigmoid' or 'isotonic'\n",
    "    ensemble = False,\n",
    "    cv = 8, # int of 'prefit'\n",
    "    n_jobs = -1,\n",
    ")"
   ]
  },
  {
   "cell_type": "code",
   "execution_count": 65,
   "metadata": {},
   "outputs": [
    {
     "name": "stdout",
     "output_type": "stream",
     "text": [
      "Wall time: 7.93 s\n"
     ]
    },
    {
     "data": {
      "text/plain": [
       "CalibratedClassifierCV(base_estimator=LogisticRegression(C=7.742636826811269,\n",
       "                                                         l1_ratio=0.5,\n",
       "                                                         max_iter=500,\n",
       "                                                         penalty='elasticnet',\n",
       "                                                         random_state=42,\n",
       "                                                         solver='saga'),\n",
       "                       cv=8, ensemble=False, n_jobs=-1)"
      ]
     },
     "execution_count": 65,
     "metadata": {},
     "output_type": "execute_result"
    }
   ],
   "source": [
    "%time calibrated_classifier.fit(X_train, y_train)"
   ]
  },
  {
   "cell_type": "code",
   "execution_count": 66,
   "metadata": {},
   "outputs": [],
   "source": [
    "def specificity_score(y_true, y_predict):\n",
    "    '''\n",
    "    Computes the proba that a label is 0 knowing that the prediction is 0\n",
    "    '''\n",
    "    y_predict_0  = [(pred, true) for pred, true in zip(y_predict, y_true) if true == \"No\"]\n",
    "    y_predict_00 = [(pred, true) for pred, true in y_predict_0 if pred == \"No\"]\n",
    "    specificity  = (0 if len(y_predict_0) == \"No\" else len(y_predict_00)/len(y_predict_0))\n",
    "    return specificity"
   ]
  },
  {
   "cell_type": "code",
   "execution_count": 67,
   "metadata": {},
   "outputs": [
    {
     "name": "stdout",
     "output_type": "stream",
     "text": [
      "Accuracy : 86.03%\n",
      "Recall : 3.17%\n",
      "Precision : 33.33%\n",
      "Specificity : 99.01%\n",
      "F1-score : 5.80%\n"
     ]
    }
   ],
   "source": [
    "y_predict_test = calibrated_classifier.predict(X_test)\n",
    "\n",
    "acc = metrics.accuracy_score(y_test, y_predict_test)\n",
    "rec = metrics.recall_score(y_test, y_predict_test, pos_label=\"Yes\")\n",
    "prc = metrics.precision_score(y_test, y_predict_test, pos_label=\"Yes\")\n",
    "spe = specificity_score(y_test, y_predict_test)\n",
    "f1  = metrics.f1_score(y_test, y_predict_test, pos_label=\"Yes\")\n",
    "\n",
    "print('Accuracy : {:.2f}%'.format(acc*100))\n",
    "print('Recall : {:.2f}%'.format(rec*100))\n",
    "print('Precision : {:.2f}%'.format(prc*100))\n",
    "print('Specificity : {:.2f}%'.format(spe*100))\n",
    "print('F1-score : {:.2f}%'.format(f1*100))"
   ]
  },
  {
   "cell_type": "code",
   "execution_count": 68,
   "metadata": {},
   "outputs": [
    {
     "name": "stdout",
     "output_type": "stream",
     "text": [
      "              precision    recall  f1-score   support\n",
      "\n",
      "          No       0.87      0.99      0.92      1609\n",
      "         Yes       0.33      0.03      0.06       252\n",
      "\n",
      "    accuracy                           0.86      1861\n",
      "   macro avg       0.60      0.51      0.49      1861\n",
      "weighted avg       0.79      0.86      0.81      1861\n",
      "\n"
     ]
    },
    {
     "data": {
      "text/html": [
       "<div>\n",
       "<style scoped>\n",
       "    .dataframe tbody tr th:only-of-type {\n",
       "        vertical-align: middle;\n",
       "    }\n",
       "\n",
       "    .dataframe tbody tr th {\n",
       "        vertical-align: top;\n",
       "    }\n",
       "\n",
       "    .dataframe thead th {\n",
       "        text-align: right;\n",
       "    }\n",
       "</style>\n",
       "<table border=\"1\" class=\"dataframe\">\n",
       "  <thead>\n",
       "    <tr style=\"text-align: right;\">\n",
       "      <th></th>\n",
       "      <th>No</th>\n",
       "      <th>Yes</th>\n",
       "    </tr>\n",
       "  </thead>\n",
       "  <tbody>\n",
       "    <tr>\n",
       "      <th>No</th>\n",
       "      <td>1593</td>\n",
       "      <td>16</td>\n",
       "    </tr>\n",
       "    <tr>\n",
       "      <th>Yes</th>\n",
       "      <td>244</td>\n",
       "      <td>8</td>\n",
       "    </tr>\n",
       "  </tbody>\n",
       "</table>\n",
       "</div>"
      ],
      "text/plain": [
       "       No  Yes\n",
       "No   1593   16\n",
       "Yes   244    8"
      ]
     },
     "execution_count": 68,
     "metadata": {},
     "output_type": "execute_result"
    }
   ],
   "source": [
    "confusion_threshold(calibrated_classifier, 0.5, X_test, y_test, labels=[\"No\",\"Yes\"])"
   ]
  },
  {
   "cell_type": "code",
   "execution_count": 69,
   "metadata": {
    "scrolled": true
   },
   "outputs": [
    {
     "name": "stdout",
     "output_type": "stream",
     "text": [
      "              precision    recall  f1-score   support\n",
      "\n",
      "          No       0.90      0.86      0.88      1609\n",
      "         Yes       0.31      0.40      0.35       252\n",
      "\n",
      "    accuracy                           0.80      1861\n",
      "   macro avg       0.60      0.63      0.61      1861\n",
      "weighted avg       0.82      0.80      0.81      1861\n",
      "\n"
     ]
    },
    {
     "data": {
      "text/html": [
       "<div>\n",
       "<style scoped>\n",
       "    .dataframe tbody tr th:only-of-type {\n",
       "        vertical-align: middle;\n",
       "    }\n",
       "\n",
       "    .dataframe tbody tr th {\n",
       "        vertical-align: top;\n",
       "    }\n",
       "\n",
       "    .dataframe thead th {\n",
       "        text-align: right;\n",
       "    }\n",
       "</style>\n",
       "<table border=\"1\" class=\"dataframe\">\n",
       "  <thead>\n",
       "    <tr style=\"text-align: right;\">\n",
       "      <th></th>\n",
       "      <th>No</th>\n",
       "      <th>Yes</th>\n",
       "    </tr>\n",
       "  </thead>\n",
       "  <tbody>\n",
       "    <tr>\n",
       "      <th>No</th>\n",
       "      <td>1384</td>\n",
       "      <td>225</td>\n",
       "    </tr>\n",
       "    <tr>\n",
       "      <th>Yes</th>\n",
       "      <td>152</td>\n",
       "      <td>100</td>\n",
       "    </tr>\n",
       "  </tbody>\n",
       "</table>\n",
       "</div>"
      ],
      "text/plain": [
       "       No  Yes\n",
       "No   1384  225\n",
       "Yes   152  100"
      ]
     },
     "execution_count": 69,
     "metadata": {},
     "output_type": "execute_result"
    }
   ],
   "source": [
    "confusion_threshold(calibrated_classifier, 0.21565546996069843, X_test, y_test, labels=[\"No\",\"Yes\"])"
   ]
  },
  {
   "cell_type": "code",
   "execution_count": 70,
   "metadata": {},
   "outputs": [
    {
     "name": "stdout",
     "output_type": "stream",
     "text": [
      "              precision    recall  f1-score   support\n",
      "\n",
      "          No       0.93      0.61      0.74      1609\n",
      "         Yes       0.22      0.73      0.34       252\n",
      "\n",
      "    accuracy                           0.62      1861\n",
      "   macro avg       0.58      0.67      0.54      1861\n",
      "weighted avg       0.84      0.62      0.68      1861\n",
      "\n"
     ]
    },
    {
     "data": {
      "text/html": [
       "<div>\n",
       "<style scoped>\n",
       "    .dataframe tbody tr th:only-of-type {\n",
       "        vertical-align: middle;\n",
       "    }\n",
       "\n",
       "    .dataframe tbody tr th {\n",
       "        vertical-align: top;\n",
       "    }\n",
       "\n",
       "    .dataframe thead th {\n",
       "        text-align: right;\n",
       "    }\n",
       "</style>\n",
       "<table border=\"1\" class=\"dataframe\">\n",
       "  <thead>\n",
       "    <tr style=\"text-align: right;\">\n",
       "      <th></th>\n",
       "      <th>No</th>\n",
       "      <th>Yes</th>\n",
       "    </tr>\n",
       "  </thead>\n",
       "  <tbody>\n",
       "    <tr>\n",
       "      <th>No</th>\n",
       "      <td>975</td>\n",
       "      <td>634</td>\n",
       "    </tr>\n",
       "    <tr>\n",
       "      <th>Yes</th>\n",
       "      <td>69</td>\n",
       "      <td>183</td>\n",
       "    </tr>\n",
       "  </tbody>\n",
       "</table>\n",
       "</div>"
      ],
      "text/plain": [
       "      No  Yes\n",
       "No   975  634\n",
       "Yes   69  183"
      ]
     },
     "execution_count": 70,
     "metadata": {},
     "output_type": "execute_result"
    }
   ],
   "source": [
    "confusion_threshold(calibrated_classifier, 0.11817266645286537, X_test, y_test, labels=[\"No\",\"Yes\"])"
   ]
  },
  {
   "cell_type": "code",
   "execution_count": null,
   "metadata": {},
   "outputs": [],
   "source": []
  }
 ],
 "metadata": {
  "kernelspec": {
   "display_name": "Python 3 (ipykernel)",
   "language": "python",
   "name": "python3"
  },
  "language_info": {
   "codemirror_mode": {
    "name": "ipython",
    "version": 3
   },
   "file_extension": ".py",
   "mimetype": "text/x-python",
   "name": "python",
   "nbconvert_exporter": "python",
   "pygments_lexer": "ipython3",
   "version": "3.7.11"
  }
 },
 "nbformat": 4,
 "nbformat_minor": 4
}
