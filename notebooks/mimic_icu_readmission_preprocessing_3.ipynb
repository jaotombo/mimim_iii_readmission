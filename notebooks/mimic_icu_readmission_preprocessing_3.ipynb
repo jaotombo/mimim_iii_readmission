{
 "cells": [
  {
   "cell_type": "code",
   "execution_count": 1,
   "id": "83e5e161",
   "metadata": {},
   "outputs": [],
   "source": [
    "import warnings\n",
    "warnings.filterwarnings(\"ignore\")"
   ]
  },
  {
   "cell_type": "code",
   "execution_count": 2,
   "id": "ccaebafc",
   "metadata": {
    "scrolled": true
   },
   "outputs": [
    {
     "name": "stderr",
     "output_type": "stream",
     "text": [
      "[nltk_data] Downloading package punkt to\n",
      "[nltk_data]     C:\\Users\\Franck\\AppData\\Roaming\\nltk_data...\n",
      "[nltk_data]   Package punkt is already up-to-date!\n",
      "[nltk_data] Downloading package stopwords to\n",
      "[nltk_data]     C:\\Users\\Franck\\AppData\\Roaming\\nltk_data...\n",
      "[nltk_data]   Package stopwords is already up-to-date!\n"
     ]
    }
   ],
   "source": [
    "import os\n",
    "import pandas as pd\n",
    "import re\n",
    "from IPython.display import display, HTML\n",
    "import spacy\n",
    "#import en_core_web_lg\n",
    "from spacy.lang.en.stop_words import STOP_WORDS\n",
    "from nltk.stem.snowball import SnowballStemmer\n",
    "from nltk.stem.wordnet import WordNetLemmatizer\n",
    "\n",
    "\n",
    "##for clustering\n",
    "import nltk\n",
    "nltk.download('punkt')\n",
    "nltk.download('stopwords')\n",
    "from nltk import word_tokenize\n",
    "\n",
    "##To download packages directly from jupyter notebook\n",
    "import sys ##execute the pip installs if you are running this for the first time\n",
    "# !{sys.executable} -m pip install gensim\n",
    "# !{sys.executable} -m pip install pyLDAvis\n",
    "\n",
    "# display(HTML(\"<style>div.output_scroll { width: 80em; }</style>\"))\n",
    "\n",
    "%matplotlib inline  \n",
    "import matplotlib.pyplot as plt"
   ]
  },
  {
   "cell_type": "code",
   "execution_count": 3,
   "id": "5f5acb98",
   "metadata": {},
   "outputs": [
    {
     "data": {
      "text/plain": [
       "'F:\\\\Dropbox\\\\Travaux_JAOTOMBO\\\\These_Sante_Publique\\\\Mimic3\\\\Codes'"
      ]
     },
     "execution_count": 3,
     "metadata": {},
     "output_type": "execute_result"
    }
   ],
   "source": [
    "os.getcwd()"
   ]
  },
  {
   "cell_type": "code",
   "execution_count": 4,
   "id": "52ed1aa6",
   "metadata": {},
   "outputs": [
    {
     "data": {
      "text/plain": [
       "'F:\\\\Dropbox\\\\Travaux_JAOTOMBO\\\\These_Sante_Publique\\\\Mimic3\\\\Codes\\\\..\\\\Readmission\\\\Data\\\\icu_only'"
      ]
     },
     "execution_count": 4,
     "metadata": {},
     "output_type": "execute_result"
    }
   ],
   "source": [
    "DATA_PATH = os.path.join(os.getcwd(), \"..\",\"Readmission\",\"Data\",\"icu_only\")"
   ]
  },
  {
   "cell_type": "code",
   "execution_count": 6,
   "id": "1bdc9aa7",
   "metadata": {},
   "outputs": [],
   "source": [
    "raw_df = pd.read_feather(os.path.join(DATA_PATH,\"df_cleaned\"))"
   ]
  },
  {
   "cell_type": "code",
   "execution_count": 7,
   "id": "ad707f48",
   "metadata": {},
   "outputs": [
    {
     "name": "stdout",
     "output_type": "stream",
     "text": [
      "<class 'pandas.core.frame.DataFrame'>\n",
      "RangeIndex: 33316 entries, 0 to 33315\n",
      "Data columns (total 16 columns):\n",
      " #   Column           Non-Null Count  Dtype         \n",
      "---  ------           --------------  -----         \n",
      " 0   index            33316 non-null  int64         \n",
      " 1   subject_id       33316 non-null  int64         \n",
      " 2   hadm_id          33316 non-null  int64         \n",
      " 3   admittime        33316 non-null  datetime64[ns]\n",
      " 4   dischtime        33316 non-null  datetime64[ns]\n",
      " 5   first_careunit   33316 non-null  object        \n",
      " 6   last_careunit    33316 non-null  object        \n",
      " 7   age              33316 non-null  float64       \n",
      " 8   gender           33316 non-null  object        \n",
      " 9   marital_status   31754 non-null  object        \n",
      " 10  insurance        33316 non-null  object        \n",
      " 11  diagnosis        33315 non-null  object        \n",
      " 12  admission_type   33316 non-null  object        \n",
      " 13  text             33316 non-null  object        \n",
      " 14  next_readmit_dt  33316 non-null  float64       \n",
      " 15  target           33316 non-null  int32         \n",
      "dtypes: datetime64[ns](2), float64(2), int32(1), int64(3), object(8)\n",
      "memory usage: 3.9+ MB\n"
     ]
    }
   ],
   "source": [
    "raw_df.info()"
   ]
  },
  {
   "cell_type": "code",
   "execution_count": 8,
   "id": "a10f22de",
   "metadata": {},
   "outputs": [],
   "source": [
    "df = raw_df.copy()"
   ]
  },
  {
   "cell_type": "code",
   "execution_count": null,
   "id": "b316f754",
   "metadata": {
    "scrolled": true
   },
   "outputs": [],
   "source": [
    "#df[\"text\"][0]"
   ]
  },
  {
   "cell_type": "code",
   "execution_count": 9,
   "id": "e925afb6",
   "metadata": {},
   "outputs": [],
   "source": [
    "def clean_text(x):\n",
    "    x = \" \".join(x.split())\n",
    "    x= \" \".join((\" \".join(x.split(\"[**\"))).split(\"**]\"))\n",
    "    x = re.sub(r\"\\([^()]*\\)\", \"\", x)\n",
    "    key_value_strip =(x.split(\":\"))\n",
    "    ##remove all sub strings which have a length lesser than 50 characters\n",
    "    string = \" \".join([sub_unit for sub_unit in key_value_strip if len(sub_unit)>50])\n",
    "    x = re.sub(r\"(\\d+)+(\\.|\\))\", \"\", string)## remove all serialization eg 1. 1)\n",
    "    x = re.sub(r\"(\\*|\\?|=)+\", \"\", x) ##removing all *, ? and =\n",
    "    x = re.sub(r\"\\b(\\w+)( \\1\\b)+\", r\"\\1\", x) ## removing consecutive duplicate words\n",
    "    x = x.replace(\"FOLLOW UP\", \"FOLLOWUP\")\n",
    "    x = x.replace(\"FOLLOW-UP\", \"FOLLOWUP\")\n",
    "    x = re.sub(r\"(\\b)(f|F)(irst)(\\b)?[\\d\\-\\d]*(\\s)*(\\b)?(n|N)(ame)[\\d\\-\\d]*(\\s)*[\\d\\-\\d]*(\\b)\",\"\",x)##remove firstname\n",
    "    x = re.sub(r\"(\\b)(l|L)(ast)(\\b)?[\\d\\-\\d]*(\\s)*(\\b)?(n|N)(ame)[\\d\\-\\d]*(\\s)*[\\d\\-\\d]*(\\b)\", \"\", x)\n",
    "    x = re.sub(r\"(\\b)(d|D)\\.?(r|R)\\.?(\\b)\", \"\", x) #remove Dr abreviation\n",
    "    x = re.sub(r\"(\\b)(m|M)\\.?(d|D)\\.?(\\b)\", \"\", x) #remove M.D. abreviation\n",
    "    x = re.sub(r\"([^A-Za-z0-9\\s](\\s)){2,}\", \"\", x)##remove consecutive punctuations\n",
    "\n",
    "    return(x.replace(\"  \", \" \"))"
   ]
  },
  {
   "cell_type": "code",
   "execution_count": 10,
   "id": "e7b93954",
   "metadata": {},
   "outputs": [
    {
     "name": "stdout",
     "output_type": "stream",
     "text": [
      "Wall time: 2min 8s\n"
     ]
    }
   ],
   "source": [
    "%time df[\"text\"] = df[\"text\"].apply(lambda x: clean_text(x))"
   ]
  },
  {
   "cell_type": "code",
   "execution_count": 11,
   "id": "9879c295",
   "metadata": {
    "collapsed": true,
    "jupyter": {
     "outputs_hidden": true
    },
    "tags": []
   },
   "outputs": [
    {
     "data": {
      "text/html": [
       "<table border=\"1\" class=\"dataframe\">\n",
       "  <thead>\n",
       "    <tr style=\"text-align: right;\">\n",
       "      <th></th>\n",
       "      <th>index</th>\n",
       "      <th>subject_id</th>\n",
       "      <th>hadm_id</th>\n",
       "      <th>admittime</th>\n",
       "      <th>dischtime</th>\n",
       "      <th>first_careunit</th>\n",
       "      <th>last_careunit</th>\n",
       "      <th>age</th>\n",
       "      <th>gender</th>\n",
       "      <th>marital_status</th>\n",
       "      <th>insurance</th>\n",
       "      <th>diagnosis</th>\n",
       "      <th>admission_type</th>\n",
       "      <th>text</th>\n",
       "      <th>next_readmit_dt</th>\n",
       "      <th>target</th>\n",
       "    </tr>\n",
       "  </thead>\n",
       "  <tbody>\n",
       "    <tr>\n",
       "      <th>0</th>\n",
       "      <td>0</td>\n",
       "      <td>3</td>\n",
       "      <td>145834</td>\n",
       "      <td>2101-10-20 19:08:00</td>\n",
       "      <td>2101-10-31 13:58:00</td>\n",
       "      <td>MICU</td>\n",
       "      <td>MICU</td>\n",
       "      <td>76.526788</td>\n",
       "      <td>M</td>\n",
       "      <td>MARRIED</td>\n",
       "      <td>Medicare</td>\n",
       "      <td>HYPOTENSION</td>\n",
       "      <td>EMERGENCY</td>\n",
       "      <td>Admitted from rehabilitation for hypotension and decreased urine output. HISTORY OF PRESENT ILLNESS The patient is a 76-year-old male who had been hospitalized at the Hospital1 190 from 10-11 through 10-19 of 2101 after undergoing a left femoral-AT bypass graft and was subsequently discharged to a rehabilitation facility. On 2101-10-20 , he presented again to the Hospital1 346 after being found to have a systolic blood pressure in the 70s and no urine output for 17 hours. A Foley catheter placed at the rehabilitation facility yielded 100 cc of murky/brown urine. There may also have been purulent discharge at the penile meatus at this time. On presentation to the Emergency Department, the patient was without subjective complaints. In the Emergency Department, he was found to have systolic blood pressure of He was given 6 liters of intravenous fluids and transiently started on dopamine for a systolic blood pressure in the s PAST MEDICAL HISTORY  Coronary artery disease with diffuse 3-vessel disease; right-dominant, status post proximal left circumflex stent in 2101-7-9 with occlusion of the distal left circumflex; status post right coronary artery stent on 2101-8-26 . Congestive heart failure . Type 2 diabetes with neuropathy. Hypertension. Diverticulosis . Alzheimer's dementia. History of gastrointestinal bleed . Cardiac risk factors . Hypercholesterolemia. History of methicillin-resistant Staphylococcus aureus and Pseudomonas growth in wound cultures. Severe peripheral vascular disease; status post left femoral-AT bypass graft on 2101-10-11 . Chronic nonhealing foot ulcers. Recent right pedal cellulitis. ALLERGIES The patient has no known drug allergies. MEDICATIONS ON ADMISSION  Vancomycin 1 g intravenously q.24h. for a level of less than 15 . Levofloxacin 250 mg p.o. q.d Metronidazole 500 mg p.o. q.8h Heparin 5000 units subcutaneous b.i.d. Simvastatin 40 mg p.o. q.d. Lisinopril 5 mg p.o. q.d. Furosemide 40 mg p.o. q.d. Vitamin E 400 IU p.o. q.d. Atenolol 25 mg p.o. q.d. Pantoprazole 40 mg p.o. q.d. Ascorbic acid 500 mg p.o. b.i.d. NPH 17 units b.i.d. Regular insulin sliding-scale. Bisacodyl 10 mg p.o./p.r. as needed. Docusate 100 mg p.o. b.i.d. Percocet 5/325 mg one tablet p.o. q.4-6h. as needed for pain. Aspirin 81 mg p.o. q.d. Metoprolol 75 mg p.o. b.i.d. SOCIAL HISTORY The patient is retired and had been living at home with his wife prior to his admission to the hospital on 2101-10-11 ; he had been living at Hospital3 1761 for the day prior to admission. He is a social drinker and has a 40-pack-year smoking history; although, he quit smoking 20 years ago. PHYSICAL EXAMINATION ON PRESENTATION Initial physical examination revealed temperature was 1 degrees Fahrenheit, heart rate was 83, blood pressure was 124/42 , respiratory was 24, and his oxygen saturation was 100% on 2 liters nasal cannula. His heart had a regular rate and rhythm. There were normal first and second heart sounds. There was a 2/6 systolic ejection murmur, and there were no rubs or gallops. His lungs were clear to auscultation bilaterally. His abdomen was soft, nontender, and nondistended, and there were hypoactive bowel sounds. He had a palpable bypass graft pulse, Hospital3 17394 dorsalis pedis and posterior tibialis pulses bilaterally; and his surgical incision was clean, dry, and intact. Please note that the above examination was done by the Vascular Surgery team, which was the team that was initially planning to admit the patient to the hospital. PERTINENT LABORATORY DATA ON PRESENTATION On initial laboratory evaluation the patient had a white blood cell count of 7, hematocrit was 2, and platelets were 282, His PT was 5, PTT was 7, and INR was His serum chemistries revealed sodium was 136, potassium was 4, chloride was 99, bicarbonate was 25, blood urea nitrogen was 53, creatinine was 2, and blood glucose was His calcium was 2, magnesium was 4, and phosphate was Blood cultures drawn on admission were pending, but ultimately negative. A urine culture taken on admission was initially pending, but ultimately grew out yeast. A sputum culture taken on admission was also initially pending, but ultimately also grew out yeast. RADIOLOGY/IMAGING His admission chest x-ray demonstrated stable prominence of the right main pulmonary artery; no focal areas of consolidation; overall stable appearance of the chest compared with a 2101-10-15 study. No radiographic evidence of congestive heart failure or pneumonia. His admission electrocardiogram demonstrated a sinus rhythm, nonspecific inferior/lateral T wave changes, low QRS voltages in the limb leads, and T wave changes in V5 and V6 when compared with an electrocardiogram dated 2101-10-12 . An initial abdominal CT was a limited noncontrast examination that demonstrated diffuse vascular calcifications. No evidence of an abdominal aortic aneurysm or free fluid, incompletely imaged coronary artery calcification, a simple left renal cyst, sigmoid diverticulosis, and an enlarged and partially calcified prostate gland. HOSPITAL COURSE BY SYSTEM The patient was initially admitted to the Vascular Intensive Care Unit with hypotension, decreased urine output, and acute renal failure; most likely secondary to a presumed gram-negative urosepsis . While boarding in the Medical Intensive Care Unit on the night of admission, the patient had a sudden cardiorespiratory arrest. He was resuscitated with epinephrine, lidocaine, and direct current cardioversion times four. He was also intubate for airway protection. Following these measures, the patient returned to a sinus rhythm with a systolic blood pressure of approximately 100; the total time elapsed from the beginning of the arrest to the return of a pulse was approximately 16 minutes. He subsequently required double pressors to maintain his blood pressure. An echocardiogram performed at the bedside demonstrated a trivial pericardial effusion and a left ventricular ejection fraction of 20% to 25% in the setting of tachycardia and a hyperdynamic right ventricle; suggesting elevated right-sided filling pressures. Although the definitive etiology of this arrest remained unknown, the most likely trigger was a non-Q-wave myocardial infarction, as his troponin values were elevated to greater than 50 following his arrest. A repeat echocardiogram done on 2101-10-21 demonstrated mild left atrial dilation, an ejection fraction of 15% to 20%, resting regional wall motion abnormalities including inferior, mid, and apical left ventricular akinesis, depressed right ventricular systolic function, and moderate mitral regurgitation. Compared with the prior study of 2101-10-20 ; the left ventricular function was unchanged. There was moderate mitral regurgitation, and the right ventricular function appeared worse. On 2101-10-21 , the patient was loaded with amiodarone and was subsequently started on oral amiodarone. The following day, he was started on heparin intravenously given his elevated serum troponin to greater than 50; this medication was continued for 72 hours. Given his elevated troponins and non-Q-wave myocardial infarction, the patient was a candidate for cardiac catheterization. After discussions between the Medical Intensive Care Unit team and the patient's family, however, the decision was made to not pursue further invasive procedures given that the patient had been made do not resuscitate/do not intubate following the resuscitation mentioned above, and his family no longer wished for aggressive resuscitating measures. By 2101-10-23 , he was off pressors and he was restarted on a beta blocker and ACE inhibitor at low doses. On the evening of 2101-10-25 , the patient complained of substernal chest pain that was relieved by NPG SL and morphine. He also had ST segment depressions in V2 and V3 that reverted to baseline after the resolution of his pain. Therefore, the patient was again started on heparin; although, this was discontinued on 2101-10-26 when the patient ruled out for a myocardial infarction by cardiac enzymes. He again had substernal chest pain on 2101-10-27 ; although, he had no electrocardiogram changes, and he again ruled out for a myocardial infarction by cardiac enzymes. By hospital day four, the patient began to develop evidence of congestive heart failure given his aggressive fluid resuscitation, and gentle diuresis with furosemide was begun. By the time of his transfer to the General Medicine Service on 2101-10-26 , the patient was still significantly volume overloaded following his aggressive fluid resuscitation in the Medical Intensive Care Unit. Therefore, he was continued on the program of gentle diuresis given that he was having signs and symptoms of right-sided congestive heart failure. He achieved adequate diuresis by the time of his discharge to rehabilitation, as his oxygen saturation was greater than 95% on 2 liters nasal cannula. INFECTIOUS DISEASE/SEPSIS The patient was started on gentamicin and piperacillin/tazobactam in addition to the levofloxacin, metronidazole, and vancomycin he was already taking for right lower extremity cellulitis prior to admission for empiric coverage of a presumed gram-negative urosepsis, and he was aggressively hydrated with intravenous fluids. On 2101-10-21 , his levofloxacin and metronidazole was discontinued, and he was started on fluconazole given the growth of yeast on urine culture. He was taken off of gentamicin on hospital day three, and his fluconazole was discontinued on hospital day five . He was taken off of vancomycin on 2101-10-28 , and his piperacillin/tazobactam was discontinued on 2101-10-29 . Despite the presumption of a gram-negative urosepsis precipitating this admission, the patient did not have any positive blood or urine cultures aside from the growth of yeast in two urine cultures noted above. He remained afebrile both before and after discontinuation of his antibiotics, and he was found to be Clostridium difficile negative on 2101-10-28 . PULMONARY As noted above, the patient was intubated and he was extubated on 2101-10-24 . He subsequently developed wheezing and mild hypoxia; most likely secondary to cardiac asthma and fluid overload in the setting of his aggressive fluid resuscitation. He was gently diuresed toward the end of his hospitalization, and by the time of his he was maintaining an oxygen saturation of greater than 95% on 2 liters nasal cannula, intermittent ipratropium nebulizers, and chest physical therapy for clearance of his respiratory secretions. RENAL The patient presented with acute renal failure and prerenal azotemia that rapidly resolved following fluid resuscitation. By the time of discharge, his serum creatinine was stable and at his preadmission baseline. NUTRITION The patient was found to be profoundly malnourished with a serum albumin of 8 on admission. Once he was extubated and taking orals, he performed poorly on a modified barium swallowing study and was started on a thin liquid, ground-solid diet with whole medication tablets, small bites and sips, upright posture with meals, and aspiration precautions. He was also given ProMod shakes with and between meals for nutritional supplementation of his heart-healthy/diabetic diet. VASCULAR The patient's operative incisions and foot ulcers continued to heal throughout this admission. He was started on an multivitamin, vitamin C, and zinc for improved wound healing. HEMATOLOGY The patient was transfused one unit of packed red blood cells on 2101-10-27 to maintain a hematocrit of greater than 30 given his history of severe coronary artery disease. His hematocrit subsequently remained stable. CONDITION AT DISCHARGE Condition on discharge was stable. DISCHARGE STATUS   rehabilitation facility. DISCHARGE DIAGNOSES  Cardiorespiratory arrest. Non-Q-wave myocardial infarction. Acute renal failure. Coronary artery disease with diffuse 3-vessel disease; right-dominant, status post proximal left circumflex stent in 2101-7-9 with occlusion of distal left circumflex; status post right coronary artery stent on 2101-10-27 . Congestive heart failure . Type 2 diabetes with neuropathy. Hypertension. Diverticulosis . Alzheimer's dementia. History of gastrointestinal bleed . Cardiac risk factors . History of methicillin-resistant Staphylococcus aureus and Pseudomonas growth in wound cultures. Severe peripheral vascular disease; status post left femoral-AT bypass graft on 2101-10-11 . Chronic nonhealing foot ulcers. MEDICATIONS ON DISCHARGE  Amiodarone 400 mg p.o. b.i.dthen 400 mg p.o. q.dthen 200 mg p.o. q.d. Metoprolol 50 mg p.o. b.i.d. Captopril 25 mg p.o. t.i.d. Aspirin 325 mg p.o. q.d. Pantoprazole 40 mg p.o. q.d. Heparin 5000 units subcutaneously b.i.d. Multivitamin one tablet p.o. q.d. Zinc sulfate 220 mg p.o. q.d. Vitamin C 500 mg p.o. q.d. Ipratropium nebulizers q.4-6h. as needed . Acetaminophen 325 mg to 650 mg p.o. q.4-6h. as needed . Miconazole 2% powder to groin b.i.d. Santyl lotion to heels b.i.d. Regular insulin sliding-scale. CODE STATUS If applicable, an addendum to this Discharge Summary will be dictated to include follow-up appointments as well as any changes to the medication list noted above.   Number 1605 Dictated By</td>\n",
       "      <td>0.0</td>\n",
       "      <td>0</td>\n",
       "    </tr>\n",
       "    <tr>\n",
       "      <th>1</th>\n",
       "      <td>1</td>\n",
       "      <td>4</td>\n",
       "      <td>185777</td>\n",
       "      <td>2191-03-16 00:28:00</td>\n",
       "      <td>2191-03-23 18:41:00</td>\n",
       "      <td>MICU</td>\n",
       "      <td>MICU</td>\n",
       "      <td>47.845044</td>\n",
       "      <td>F</td>\n",
       "      <td>SINGLE</td>\n",
       "      <td>Private</td>\n",
       "      <td>FEVER,DEHYDRATION,FAILURE TO THRIVE</td>\n",
       "      <td>EMERGENCY</td>\n",
       "      <td>Shortness of breath and fevers. HISTORY OF PRESENT ILLNESS The patient is a 47-year-old female with a history of human immunodeficiency virus , cirrhosis, diabetes, and hypothyroidism presented with eight days of fevers to 104, chills, shortness of breath, cough, dyspnea on exertion, and fatigue. The patient states she has become progressively dyspneic to the point where she is short of breath with speaking. She has also had night sweats for the past two days and whitish sputum. She complains of myalgias. No recent ill contacts. Name  known tuberculosis exposure. In the Emergency Department, the patient was initially 96% on room air, with a respiratory rate of 20, and a heart rate of A chest x-ray showed diffuse interstitial opacities. She received 3 liters of normal saline, clindamycin, and primaquine for likely Pneumocystis carinii pneumonia. She spiked a temperature to 1 and became progressively dyspneic with her respiratory rate increasing to 40, and her oxygen saturations dropping to 89% on room air. She was placed on 6 liters by nasal cannula, and an arterial blood gas showed 47/28/ The patient was given prednisone and aztreonam for possible cholangitis. PAST MEDICAL HISTORY  Human immunodeficiency virus diagnosed in 2175 ; acquired from her ex-husband . Cirrhosis; status post liver biopsy in 2190-10-13 consistent with cytosis and sinusoidal fibrosis consistent with toxic metabolic disease possibly from highly active antiretroviral therapy. Insulin-dependent diabetes mellitus since 2190-10-13 . Hypothyroidism. Esophagogastroduodenoscopy in 2190-11-13 was normal with no varices. MEDICATIONS ON ADMISSION  Viread 300 mg once per day. Epivir 150 mg twice per day. Acyclovir 400 mg twice per day. Diflucan 200 mg twice per day. Videx 400 mg once per day. Zantac 150 mg once per day. Klonopin as needed. Lantus 6 units subcutaneously in the morning; no sliding-scale. ALLERGIES PENICILLIN and SULFA DRUGS . DAPSONE . FAMILY HISTORY Family history was noncontributory. SOCIAL HISTORY The patient lives at home with her son. She quit tobacco five years ago. No alcohol. No illicit drugs. No intravenous drug use. No transfusions. PHYSICAL EXAMINATION ON PRESENTATION On admission, the patient had a temperature of 1, her heart rate was 118, her respiratory rate was 40, her blood pressure was 117/57, and her oxygen saturation was 89% on room air and 94% on 6 liters. In general, she was ill and toxic appearing. She was unable to speak in complete sentences. She was cachectic. Head, eyes, ears, nose, and throat examination revealed anicteric. The mucous membranes were dry. The extraocular movements were intact. No thrush. The neck was supple. There was no jugular venous distention. Thorax revealed bilateral basilar rales. No wheezes. Cardiovascular examination revealed tachycardia. There were no murmurs. The abdomen revealed mild diffuse tenderness to percussion, hepatomegaly 6 cm below the costal margin, no spleen palpated, positive bowel sounds. There was no rebound or guarding. Extremities revealed no lower extremity edema. Pulses were 2+. Neurologic examination revealed cranial nerves II through XII were intact. Strength was 5-18 in all extremities. PERTINENT LABORATORY VALUES ON PRESENTATION The patient had a white blood cell count of 7 , and her hematocrit was Chemistries were within normal limits with a blood urea nitrogen of 9 and a creatinine of Her aspartate aminotransferase was 69, her alanine-aminotransferase was 28, her alkaline phosphatase was 994, and her total bilirubin was 2, and her direct bilirubin was Her lactate was Urinalysis was negative for leukocyte esterase or nitrites. It was positive for 30 protein. PERTINENT RADIOLOGY/IMAGING An electrocardiogram revealed sinus tachycardia; unchanged from 2187 . A chest x-ray revealed bilateral interstitial opacities in the left mid lung; consistent with Pneumocystis carinii pneumonia or viral pneumonia. A right upper quadrant ultrasound revealed no cholelithiasis. No gallbladder wall edema. Common bile duct was 4 mm. BRIEF SUMMARY OF HOSPITAL COURSE BY ISSUE/SYSTEM From the Emergency Room, the patient was transferred to the Hospital Ward Name 332 Intensive Care Unit secondary to respiratory distress. Symptoms consistent with a respectively alkalosis. A chest x-ray was consistent with possible Pneumocystis pneumonia versus a viral pneumonia. Given her allergies to both sulfa and dapsone, she was started on empiric Pneumocystis carinii pneumonia coverage with primaquine and clindamycin. She was also started on prednisone given her low oxygen saturations, and given her low PAO In the Hospital Ward Name 332 Intensive Care Unit, she requested noninvasive positive pressure ventilation. A bronchoscopy was performed with 1+ gram-positive cocci in pairs and positive Pneumocystis carinii pneumonia. Acid-fast bacillus smears were negative. The patient's respiratory status continued to improve on her medication regimen. She was weaned off of the noninvasive positive pressure ventilation and eventually was able to saturate 98% on room air. She was to be continued on primaquine and clindamycin for a total of a 21-day course of antibiotics as well as a 21-day steroid taper. BACTEREMIA ISSUES The patient's blood cultures from admission from 3-15 and 3-16 grew out methicillin-sensitive Staphylococcus aureus . At that time, the patient was started on vancomycin therapy with quick clearance of her blood cultures. A transthoracic echocardiogram was performed to rule out endocarditis, and it did not show any valvular abnormalities; although, the tricuspid valve was obscured by her peripherally inserted central catheter line. The subsequent surveillance blood cultures from 3-17 on were negative, and the patient was to be continued on vancomycin intravenously for a 3-week course. After that time, blood cultures should be repeated for surveillance. The patient remained afebrile during the remainder of her hospital stay. CIRRHOSIS ISSUES The patient has Child A class cirrhosis from a liver biopsy done in 2190-10-13 . Her cirrhosis was thought to be secondary to her highly active antiretroviral therapy. She was to follow up with .  in 2191-4-14 for a visit. A right upper quadrant ultrasound was performed as the patient's alanine-aminotransferase was slightly elevated and was within normal limits. HUMAN IMMUNODEFICIENCY VIRUS ISSUES The patient was restarted on her highly active antiretroviral therapy regimen on hospital day four. The patient tolerated these medications without any problems. She was also continued on acyclovir and fluconazole for prophylaxis. The patient was to follow up with .  in clinic over the next two weeks. DIABETES MELLITUS ISSUES The patient was placed on original regimen of Lantus without a sliding-scale secondary to her steroid taper. Her blood sugars remained elevated while in house; ranging from the 200s to the 400s. Her Lantus was increased to 12 units subcutaneously in the morning, and her sliding-scale was increased as well with improved blood sugars. She was to be discharged on 12 units of Lantus in the morning with a strict sliding-scale for the next three days until her prednisone is tapered; at which time her Lantus will be decreased to 7 units in the morning, and her sliding-scale will be decreased as well. HYPOTHYROIDISM ISSUES The patient was continued on her Levoxyl. ACCESS ISSUES A peripherally inserted central catheter line was placed on 2191-3-19 for intravenous antibiotics. It was found to be in the right atrium on chest x-ray and was pulled back 6 cm with a repeat chest x-ray location in the superior vena cava. She will need the peripherally inserted central catheter line for 14 more days as she finishes her course of intravenous vancomycin. CONDITION AT DISCHARGE The patient was discharged to home. DISCHARGE INSTRUCTIONS/FOLLOWUP The patient was instructed to follow up with .  for cirrhosis and with .  for her human immunodeficiency virus. She was to follow up with . and .  next Friday for primary care. MEDICATIONS ON DISCHARGE  Prednisone 40 mg once per day times three days; then 20 mg once per day times 11 days. Acyclovir 200 mg by mouth twice per day. Fluconazole 200 mg by mouth twice per day. Primaquine 3 two tablets by mouth every day . Levoxyl 25 mcg by mouth once per day. Tenofovir disoproxil fumarate 300 mg by mouth once per day. Lamivudine 300 mg twice per day. Didanosine 400 mg by mouth once per day. Lantus 12 units subcutaneously in the morning times three days; and then 7 units subcutaneously in the morning. Regular insulin sliding-scale as directed . Clindamycin 300 mg by mouth four times per day . Vancomycin 750 mg intravenously twice per day . Codeine/guaifenesin syrup 5 cc to 10 cc by mouth q.6h. as needed. Klonopin 75 mg by mouth in the morning and 5 mg by mouth at hour of sleep. Multivitamin one tablet by mouth once per day. Name6 2415   Number 3475 Dictated By</td>\n",
       "      <td>0.0</td>\n",
       "      <td>0</td>\n",
       "    </tr>\n",
       "  </tbody>\n",
       "</table>"
      ],
      "text/plain": [
       "<IPython.core.display.HTML object>"
      ]
     },
     "metadata": {},
     "output_type": "display_data"
    }
   ],
   "source": [
    "display(HTML(df.head(2).to_html()))"
   ]
  },
  {
   "cell_type": "code",
   "execution_count": null,
   "id": "84fec5e5",
   "metadata": {
    "jupyter": {
     "source_hidden": true
    },
    "tags": []
   },
   "outputs": [],
   "source": [
    "spacy.prefer_gpu\n",
    "nlp = spacy.load(\"en_core_sci_sm\")\n",
    "\n",
    "def clean_text(text):\n",
    "    sentence = []\n",
    "    for w in text:\n",
    "    # if it's not a punctuation mark nor number, add it to our article!\n",
    "        if w.text != '\\n' and not w.is_punct and not w.like_num and not w.is_digit and not w.is_stop :\n",
    "        # we add the lematized version of the word but do not remove the stopwords (and not w.is_stop)\n",
    "            sentence.append(w.lemma_)\n",
    "    strings = ' '.join(sentence)\n",
    "    return strings   "
   ]
  },
  {
   "cell_type": "code",
   "execution_count": 12,
   "id": "523eeebd-28e8-4f5d-a91a-cebbcc3049b9",
   "metadata": {},
   "outputs": [],
   "source": [
    "#spacy.prefer_gpu\n",
    "nlp = spacy.load(\"en_core_sci_sm\")\n",
    "\n",
    "def clean_more_text(text):\n",
    "    sentence = []\n",
    "    for w in text:\n",
    "    # if it's not a punctuation mark nor number, add it to our article!\n",
    "        if w.text != '\\n' and not w.is_punct and not w.like_num and not w.is_digit and not w.is_stop :\n",
    "        # we add the lematized version of the word but do not remove the stopwords (and not w.is_stop)\n",
    "            sentence.append(w.lemma_)\n",
    "    strings = ' '.join(sentence)\n",
    "    return strings   "
   ]
  },
  {
   "cell_type": "code",
   "execution_count": null,
   "id": "36dd2dd9",
   "metadata": {
    "scrolled": true,
    "tags": []
   },
   "outputs": [],
   "source": [
    "# text = df[\"text\"][0]\n",
    "# text"
   ]
  },
  {
   "cell_type": "code",
   "execution_count": null,
   "id": "8aefe599",
   "metadata": {
    "scrolled": true
   },
   "outputs": [],
   "source": [
    "# doc = nlp(text)\n",
    "# doc"
   ]
  },
  {
   "cell_type": "code",
   "execution_count": null,
   "id": "85917ad6",
   "metadata": {},
   "outputs": [],
   "source": [
    "# clean = clean_text(doc)\n",
    "# clean"
   ]
  },
  {
   "cell_type": "code",
   "execution_count": 13,
   "id": "2d3a48a4",
   "metadata": {},
   "outputs": [],
   "source": [
    "df['doc'] = df[\"text\"].apply(nlp)\n",
    "df['cleaned'] = df['doc'].apply(clean_more_text)"
   ]
  },
  {
   "cell_type": "code",
   "execution_count": null,
   "id": "4d87b091",
   "metadata": {
    "scrolled": true
   },
   "outputs": [],
   "source": [
    "display(HTML(df.head(2).to_html()))"
   ]
  },
  {
   "cell_type": "code",
   "execution_count": null,
   "id": "d91aadf5-3b0d-4ba5-8c43-28039b6ca758",
   "metadata": {
    "tags": []
   },
   "outputs": [],
   "source": [
    "topics = df[\"text\"].apply(lambda text:list(filter(None,[x.strip() for x in re.findall(r\"\\b[A-Z\\s]+\\b\",text)])))\n",
    "topics = topics.tolist() \n",
    "#combine all items from topics and find unique elements \n",
    "topics = sorted(set([sub_topic.strip() for topic in topics for sub_topic in topic]))\n",
    "topics"
   ]
  },
  {
   "cell_type": "code",
   "execution_count": null,
   "id": "e1280226",
   "metadata": {
    "jupyter": {
     "source_hidden": true
    },
    "tags": []
   },
   "outputs": [],
   "source": [
    "topics = df[\"TEXT\"].apply(lambda text:list(filter(None,[x.strip() for x in re.findall(r\"\\b[A-Z\\s]+\\b\",text)])))\n",
    "topics = topics.tolist() \n",
    "#combine all items from topics and find unique elements \n",
    "topics = sorted(set([sub_topic.strip() for topic in topics for sub_topic in topic]))\n",
    "topics"
   ]
  },
  {
   "cell_type": "code",
   "execution_count": null,
   "id": "87df7277",
   "metadata": {},
   "outputs": [],
   "source": [
    "import re\n",
    "import nltk\n",
    "nltk.download('stopwords')\n",
    "from nltk.corpus import stopwords\n",
    "from nltk.stem.snowball import SnowballStemmer\n",
    "stemmer = SnowballStemmer(\"english\", ignore_stopwords=True)\n",
    "from unidecode import unidecode"
   ]
  },
  {
   "cell_type": "code",
   "execution_count": null,
   "id": "b5958b12",
   "metadata": {},
   "outputs": [],
   "source": [
    "# Find out the source !!!\n",
    "\n",
    "med_stopwords = {'street',\n",
    "'address',\n",
    "'required',\n",
    "'powder',\n",
    "'developed',\n",
    "'intermittently',\n",
    "'weekly',\n",
    "'later',\n",
    "'echo',\n",
    "'commands',\n",
    "'comfort',\n",
    "'back',\n",
    "'ultimately',\n",
    "'complete',\n",
    "'daughter',\n",
    "'nutrition',\n",
    "'range',\n",
    "'knee',\n",
    "'subsequently',\n",
    "'summary',\n",
    "'upon',\n",
    "'service',\n",
    "'completed',\n",
    "'consistent',\n",
    "'pattern',\n",
    "'woman',\n",
    "'address',\n",
    "'inhaled',\n",
    "'times',\n",
    "'count',\n",
    "'number',\n",
    "'underwent',\n",
    "'post',\n",
    "'oral',\n",
    "'general',\n",
    "'recommend',\n",
    "'goal',\n",
    "'remains',\n",
    "'need',\n",
    "'report',\n",
    "'solution',\n",
    "'female',\n",
    "'exploratory',\n",
    "'level',\n",
    "'poor',\n",
    "'aggressive',\n",
    "'support',\n",
    "'determined',\n",
    "'hand',\n",
    "'instructions',\n",
    "'follow',\n",
    "'rehabilitation',\n",
    "'large',\n",
    "'decreased',\n",
    "'stay',\n",
    "'four',\n",
    "'hours',\n",
    "'intake',\n",
    "'name',\n",
    "'patient',\n",
    "'access',\n",
    "'good',\n",
    "'comfortable',\n",
    "'type',\n",
    "'initials',\n",
    "'external',\n",
    "'percent',\n",
    "'descending',\n",
    "'output',\n",
    "'collection',\n",
    "'stop',\n",
    "'presented',\n",
    "'unit',\n",
    "'name',\n",
    "'positive',\n",
    "'number',\n",
    "'dictated',\n",
    "'line',\n",
    "'plus',\n",
    "'date',\n",
    "'active',\n",
    "'done',\n",
    "'records',\n",
    "'state',\n",
    "'month',\n",
    "'notable',\n",
    "'requiring',\n",
    "'factor',\n",
    "'current',\n",
    "'male',\n",
    "'history',\n",
    "'number',\n",
    "'completed',\n",
    "'tenderness',\n",
    "'ward',\n",
    "'name',\n",
    "'office',\n",
    "'port',\n",
    "'impression',\n",
    "'trace',\n",
    "'improvement',\n",
    "'group',\n",
    "'scan',\n",
    "'given',\n",
    "'patient',\n",
    "'laboratory',\n",
    "'right',\n",
    "'upper',\n",
    "'however',\n",
    "'patient',\n",
    "'volume',\n",
    "'limited',\n",
    "'suggestive',\n",
    "'presents',\n",
    "'year',\n",
    "'also',\n",
    "\"mg\",\n",
    "\"ml\",\n",
    "\"mm\",\n",
    "\"unchanged\",\n",
    "\"normal\",\n",
    "\"admissions\",\n",
    "\"social\"\n",
    "}"
   ]
  },
  {
   "cell_type": "code",
   "execution_count": null,
   "id": "05a0255f",
   "metadata": {},
   "outputs": [],
   "source": [
    "REPLACE_BY_SPACE_RE = re.compile('[/(){}\\[\\]\\|@,;]')\n",
    "BAD_SYMBOLS_RE = re.compile('[^a-z\\s]')\n",
    "STOPWORDS = set(stopwords.words('english'))"
   ]
  },
  {
   "cell_type": "code",
   "execution_count": null,
   "id": "697732d8",
   "metadata": {},
   "outputs": [],
   "source": [
    "include_stopwords = set(topics)| med_stopwords\n",
    "STOPWORDS |= include_stopwords"
   ]
  },
  {
   "cell_type": "code",
   "execution_count": null,
   "id": "ff037b13",
   "metadata": {},
   "outputs": [],
   "source": [
    "def text_prepare(text) :\n",
    "    \"\"\"\n",
    "        text: a string        \n",
    "        return: modified initial string\n",
    "    \"\"\"\n",
    "        \n",
    "    text = text.lower() # lowercase text\n",
    "    text = unidecode((text))\n",
    "    text = REPLACE_BY_SPACE_RE.sub(\" \", text) # replace REPLACE_BY_SPACE_RE symbols by space in text\n",
    "    text = BAD_SYMBOLS_RE.sub(\" \",text) # delete symbols which are in BAD_SYMBOLS_RE from text\n",
    "    #text =  \" \".join([stemmer.stem(x) for x in text.split()])\n",
    "    #text =  \" \".join([x for x in text.split()])\n",
    "    text =  \" \".join([x for x in text.split()if x not in STOPWORDS]) # delete stopwords from text\n",
    "   \n",
    "    return text"
   ]
  },
  {
   "cell_type": "code",
   "execution_count": null,
   "id": "6d05fa4f",
   "metadata": {},
   "outputs": [],
   "source": [
    "cleaned = text_prepare(clean)\n",
    "cleaned"
   ]
  },
  {
   "cell_type": "code",
   "execution_count": null,
   "id": "bc7d9ab0",
   "metadata": {},
   "outputs": [],
   "source": [
    "df[\"clean\"] = df[\"cleaned\"].apply(lambda x: text_prepare(x))"
   ]
  },
  {
   "cell_type": "code",
   "execution_count": null,
   "id": "0ce2a7fe",
   "metadata": {},
   "outputs": [],
   "source": [
    "display(HTML(df.head(2).to_html()))"
   ]
  },
  {
   "cell_type": "code",
   "execution_count": null,
   "id": "45112981",
   "metadata": {},
   "outputs": [],
   "source": [
    "# df.to_feather(os.path.join(DATA_PATH,\"30_READM_CLEAN_DISCHARGE_ICU\"))"
   ]
  },
  {
   "cell_type": "code",
   "execution_count": null,
   "id": "b7c0abaa",
   "metadata": {},
   "outputs": [],
   "source": []
  }
 ],
 "metadata": {
  "kernelspec": {
   "display_name": "Python 3 (ipykernel)",
   "language": "python",
   "name": "python3"
  },
  "language_info": {
   "codemirror_mode": {
    "name": "ipython",
    "version": 3
   },
   "file_extension": ".py",
   "mimetype": "text/x-python",
   "name": "python",
   "nbconvert_exporter": "python",
   "pygments_lexer": "ipython3",
   "version": "3.7.11"
  }
 },
 "nbformat": 4,
 "nbformat_minor": 5
}
